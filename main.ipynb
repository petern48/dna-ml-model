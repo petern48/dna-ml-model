{
 "cells": [
  {
   "cell_type": "code",
   "execution_count": null,
   "metadata": {},
   "outputs": [],
   "source": [
    "# !pip install pandas\n",
    "# !pip install torch\n",
    "# !pip install tqdm"
   ]
  },
  {
   "cell_type": "code",
   "execution_count": 1,
   "metadata": {},
   "outputs": [],
   "source": [
    "import torch\n",
    "from dna_dataset import *\n",
    "from constants import *\n",
    "# import pandas as pd"
   ]
  },
  {
   "cell_type": "markdown",
   "metadata": {},
   "source": [
    "Unzip the datafile"
   ]
  },
  {
   "cell_type": "code",
   "execution_count": 2,
   "metadata": {},
   "outputs": [
    {
     "name": "stdout",
     "output_type": "stream",
     "text": [
      "Archive:  Files.zip\n",
      "  inflating: Files/accessible.fasta  \n",
      "  inflating: Files/notaccessible.fasta  \n",
      "  inflating: Files/test.fasta        \n"
     ]
    }
   ],
   "source": [
    "!unzip $DATA_ZIP_FILE"
   ]
  },
  {
   "cell_type": "code",
   "execution_count": 2,
   "metadata": {},
   "outputs": [],
   "source": [
    "device = \"cuda\" if torch.cuda.is_available() else \"cpu\""
   ]
  },
  {
   "cell_type": "code",
   "execution_count": 3,
   "metadata": {},
   "outputs": [],
   "source": [
    "train_dataset = DNADataset(ACCESSSIBLE_FILE, NOT_ACCESSIBLE_FILE)"
   ]
  },
  {
   "cell_type": "code",
   "execution_count": 4,
   "metadata": {},
   "outputs": [
    {
     "name": "stdout",
     "output_type": "stream",
     "text": [
      "total sequences 525688\n",
      "num accessible 47239\n",
      "num not accessible 478449\n",
      "example entry 0\n",
      "label 0\n",
      "GAAATAATACCTATTGGGTTGCTTGAACCCGGGTTTTCATTTTATGATGC\n",
      "TAATTTTATTATACTGCACAGAAGCAGATTCATCTAATTCAGGAGCAACT\n",
      "TCATGTGTTATATCTGCAGGATGTACATAGTCAGTTGTTACAACATTATC\n",
      "TCTCTCCTGAGAAACATAGGCAAAGATTCCATGAAAGAAAATTTCTGCAG\n",
      "shuffled\n"
     ]
    }
   ],
   "source": [
    "# ensure the DNADataset is loaded properly\n",
    "print('total sequences', len(train_dataset.sequences))\n",
    "print('num accessible', train_dataset.accessible_count)\n",
    "print('num not accessible', train_dataset.not_accessible_count)\n",
    "i = 0\n",
    "print(f\"example entry {i}\")\n",
    "item = train_dataset[i]\n",
    "print(\"label\", item['label'])\n",
    "print(item['sequence'])\n",
    "\n",
    "# ensure dataset was shuffled properly\n",
    "# check that not all the accessible labels are at the front\n",
    "for i in range(train_dataset.accessible_count):\n",
    "    if train_dataset[i]['label'] != ACCESSIBLE_LABEL:\n",
    "        print('shuffled')\n",
    "        break"
   ]
  },
  {
   "cell_type": "code",
   "execution_count": 8,
   "metadata": {},
   "outputs": [],
   "source": [
    "from tqdm import tqdm\n",
    "\n",
    "batch_size = 32\n",
    "\n",
    "train_loader = torch.utils.data.DataLoader(\n",
    "    train_dataset, batch_size=batch_size, shuffle=True\n",
    ")\n",
    "# val_loader = torch.utils.data.DataLoader(\n",
    "#     val_dataset, batch_size=batch_size, shuffle=True\n",
    "# )\n",
    "\n",
    "# for batch in tqdm(train_loader):  # show the times for each batch\n",
    "#     # Forward propagate\n",
    "#     samples, labels = batch['input_ids'], batch['labels']\n",
    "\n",
    "#     samples.to(device)\n",
    "#     labels.to(device)\n",
    "#     outputs = model(samples)"
   ]
  },
  {
   "cell_type": "code",
   "execution_count": null,
   "metadata": {},
   "outputs": [],
   "source": []
  }
 ],
 "metadata": {
  "kernelspec": {
   "display_name": "acm_sentiment",
   "language": "python",
   "name": "python3"
  },
  "language_info": {
   "codemirror_mode": {
    "name": "ipython",
    "version": 3
   },
   "file_extension": ".py",
   "mimetype": "text/x-python",
   "name": "python",
   "nbconvert_exporter": "python",
   "pygments_lexer": "ipython3",
   "version": "3.11.5"
  }
 },
 "nbformat": 4,
 "nbformat_minor": 2
}
