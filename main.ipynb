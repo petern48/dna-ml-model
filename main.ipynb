{
  "cells": [
    {
      "cell_type": "code",
      "execution_count": 1,
      "metadata": {
        "colab": {
          "base_uri": "https://localhost:8080/"
        },
        "id": "76HJQ9yr9Rm1",
        "outputId": "df4856ec-db6c-4c56-9942-1b864258fdd5"
      },
      "outputs": [
        {
          "output_type": "stream",
          "name": "stdout",
          "text": [
            "Installing collected packages: smmap, setproctitle, sentry-sdk, docker-pycreds, gitdb, GitPython, wandb\n",
            "Successfully installed GitPython-3.1.40 docker-pycreds-0.4.0 gitdb-4.0.11 sentry-sdk-1.38.0 setproctitle-1.3.3 smmap-5.0.1 wandb-0.16.1\n"
          ]
        }
      ],
      "source": [
        "# !pip install pandas\n",
        "# !pip install torch\n",
        "# !pip install tqdm  # pip install ipywidgets or something\n",
        "!pip install wandb"
      ]
    },
    {
      "cell_type": "code",
      "execution_count": 2,
      "metadata": {
        "colab": {
          "base_uri": "https://localhost:8080/",
          "height": 104
        },
        "id": "XeFFJzVy9Rm3",
        "outputId": "b69e27a6-2352-4c54-d449-49a410761a4d"
      },
      "outputs": [
        {
          "output_type": "display_data",
          "data": {
            "text/plain": [
              "<IPython.core.display.Javascript object>"
            ],
            "application/javascript": [
              "\n",
              "        window._wandbApiKey = new Promise((resolve, reject) => {\n",
              "            function loadScript(url) {\n",
              "            return new Promise(function(resolve, reject) {\n",
              "                let newScript = document.createElement(\"script\");\n",
              "                newScript.onerror = reject;\n",
              "                newScript.onload = resolve;\n",
              "                document.body.appendChild(newScript);\n",
              "                newScript.src = url;\n",
              "            });\n",
              "            }\n",
              "            loadScript(\"https://cdn.jsdelivr.net/npm/postmate/build/postmate.min.js\").then(() => {\n",
              "            const iframe = document.createElement('iframe')\n",
              "            iframe.style.cssText = \"width:0;height:0;border:none\"\n",
              "            document.body.appendChild(iframe)\n",
              "            const handshake = new Postmate({\n",
              "                container: iframe,\n",
              "                url: 'https://wandb.ai/authorize'\n",
              "            });\n",
              "            const timeout = setTimeout(() => reject(\"Couldn't auto authenticate\"), 5000)\n",
              "            handshake.then(function(child) {\n",
              "                child.on('authorize', data => {\n",
              "                    clearTimeout(timeout)\n",
              "                    resolve(data)\n",
              "                });\n",
              "            });\n",
              "            })\n",
              "        });\n",
              "    "
            ]
          },
          "metadata": {}
        },
        {
          "output_type": "stream",
          "name": "stderr",
          "text": [
            "\u001b[34m\u001b[1mwandb\u001b[0m: Logging into wandb.ai. (Learn how to deploy a W&B server locally: https://wandb.me/wandb-server)\n",
            "\u001b[34m\u001b[1mwandb\u001b[0m: You can find your API key in your browser here: https://wandb.ai/authorize\n",
            "wandb: Paste an API key from your profile and hit enter, or press ctrl+c to quit:"
          ]
        },
        {
          "name": "stdout",
          "output_type": "stream",
          "text": [
            " ··········\n"
          ]
        },
        {
          "output_type": "stream",
          "name": "stderr",
          "text": [
            "\u001b[34m\u001b[1mwandb\u001b[0m: Appending key for api.wandb.ai to your netrc file: /root/.netrc\n"
          ]
        }
      ],
      "source": [
        "USING_WANDB = True  # Set to false if not Peter\n",
        "\n",
        "if USING_WANDB:\n",
        "    import wandb\n",
        "    wandb.login()\n",
        "    # !wandb login"
      ]
    },
    {
      "cell_type": "code",
      "source": [
        "# !mkdir Files\n",
        "# !mv test.fasta Files\n",
        "# !mv reduced_nonaccessible.fasta Files\n",
        "# !mv accessible.fasta Files"
      ],
      "metadata": {
        "id": "oJn5c8qK-APD"
      },
      "execution_count": 8,
      "outputs": []
    },
    {
      "cell_type": "code",
      "execution_count": 3,
      "metadata": {
        "colab": {
          "base_uri": "https://localhost:8080/"
        },
        "id": "foXB0nMJ9Rm4",
        "outputId": "423b1d78-0354-48d2-8639-869561f66b88"
      },
      "outputs": [
        {
          "output_type": "execute_result",
          "data": {
            "text/plain": [
              "<module 'ConvModel' from '/content/ConvModel.py'>"
            ]
          },
          "metadata": {},
          "execution_count": 3
        }
      ],
      "source": [
        "import dna_dataset, constants, utils, ConvModel\n",
        "import torch.nn as nn, torch.optim as optim, torch\n",
        "from tqdm.notebook import tqdm\n",
        "import importlib, os\n",
        "from datetime import datetime\n",
        "\n",
        "importlib.reload(dna_dataset)\n",
        "importlib.reload(constants)\n",
        "importlib.reload(utils)\n",
        "importlib.reload(ConvModel)"
      ]
    },
    {
      "cell_type": "markdown",
      "metadata": {
        "id": "LFk_Lek79Rm5"
      },
      "source": [
        "Unzip the datafile"
      ]
    },
    {
      "cell_type": "code",
      "execution_count": null,
      "metadata": {
        "id": "gxjgFVQv9Rm6"
      },
      "outputs": [],
      "source": [
        "!unzip $constants.DATA_ZIP_FILE"
      ]
    },
    {
      "cell_type": "code",
      "execution_count": 4,
      "metadata": {
        "id": "VRsIPhjS9Rm6"
      },
      "outputs": [],
      "source": [
        "device = \"cuda\" if torch.cuda.is_available() else \"cpu\""
      ]
    },
    {
      "cell_type": "code",
      "execution_count": 9,
      "metadata": {
        "id": "wApXJhry9Rm6"
      },
      "outputs": [],
      "source": [
        "full_dataset = dna_dataset.DNADataset(constants.ACCESSIBLE_FILE, constants.NOT_ACCESSIBLE_FILE)"
      ]
    },
    {
      "cell_type": "code",
      "execution_count": 10,
      "metadata": {
        "colab": {
          "base_uri": "https://localhost:8080/"
        },
        "id": "qrCkS5X19Rm6",
        "outputId": "2209863c-b283-4044-eb8a-78adc9afc9fc"
      },
      "outputs": [
        {
          "output_type": "stream",
          "name": "stdout",
          "text": [
            "total sequences 94478\n",
            "num accessible 47239\n",
            "num not accessible 47239\n",
            "example entry 0\n",
            "label 0\n",
            "shuffled\n"
          ]
        }
      ],
      "source": [
        "# ensure the DNADataset is loaded properly\n",
        "print('total sequences', len(full_dataset.sequences))\n",
        "print('num accessible', full_dataset.accessible_count)\n",
        "print('num not accessible', full_dataset.not_accessible_count)\n",
        "i = 0\n",
        "print(f\"example entry {i}\")\n",
        "item = full_dataset[i]\n",
        "print(\"label\", item['labels'])\n",
        "# print(item['sequences'])\n",
        "\n",
        "# ensure dataset was shuffled properly\n",
        "# check that not all the accessible labels are at the front\n",
        "for i in range(full_dataset.accessible_count):\n",
        "    if full_dataset[i]['labels'] != constants.ACCESSIBLE_LABEL:\n",
        "        print('shuffled')\n",
        "        break"
      ]
    },
    {
      "cell_type": "code",
      "execution_count": 11,
      "metadata": {
        "colab": {
          "base_uri": "https://localhost:8080/"
        },
        "id": "qX76lE8Y9Rm7",
        "outputId": "2bb91eb3-747c-4d25-98d2-dcfcb4b5ff0d"
      },
      "outputs": [
        {
          "output_type": "stream",
          "name": "stdout",
          "text": [
            "80306 14172\n"
          ]
        }
      ],
      "source": [
        "# Split dataset\n",
        "full_size = len(full_dataset)\n",
        "val_size = round(constants.VALIDATION_SPLIT * full_size)\n",
        "train_size = full_size - val_size\n",
        "\n",
        "train_dataset, val_dataset = torch.utils.data.random_split(full_dataset, [train_size, val_size])\n",
        "\n",
        "print(len(train_dataset), len(val_dataset))\n",
        "assert(len(train_dataset) + len(val_dataset) == full_size)"
      ]
    },
    {
      "cell_type": "code",
      "execution_count": 6,
      "metadata": {
        "colab": {
          "base_uri": "https://localhost:8080/"
        },
        "id": "l7SLRPi59Rm7",
        "outputId": "779be1bc-731d-4682-eb6b-a0dbe6e1d624"
      },
      "outputs": [
        {
          "output_type": "execute_result",
          "data": {
            "text/plain": [
              "CNNModel(\n",
              "  (Conv1): Conv1d(4, 128, kernel_size=(2,), stride=(1,))\n",
              "  (pool1): MaxPool1d(kernel_size=2, stride=2, padding=0, dilation=1, ceil_mode=False)\n",
              "  (Conv2): Conv1d(128, 64, kernel_size=(2,), stride=(1,))\n",
              "  (flatten): Flatten(start_dim=1, end_dim=-1)\n",
              "  (linear1): Linear(in_features=3136, out_features=128, bias=True)\n",
              "  (linear2): Linear(in_features=128, out_features=64, bias=True)\n",
              "  (linear3): Linear(in_features=64, out_features=1, bias=True)\n",
              "  (dropout): Dropout(p=0.2, inplace=False)\n",
              "  (sigmoid): Sigmoid()\n",
              ")"
            ]
          },
          "metadata": {},
          "execution_count": 6
        }
      ],
      "source": [
        "# insert torch model here, that takes sequence as input and output a label 0 or 1\n",
        "model = ConvModel.CNNModel(kernel_size=2, embed_dim=4)\n",
        "model.to(device)"
      ]
    },
    {
      "cell_type": "code",
      "execution_count": 27,
      "metadata": {
        "id": "uuRPn9rw9Rm8"
      },
      "outputs": [],
      "source": [
        "# parameters\n",
        "epochs = constants.EPOCHS\n",
        "batch_size = constants.BATCH_SIZE\n",
        "learning_rate = constants.LEARNING_RATE\n",
        "n_eval = constants.N_EVAL\n",
        "loss_fn = nn.BCELoss()\n",
        "optimizer = optim.Adam(model.parameters())"
      ]
    },
    {
      "cell_type": "code",
      "execution_count": 28,
      "metadata": {
        "id": "XsGb6Nm49Rm8"
      },
      "outputs": [],
      "source": [
        "train_loader = torch.utils.data.DataLoader(\n",
        "    train_dataset, batch_size=batch_size, shuffle=True\n",
        ")\n",
        "\n",
        "val_loader = torch.utils.data.DataLoader(\n",
        "    val_dataset, batch_size=batch_size, shuffle=True\n",
        ")"
      ]
    },
    {
      "cell_type": "code",
      "execution_count": null,
      "metadata": {
        "id": "8z_gnhTp9Rm8"
      },
      "outputs": [],
      "source": [
        "# TRAINING LOOP\n",
        "if USING_WANDB:\n",
        "\n",
        "    note = \"\" #\"0.5-dropout\"\n",
        "    wandb.init(\n",
        "        project=\"dna_ml_model\",\n",
        "        # name=f\"experiment_{run}\"\n",
        "        name=f\"{note}colab_run2_balanced_data\",\n",
        "        config = {\n",
        "            \"architecture\": model.__class__.__name__,\n",
        "            \"epochs\": epochs,\n",
        "            \"learning_rate\": learning_rate,\n",
        "            \"notes\": note\n",
        "    })\n",
        "\n",
        "\n",
        "step = 0\n",
        "\n",
        "for epoch in range(epochs):\n",
        "    print(f\"Epoch {epoch + 1} of {epochs}\")\n",
        "\n",
        "    for batch in tqdm(train_loader):  # show the times for each batch\n",
        "        # Forward propagate\n",
        "        samples, labels = batch[\"sequences\"].to(device), batch['labels'].to(device)\n",
        "\n",
        "        outputs = model(samples)\n",
        "\n",
        "        labels = labels.reshape(-1,1).float()\n",
        "        # Backpropagation and gradient descent\n",
        "        loss = loss_fn(outputs, labels)\n",
        "        loss.backward()\n",
        "        optimizer.step()\n",
        "        optimizer.zero_grad()  # reset gradients before next iteration\n",
        "\n",
        "\n",
        "        # Periodically evaluate our model + log to Tensorboard\n",
        "        if step % n_eval == 0:\n",
        "            # Compute training loss and accuracy.\n",
        "            # Log the results to Tensorboard.\n",
        "            with torch.no_grad():\n",
        "                # Compute validation loss and accuracy.\n",
        "                accuracy = utils.compute_accuracy(outputs, labels)\n",
        "                val_loss, val_accuracy = utils.evaluate(val_loader, model, loss_fn, device)\n",
        "\n",
        "                wandb.log({\"Train Loss\": loss,\n",
        "                           \"Train Acc\": accuracy,\n",
        "                           \"Val Loss\": val_loss,\n",
        "                           \"Val Acc\": val_accuracy,\n",
        "                           \"Epoch\": epoch\n",
        "                })\n",
        "\n",
        "        step += 1\n",
        "\n",
        "    print()"
      ]
    },
    {
      "cell_type": "markdown",
      "metadata": {
        "id": "0s7XLQeg9Rm8"
      },
      "source": [
        "Save Model"
      ]
    },
    {
      "cell_type": "code",
      "execution_count": 31,
      "metadata": {
        "colab": {
          "base_uri": "https://localhost:8080/"
        },
        "id": "aMXK8qqk9Rm8",
        "outputId": "b31fc4eb-7400-4b89-92ea-7952f908494a"
      },
      "outputs": [
        {
          "output_type": "stream",
          "name": "stdout",
          "text": [
            "model_save_path pretrained/12-10-05-59-29-CNNModel-model-100-epochs.pt\n",
            "model saved at 12-10-05-59-29\n"
          ]
        }
      ],
      "source": [
        "# Create pretrained directory if not yet created\n",
        "if not os.path.isdir(constants.PRETRAINED_DIR):\n",
        "    os.mkdir(constants.PRETRAINED_DIR)\n",
        "\n",
        "now = datetime.now()\n",
        "datetime_str = now.strftime(\"%m-%d-%H-%M-%S\")\n",
        "model_save_path = os.path.join(\n",
        "    constants.PRETRAINED_DIR,\n",
        "    f'{datetime_str}-{model.__class__.__name__}-model-{epochs}-epochs.pt'\n",
        ")\n",
        "print('model_save_path', model_save_path)\n",
        "ConvModel.save_CNNModel(model_save_path, model)\n",
        "print(f\"model saved at {datetime_str}\")"
      ]
    },
    {
      "cell_type": "markdown",
      "metadata": {
        "id": "r8GFj5Dc9Rm8"
      },
      "source": [
        "Load Model"
      ]
    },
    {
      "cell_type": "code",
      "execution_count": 37,
      "metadata": {
        "colab": {
          "base_uri": "https://localhost:8080/"
        },
        "id": "QwvJ7kqk9Rm8",
        "outputId": "1d245859-4fa0-4c39-c52f-f0ae7417c6cc"
      },
      "outputs": [
        {
          "output_type": "execute_result",
          "data": {
            "text/plain": [
              "CNNModel(\n",
              "  (Conv1): Conv1d(4, 128, kernel_size=(2,), stride=(1,))\n",
              "  (pool1): MaxPool1d(kernel_size=2, stride=2, padding=0, dilation=1, ceil_mode=False)\n",
              "  (Conv2): Conv1d(128, 64, kernel_size=(2,), stride=(1,))\n",
              "  (flatten): Flatten(start_dim=1, end_dim=-1)\n",
              "  (linear1): Linear(in_features=3136, out_features=128, bias=True)\n",
              "  (linear2): Linear(in_features=128, out_features=64, bias=True)\n",
              "  (linear3): Linear(in_features=64, out_features=1, bias=True)\n",
              "  (dropout): Dropout(p=0.2, inplace=False)\n",
              "  (sigmoid): Sigmoid()\n",
              ")"
            ]
          },
          "metadata": {},
          "execution_count": 37
        }
      ],
      "source": [
        "model_save_path = \"/content/pretrained/12-10-05-30-17-CNNModel-model-10-epochs.pt\"\n",
        "model = ConvModel.load_CNNModel(model_save_path)\n",
        "model.to(device)"
      ]
    },
    {
      "cell_type": "markdown",
      "metadata": {
        "id": "0i0RpxCb9Rm9"
      },
      "source": [
        "Inference"
      ]
    },
    {
      "cell_type": "code",
      "execution_count": 38,
      "metadata": {
        "colab": {
          "base_uri": "https://localhost:8080/",
          "height": 66,
          "referenced_widgets": [
            "b0cbfcd17871455ea0d64845aca0bd29",
            "2a55d753a342483f97f1b682530a6759",
            "bf7c86bffde34054ac2a8e08184c926c",
            "b39519453d4841a69ae24cff22e02022",
            "5809956bb39a4b3c802337bd23c07989",
            "ffd82ebea7ff47549edc58ee0fd63c35",
            "acf8661739bb468bab5caaeb44d4b59f",
            "0ff71d7aca6343b4b3b4b8c6ff3d16ad",
            "97a986c98c3b4cc588693ee0b9034889",
            "ff4373cdd9ea468ea07b2aa86664e4dc",
            "7e8b71788631427eb5a5dc62fb007e99"
          ]
        },
        "id": "BMFy_P4E9Rm9",
        "outputId": "39289572-7997-4afc-9f25-0bb74a8ee59b"
      },
      "outputs": [
        {
          "output_type": "display_data",
          "data": {
            "text/plain": [
              "  0%|          | 0/142 [00:00<?, ?it/s]"
            ],
            "application/vnd.jupyter.widget-view+json": {
              "version_major": 2,
              "version_minor": 0,
              "model_id": "b0cbfcd17871455ea0d64845aca0bd29"
            }
          },
          "metadata": {}
        },
        {
          "output_type": "stream",
          "name": "stdout",
          "text": [
            "Final Validation Accuracy: 76.4817950889077 %\n"
          ]
        }
      ],
      "source": [
        "total_predictions = 0\n",
        "total_correct = 0\n",
        "\n",
        "for batch in tqdm(val_loader):\n",
        "    val_samples, val_labels = batch['sequences'].to(device), batch['labels'].to(device)\n",
        "    val_outputs = model(val_samples)\n",
        "    # print(torch.round(val_outputs))\n",
        "    val_labels = val_labels.reshape(-1, 1).float()\n",
        "\n",
        "    val_loss = loss_fn(val_outputs, val_labels).item()  # change tensor to single val\n",
        "\n",
        "    total_correct += (torch.round(val_outputs) == val_labels).sum().item()\n",
        "\n",
        "    total_predictions += len(val_outputs)\n",
        "\n",
        "val_accuracy = total_correct / total_predictions\n",
        "print(f\"Final Validation Accuracy: {val_accuracy * 100} %\")\n",
        "\n",
        "# wandb.summary['test_accuracy'] = val_accuracy\n",
        "\n",
        "# wandb.finish()"
      ]
    },
    {
      "cell_type": "markdown",
      "metadata": {
        "id": "8gWP9UWn9Rm9"
      },
      "source": [
        "Inference on Test File"
      ]
    },
    {
      "cell_type": "code",
      "execution_count": 16,
      "metadata": {
        "colab": {
          "base_uri": "https://localhost:8080/"
        },
        "id": "apmvzG7E9Rm9",
        "outputId": "fb931ea2-251b-47d3-a373-8f065238357e"
      },
      "outputs": [
        {
          "output_type": "stream",
          "name": "stdout",
          "text": [
            "Test dataset loaded.\n"
          ]
        }
      ],
      "source": [
        "test_dataset = dna_dataset.TestDataset(constants.TEST_FILE) # TODO\n",
        "test_loader = torch.utils.data.DataLoader(\n",
        "    test_dataset, batch_size=batch_size, shuffle=True\n",
        ")\n",
        "print(\"Test dataset loaded.\")"
      ]
    },
    {
      "cell_type": "code",
      "execution_count": 17,
      "metadata": {
        "colab": {
          "base_uri": "https://localhost:8080/",
          "height": 66,
          "referenced_widgets": [
            "32419bb44f7d40d6bc4ded42f3b96103",
            "a0247d2aac774dd6962376cf8bf44541",
            "f8e9169b154a4615bd86e7712b8594bb",
            "fdf7284542514cf8b84b4bf4f3840204",
            "38571f2c8bf743e18dbbf4352f70fb89",
            "0612d3e2a12c4cad81bb2fcd20a6ae4d",
            "843b0c91fd2146b19bb5b85ae88a6e81",
            "addcf0dd9e514f2abf4fe305da24238f",
            "9ce84b81e2c64182b507e3aa2ec468d0",
            "3fb31a07978449d1ba061172fab045dc",
            "4a1d911025c34bdabf8bbad484f8f436"
          ]
        },
        "id": "9qT3UBun9Rm9",
        "outputId": "e588a7e4-3c9d-438c-9f52-f7a0bed85a7a"
      },
      "outputs": [
        {
          "output_type": "display_data",
          "data": {
            "text/plain": [
              "  0%|          | 0/2694 [00:00<?, ?it/s]"
            ],
            "application/vnd.jupyter.widget-view+json": {
              "version_major": 2,
              "version_minor": 0,
              "model_id": "32419bb44f7d40d6bc4ded42f3b96103"
            }
          },
          "metadata": {}
        },
        {
          "output_type": "stream",
          "name": "stdout",
          "text": [
            "Finished inference\n"
          ]
        }
      ],
      "source": [
        "probs = []  # tuples of probability, id\n",
        "\n",
        "for batch in tqdm(test_loader):\n",
        "\n",
        "    samples, ids = batch[\"sequences\"].to(device), batch['ids'] # not a tensor\n",
        "\n",
        "    outputs = model(samples)\n",
        "\n",
        "    out_list = outputs.tolist()\n",
        "\n",
        "    for i in range(len(out_list)):\n",
        "        probs.append((out_list[i], ids[i]))\n",
        "\n",
        "print(\"Finished inference\")"
      ]
    },
    {
      "cell_type": "code",
      "execution_count": 23,
      "metadata": {
        "colab": {
          "base_uri": "https://localhost:8080/"
        },
        "id": "Rd2EaK1Z9Rm9",
        "outputId": "2dfb5917-258c-48c2-fb6d-564ad83f502a"
      },
      "outputs": [
        {
          "output_type": "stream",
          "name": "stdout",
          "text": [
            "65517 true values out of  269315  total\n",
            "[1.03285450e-10 1.81566789e-10 2.03635844e-10 ... 4.99967217e-01\n",
            " 4.99980271e-01 4.99983966e-01]\n",
            "[0.99994242 0.99988949 0.99988389 ... 0.50001734 0.50001717 0.5000127 ]\n"
          ]
        }
      ],
      "source": [
        "import numpy as np\n",
        "np_probs = np.array(list(zip(*probs))[0])\n",
        "print(len(np_probs[np_probs>0.5]), \"true values out of \", len(np_probs), \" total\")  # assumes exactly 1\n",
        "not_zero = np_probs[np_probs<=0.5]\n",
        "not_zero.sort()\n",
        "not_one = np_probs[np_probs>0.5]\n",
        "not_one[::-1].sort()\n",
        "print(not_zero)\n",
        "print(not_one)\n",
        "\n",
        "# print(np_probs[np_probs>0.0 and np_probs<1.0])"
      ]
    },
    {
      "cell_type": "code",
      "execution_count": 19,
      "metadata": {
        "colab": {
          "base_uri": "https://localhost:8080/"
        },
        "id": "FG7R8WVS9Rm9",
        "outputId": "045bb860-a66b-4118-c68f-df677ef0cc1f"
      },
      "outputs": [
        {
          "output_type": "stream",
          "name": "stdout",
          "text": [
            "([0.999942421913147], [0.9998894929885864], [0.9998838901519775], [0.9998441934585571], [0.9998428821563721], [0.9998108744621277], [0.9998043179512024], [0.9997965693473816], [0.9997956156730652], [0.9997811913490295], [0.9997619986534119], [0.9997389912605286], [0.999729573726654], [0.9997232556343079], [0.9997197985649109], [0.9996976852416992], [0.9996857643127441], [0.999677300453186], [0.9996527433395386], [0.999632716178894], [0.9996241331100464], [0.9996077418327332], [0.9996057152748108], [0.9995895028114319], [0.9995889067649841], [0.9995754361152649], [0.9995701909065247], [0.99955815076828], [0.9995423555374146], [0.999541163444519], [0.9995146989822388], [0.9995119571685791], [0.9994933605194092], [0.9994811415672302], [0.9994713664054871], [0.999459445476532], [0.9994528889656067], [0.999406099319458], [0.9993971586227417], [0.9993896484375], [0.999386191368103], [0.9993799924850464], [0.9993793964385986], [0.999362051486969], [0.9993610978126526], [0.9993601441383362], [0.9993378520011902], [0.999334990978241], [0.9993102550506592], [0.9992990493774414], [0.9992820620536804], [0.9992770552635193], [0.9992701411247253], [0.9992604851722717], [0.9992596507072449], [0.999256432056427], [0.9992392063140869], [0.9992311000823975], [0.9992268085479736], [0.9992169141769409], [0.9992103576660156], [0.9991931319236755], [0.9991902709007263], [0.999175488948822], [0.9991680383682251], [0.9991565942764282], [0.9991536140441895], [0.9991505146026611], [0.9991329312324524], [0.9991312623023987], [0.9991300702095032], [0.9991015195846558], [0.9990936517715454], [0.9990791082382202], [0.9990781545639038], [0.9990639090538025], [0.9990473389625549], [0.9990378618240356], [0.9990326166152954], [0.998981773853302], [0.9989778995513916], [0.9989640712738037], [0.9989385008811951], [0.998931348323822], [0.9989302754402161], [0.9989076852798462], [0.9988977909088135], [0.9988892674446106], [0.9988780617713928], [0.9988757967948914], [0.9988704323768616], [0.9988676309585571], [0.9988614320755005], [0.9988561868667603], [0.9988546371459961], [0.9988343119621277], [0.9988322854042053], [0.9988217949867249], [0.9987961053848267], [0.9987959861755371], [0.9987941980361938], [0.9987764954566956], [0.9987719655036926], [0.9987621307373047], [0.9987590312957764], [0.9987571239471436], [0.9987390637397766], [0.9987319111824036], [0.998731791973114], [0.9987258315086365], [0.9987185001373291], [0.9987086057662964], [0.9987038373947144], [0.9987014532089233], [0.9986672401428223], [0.9986668825149536], [0.9986456036567688], [0.9986454844474792], [0.9986408352851868], [0.9986369013786316], [0.9986326098442078], [0.9986305236816406], [0.9986239671707153], [0.9986214637756348], [0.9986214637756348], [0.9986103773117065], [0.9986100196838379], [0.9986031651496887], [0.9986013770103455], [0.9985966086387634], [0.9985942244529724], [0.9985872507095337], [0.998572826385498], [0.998566210269928], [0.9985571503639221], [0.9985452890396118], [0.9985094666481018], [0.9985059499740601], [0.9984982013702393], [0.9984918832778931], [0.9984713196754456], [0.998468816280365], [0.9984515905380249], [0.9984443783760071], [0.9984232187271118], [0.9984214305877686], [0.9984171390533447], [0.9984155893325806], [0.998403012752533], [0.9984001517295837], [0.99839848279953], [0.9983957409858704], [0.9983905553817749], [0.9983807802200317], [0.9983692765235901], [0.9983506202697754], [0.9983263611793518], [0.9983149766921997], [0.998309850692749], [0.9983019828796387], [0.9983018636703491], [0.9983003735542297], [0.9982872605323792], [0.9982779026031494], [0.998275876045227], [0.9982752799987793], [0.9982737302780151], [0.9982625842094421], [0.9982450008392334], [0.9982439279556274], [0.9982428550720215], [0.9982401132583618], [0.9982317090034485], [0.9982023239135742], [0.9982000589370728], [0.9981908202171326], [0.9981873631477356], [0.9981871247291565], [0.9981712102890015], [0.998151957988739], [0.9981315732002258], [0.9981247782707214], [0.9981247782707214], [0.9981038570404053], [0.9980871677398682], [0.998080849647522], [0.9980688691139221], [0.9980666041374207], [0.9980602860450745], [0.9980541467666626], [0.9980509281158447], [0.9980473518371582], [0.9980448484420776], [0.9980416297912598], [0.9980360865592957], [0.9980208873748779], [0.9980193376541138], [0.9980106949806213], [0.9980050921440125], [0.9979999661445618], [0.9979725480079651], [0.9979670643806458], [0.9979662895202637], [0.9979618787765503], [0.9979429841041565], [0.997941792011261], [0.9979240894317627], [0.9979134202003479], [0.9979004859924316], [0.9978885054588318], [0.9978854060173035], [0.9978851675987244], [0.9978825449943542], [0.9978677034378052], [0.9978606104850769], [0.9978539347648621], [0.9978502988815308], [0.9978408813476562], [0.997825026512146], [0.9978222846984863], [0.9977815747261047], [0.9977638721466064], [0.9977632761001587], [0.9977602958679199], [0.9977561831474304], [0.9977298378944397], [0.9977251887321472], [0.9977245926856995], [0.9977084398269653], [0.9977067708969116], [0.9976984858512878], [0.9976956248283386], [0.9976915121078491], [0.9976913928985596], [0.9976851940155029], [0.997669517993927], [0.9976676106452942], [0.9976600408554077], [0.9976441264152527], [0.9976356029510498], [0.9976255297660828], [0.9976131916046143], [0.9976119995117188], [0.9975966811180115], [0.9975918531417847], [0.9975792765617371], [0.997577965259552], [0.9975676536560059], [0.9975582361221313], [0.9975519776344299], [0.9975476861000061], [0.9975460171699524], [0.9975318908691406], [0.9975211024284363], [0.9975065588951111], [0.9975057244300842], [0.9974955916404724], [0.9974921941757202], [0.9974844455718994], [0.9974828362464905], [0.9974603652954102], [0.9974547028541565], [0.9974446296691895], [0.9974435567855835], [0.9974218606948853], [0.9974073767662048], [0.9974018335342407], [0.9973956346511841], [0.9973951578140259], [0.997393012046814], [0.9973869919776917], [0.9973819851875305], [0.9973766803741455], [0.9973697662353516], [0.9973675608634949], [0.997365415096283], [0.9973625540733337], [0.9973581433296204], [0.997356653213501], [0.9973483085632324], [0.9973395466804504], [0.9973334074020386], [0.9973323345184326], [0.9973248243331909], [0.9973215460777283], [0.9972975850105286], [0.9972836971282959], [0.9972646236419678], [0.9972532391548157], [0.9972532391548157], [0.99724942445755], [0.9972473978996277], [0.9972423315048218], [0.9972254037857056], [0.9972195625305176], [0.9972180128097534], [0.9972146153450012], [0.9972129464149475], [0.9972087740898132], [0.9972085356712341], [0.9972066283226013], [0.9971889853477478], [0.9971885085105896], [0.9971664547920227], [0.997159481048584], [0.9971535205841064], [0.9971254467964172], [0.9971231818199158], [0.9971223473548889], [0.9971207976341248], [0.9971108436584473], [0.9971038699150085], [0.9970989227294922], [0.9970965385437012], [0.9970771074295044], [0.9970749616622925], [0.9970715045928955], [0.997062623500824], [0.9970550537109375], [0.997051477432251], [0.9970428347587585], [0.997033953666687], [0.9970288872718811], [0.9970267415046692], [0.9970152378082275], [0.9970130920410156], [0.9970123767852783], [0.9970123767852783], [0.9970095157623291], [0.9970013499259949], [0.9969911575317383], [0.9969819188117981], [0.9969773292541504], [0.9969735145568848], [0.996965229511261], [0.9969624876976013], [0.9969528913497925], [0.996938943862915], [0.9969305396080017], [0.9969109892845154], [0.9969077706336975], [0.9968950748443604], [0.9968944787979126], [0.9968892931938171], [0.99688321352005], [0.9968691468238831], [0.9968421459197998], [0.9968127608299255], [0.9968121647834778], [0.9968075752258301], [0.9968067407608032], [0.9968012571334839], [0.9968010187149048], [0.9967934489250183], [0.9967849254608154], [0.9967761635780334], [0.9967759251594543], [0.9967737793922424], [0.9967674016952515], [0.9967569708824158], [0.9967461824417114], [0.9967241883277893], [0.9967089891433716], [0.9967087507247925], [0.9967042803764343], [0.9966915845870972], [0.9966869950294495], [0.9966863989830017], [0.9966805577278137], [0.9966729879379272], [0.9966698288917542], [0.9966664910316467], [0.9966655373573303], [0.9966604709625244], [0.9966604709625244], [0.9966601133346558], [0.9966388940811157], [0.9966388940811157], [0.9966327548027039], [0.9966313242912292], [0.9966241121292114], [0.9966163039207458], [0.9966071844100952], [0.9966052770614624], [0.9966024160385132], [0.9966012239456177], [0.9965973496437073], [0.9965962767601013], [0.9965938925743103], [0.996593177318573], [0.9965797066688538], [0.9965752959251404], [0.9965724945068359], [0.9965662956237793], [0.996562659740448], [0.996561586856842], [0.9965529441833496], [0.9965432286262512], [0.9965317845344543], [0.9965189695358276], [0.9965142607688904], [0.9965054988861084], [0.9965051412582397], [0.9965051412582397], [0.9964787364006042], [0.9964767098426819], [0.9964757561683655], [0.9964717626571655], [0.9964715242385864], [0.9964414238929749], [0.9964397549629211], [0.9964234232902527], [0.9964125752449036], [0.9964119791984558], [0.9963997602462769], [0.9963983297348022], [0.9963849782943726], [0.9963846206665039], [0.9963693618774414], [0.9963353872299194], [0.9963352680206299], [0.9963271021842957], [0.9963108897209167], [0.9963053464889526], [0.9963017702102661], [0.9962970614433289], [0.9962921142578125], [0.9962915182113647], [0.9962783455848694], [0.9962688684463501], [0.9962615370750427], [0.9962601661682129], [0.9962525367736816], [0.9962444305419922], [0.9962426424026489], [0.9962413311004639], [0.996240496635437], [0.9962390661239624], [0.99623703956604], [0.9962309002876282], [0.9962291121482849], [0.9962259531021118], [0.9962235689163208], [0.9962174296379089], [0.9962117671966553], [0.9962079524993896], [0.9961965084075928], [0.9961926937103271], [0.9961775541305542], [0.9961612224578857], [0.9961601495742798], [0.996137797832489], [0.9961192607879639], [0.9961183071136475], [0.9961127638816833], [0.9961119294166565], [0.9961051940917969], [0.996103048324585], [0.9961028099060059], [0.9961000680923462], [0.9960781931877136], [0.9960764050483704], [0.9960694313049316], [0.9960663914680481], [0.996065080165863], [0.996057391166687], [0.9960458874702454], [0.99603670835495], [0.9960229396820068], [0.9960136413574219], [0.996006190776825], [0.9959903359413147], [0.995987594127655], [0.9959815740585327], [0.9959791898727417], [0.9959771037101746], [0.9959760308265686], [0.9959690570831299], [0.9959639310836792], [0.9959620833396912], [0.9959487915039062], [0.9959482550621033], [0.9959450364112854], [0.9959412813186646], [0.9959396123886108], [0.9959195852279663], [0.995915949344635], [0.9959046244621277], [0.9958813190460205], [0.9958804845809937], [0.9958798885345459], [0.995876669883728], [0.9958749413490295], [0.9958732724189758], [0.9958726763725281], [0.9958712458610535], [0.9958651065826416], [0.9958557486534119], [0.9958553910255432], [0.9958106279373169], [0.995802104473114], [0.9957998394966125], [0.9957934617996216], [0.9957869648933411], [0.9957848191261292], [0.9957829713821411], [0.9957824945449829], [0.9957784414291382], [0.9957752823829651], [0.9957667589187622], [0.9957435727119446], [0.9957401752471924], [0.9957285523414612], [0.9957175850868225], [0.9957161545753479], [0.9957093000411987], [0.9957050681114197], [0.9956963062286377], [0.995693027973175], [0.9956803321838379], [0.9956749081611633], [0.995668888092041], [0.9956669807434082], [0.9956628680229187], [0.9956328272819519], [0.9956099390983582], [0.9956061244010925], [0.9956021308898926], [0.9955959916114807], [0.9955946803092957], [0.9955819249153137], [0.9955745935440063], [0.995570957660675], [0.9955459833145142], [0.9955417513847351], [0.9955211877822876], [0.9955180287361145], [0.9955118298530579], [0.9955109357833862], [0.9955066442489624], [0.9954975843429565], [0.9954908490180969], [0.9954902529716492], [0.9954611659049988], [0.9954608082771301], [0.995457649230957], [0.9954403638839722], [0.9954246878623962], [0.9954231381416321], [0.9954224228858948], [0.9954071044921875], [0.9954043626785278], [0.9953992962837219], [0.9953950047492981], [0.9953892230987549], [0.9953877329826355], [0.9953826069831848], [0.9953747391700745], [0.9953656196594238], [0.9953643083572388], [0.9953444600105286], [0.9953441023826599], [0.9953413009643555], [0.9953338503837585], [0.9953225255012512], [0.9953130483627319], [0.9953082203865051], [0.9953065514564514], [0.9953031539916992], [0.9952459931373596], [0.9952440857887268], [0.9952113032341003], [0.9952093958854675], [0.9952023029327393], [0.9951949715614319], [0.9951848387718201], [0.9951828122138977], [0.9951750040054321], [0.9951487183570862], [0.9951469302177429], [0.9951465725898743], [0.9951443076133728], [0.99513840675354], [0.995126485824585], [0.9951175451278687], [0.9951123595237732], [0.9951093792915344], [0.9951035976409912], [0.9950974583625793], [0.9950934648513794], [0.9950920343399048], [0.9950670003890991], [0.9950665235519409], [0.995053231716156], [0.9950451850891113], [0.9950365424156189], [0.9950227737426758], [0.9950142502784729], [0.994990885257721], [0.9949801564216614], [0.9949725866317749], [0.994964599609375], [0.994958221912384], [0.9949546456336975], [0.9949501752853394], [0.994948148727417], [0.9949401617050171], [0.9949317574501038], [0.9949274063110352], [0.9949064254760742], [0.9948949217796326], [0.9948785305023193], [0.9948784112930298], [0.994874894618988], [0.9948720335960388], [0.9948562383651733], [0.9948541522026062], [0.9948433637619019], [0.9948425889015198], [0.9948299527168274], [0.9948285222053528], [0.994825005531311], [0.9947953820228577], [0.9947810769081116], [0.9947702288627625], [0.9947543144226074], [0.9947486519813538], [0.994748055934906], [0.9947358965873718], [0.9947286248207092], [0.9947263598442078], [0.9947108030319214], [0.9947106838226318], [0.9947060942649841], [0.9946892261505127], [0.9946850538253784], [0.9946736693382263], [0.9946512579917908], [0.9946129322052002], [0.9946094751358032], [0.994607150554657], [0.9945896863937378], [0.9945887327194214], [0.9945759773254395], [0.9945622086524963], [0.9945535659790039], [0.9945512413978577], [0.9945275187492371], [0.9945124387741089], [0.9945055842399597], [0.9944979548454285], [0.9944975972175598], [0.9944877028465271], [0.994487464427948], [0.994478702545166], [0.9944749474525452], [0.9944621920585632], [0.9944621920585632], [0.9944533705711365], [0.9944307208061218], [0.9944303631782532], [0.994429349899292], [0.9944249391555786], [0.9944077730178833], [0.9944076538085938], [0.9944003224372864], [0.9943915009498596], [0.9943878054618835], [0.9943777918815613], [0.9943739175796509], [0.9943726062774658], [0.994371771812439], [0.9943475127220154], [0.9943374991416931], [0.9943349957466125], [0.9943327903747559], [0.9943134784698486], [0.9943102598190308], [0.9943088889122009], [0.9942924976348877], [0.9942885637283325], [0.9942842125892639], [0.9942816495895386], [0.9942722320556641], [0.9942716360092163], [0.9942548871040344], [0.9942534565925598], [0.9942452311515808], [0.9942375421524048], [0.9942328333854675], [0.9942294359207153], [0.994216799736023], [0.9942132830619812], [0.9942102432250977], [0.9942018389701843], [0.994195818901062], [0.9941930174827576], [0.9941873550415039], [0.9941792488098145], [0.994174063205719], [0.9941664934158325], [0.9941632151603699], [0.9941451549530029], [0.9941421151161194], [0.9941377639770508], [0.9941297769546509], [0.9941256046295166], [0.9941235184669495], [0.9941229224205017], [0.9941056966781616], [0.9941036105155945], [0.9940950870513916], [0.9940820336341858], [0.9940710663795471], [0.9940705895423889], [0.9940615296363831], [0.994059681892395], [0.9940553903579712], [0.9940359592437744], [0.9940289258956909], [0.994027853012085], [0.9940059185028076], [0.9940041899681091], [0.9939894676208496], [0.993983805179596], [0.9939829707145691], [0.9939826130867004], [0.9939686059951782], [0.9939512014389038], [0.9939485788345337], [0.9939462542533875], [0.9939403533935547], [0.9939271807670593], [0.9939217567443848], [0.9939170479774475], [0.9939029812812805], [0.9938940405845642], [0.9938876032829285], [0.9938871264457703], [0.9938655495643616], [0.9938521385192871], [0.9938464760780334], [0.9938463568687439], [0.9938291907310486], [0.9938272833824158], [0.9938253164291382], [0.9938079714775085], [0.9938072562217712], [0.9938051700592041], [0.993786096572876], [0.9937853813171387], [0.9937835931777954], [0.9937735795974731], [0.9937703013420105], [0.9937692284584045], [0.9937689900398254], [0.9937629103660583], [0.9937527775764465], [0.9937491416931152], [0.9937434792518616], [0.9937352538108826], [0.9937350153923035], [0.9937326312065125], [0.993725597858429], [0.9937062859535217], [0.9936822652816772], [0.9936787486076355], [0.993672251701355], [0.993653416633606], [0.9936487078666687], [0.993648111820221], [0.9936462640762329], [0.993637204170227], [0.9936190247535706], [0.9936181306838989], [0.9936057329177856], [0.9936029314994812], [0.9935976266860962], [0.9935922026634216], [0.9935863614082336], [0.9935745596885681], [0.9935702085494995], [0.9935534000396729], [0.9935469031333923], [0.993546187877655], [0.9935239553451538], [0.993505597114563], [0.9935005307197571], [0.9934955835342407], [0.9934886693954468], [0.9934760928153992], [0.9934740662574768], [0.9934491515159607], [0.9934489130973816], [0.9934440851211548], [0.9934396147727966], [0.9934284090995789], [0.9934241771697998], [0.9934200644493103], [0.9934098124504089], [0.9934074878692627], [0.9934043288230896], [0.9934003353118896], [0.9933931231498718], [0.9933924078941345], [0.9933894872665405], [0.9933884143829346], [0.9933869242668152], [0.9933835864067078], [0.9933819770812988], [0.993381142616272], [0.9933801889419556], [0.9933686852455139], [0.9933549165725708], [0.9933307766914368], [0.9933109283447266], [0.9932968020439148], [0.9932947754859924], [0.9932861924171448], [0.9932754039764404], [0.9932746887207031], [0.9932709336280823], [0.9932708144187927], [0.9932653903961182], [0.9932563304901123], [0.99324631690979], [0.993244469165802], [0.9932231903076172], [0.9932176470756531], [0.9932149648666382], [0.9932048320770264], [0.9932011961936951], [0.9931975603103638], [0.9931755661964417], [0.9931718111038208], [0.9931567311286926], [0.9931454658508301], [0.993141233921051], [0.9931384921073914], [0.9931237101554871], [0.9931197166442871], [0.9931188821792603], [0.9931186437606812], [0.9931139349937439], [0.9931045174598694], [0.9931005239486694], [0.9930825233459473], [0.9930765628814697], [0.993075966835022], [0.9930709004402161], [0.9930650591850281], [0.9930596351623535], [0.9930554032325745], [0.9930447936058044], [0.9930418729782104], [0.9930300116539001], [0.993028461933136], [0.9930283427238464], [0.9930194020271301], [0.9930174350738525], [0.9930166006088257], [0.992996871471405], [0.9929949641227722], [0.9929937720298767], [0.9929881691932678], [0.9929847717285156], [0.9929649829864502], [0.9929630160331726], [0.9929502010345459], [0.9929452538490295], [0.9929386973381042], [0.9929385781288147], [0.9929330348968506], [0.9929240942001343], [0.9929236173629761], [0.9928905963897705], [0.9928880333900452], [0.9928701519966125], [0.9928570985794067], [0.9928551316261292], [0.9928465485572815], [0.9928298592567444], [0.9928287863731384], [0.9928148984909058], [0.9928140044212341], [0.99280846118927], [0.9927923679351807], [0.992789089679718], [0.9927869439125061], [0.9927858114242554], [0.992784857749939], [0.992782473564148], [0.9927816987037659], [0.9927790760993958], [0.9927512407302856], [0.9927492141723633], [0.9927482008934021], [0.9927425384521484], [0.9927279949188232], [0.9927111864089966], [0.9926994442939758], [0.9926927089691162], [0.9926924109458923], [0.9926855564117432], [0.9926826357841492], [0.9926798343658447], [0.9926780462265015], [0.9926725029945374], [0.9926694631576538], [0.9926602244377136], [0.9926491379737854], [0.9926471710205078], [0.9926421046257019], [0.992628812789917], [0.9926250576972961], [0.992624044418335], [0.9925962090492249], [0.9925876259803772], [0.9925853610038757], [0.9925708174705505], [0.9925641417503357], [0.9925553202629089], [0.9925459027290344], [0.9925436973571777], [0.9925174713134766], [0.9925152659416199], [0.9924998879432678], [0.9924792051315308], [0.9924721717834473], [0.9924588799476624], [0.9924455285072327], [0.9924426078796387], [0.9924039244651794], [0.9923898577690125], [0.9923853874206543], [0.9923844337463379], [0.9923753142356873], [0.9923738837242126], [0.9923732876777649], [0.9923696517944336], [0.9923656582832336], [0.9923630952835083], [0.9923477172851562], [0.9923303723335266], [0.9923272728919983], [0.9923185110092163], [0.9923101663589478], [0.9923082590103149], [0.9923077821731567], [0.9923075437545776], [0.9923028945922852], [0.9923001527786255], [0.9922757744789124], [0.992251455783844], [0.9922462105751038], [0.9922250509262085], [0.992215096950531], [0.9922122955322266], [0.9922059178352356], [0.9922025203704834], [0.9922020435333252], [0.9922004342079163], [0.9921990036964417], [0.9921905398368835], [0.9921890497207642], [0.9921450018882751], [0.9921448826789856], [0.9921431541442871], [0.9921367168426514], [0.9921352863311768], [0.9921286106109619], [0.9921014904975891], [0.9921008944511414], [0.9920998215675354], [0.9920985698699951], [0.9920945763587952], [0.9920817613601685], [0.9920755624771118], [0.9920721650123596], [0.9920703768730164], [0.9920656085014343], [0.9920601844787598], [0.992043673992157], [0.9920381307601929], [0.9920320510864258], [0.9920179843902588], [0.9920129179954529], [0.9920074939727783], [0.9919931888580322], [0.9919867515563965], [0.991973876953125], [0.991969645023346], [0.9919449687004089], [0.9919412136077881], [0.9919386506080627], [0.9919158816337585], [0.9919149875640869], [0.9919124841690063], [0.991909921169281], [0.9919002056121826], [0.9918678402900696], [0.9918620586395264], [0.9918583035469055], [0.9918563365936279], [0.9918471574783325], [0.991845428943634], [0.9918414354324341], [0.9918316006660461], [0.991824209690094], [0.9918219447135925], [0.9918169379234314], [0.9918027520179749], [0.9917770624160767], [0.9917705059051514], [0.9917685985565186], [0.9917669892311096], [0.9917600750923157], [0.991757333278656], [0.9917535781860352], [0.9917397499084473], [0.9917382597923279], [0.9917320013046265], [0.9917274713516235], [0.9917272329330444], [0.9917248487472534], [0.9917030930519104], [0.9917003512382507], [0.9916874766349792], [0.9916536211967468], [0.9916433691978455], [0.9916422367095947], [0.9916141033172607], [0.9916055202484131], [0.9915969967842102], [0.991596519947052], [0.9915959239006042], [0.9915822148323059], [0.9915809035301208], [0.9915741086006165], [0.9915730953216553], [0.9915675520896912], [0.9915602803230286], [0.9915539622306824], [0.9915519952774048], [0.9915430545806885], [0.9915302991867065], [0.991524875164032], [0.9914945363998413], [0.9914935827255249], [0.9914865493774414], [0.991480827331543], [0.9914717078208923], [0.9914699196815491], [0.991466760635376], [0.9914621710777283], [0.9914440512657166], [0.9914434552192688], [0.991441547870636], [0.9914194345474243], [0.9914116859436035], [0.9914113283157349], [0.9914091229438782], [0.991381824016571], [0.9913752675056458], [0.9913589954376221], [0.991357684135437], [0.9913486838340759], [0.9913472533226013], [0.9913383722305298], [0.9913355708122253], [0.9913235902786255], [0.9913169145584106], [0.99131178855896], [0.9913085699081421], [0.9913045167922974], [0.9912983775138855], [0.9912904500961304], [0.9912660717964172], [0.9912554025650024], [0.9912533164024353], [0.9912495613098145], [0.9912427663803101], [0.991233766078949], [0.9912267327308655], [0.9912263751029968], [0.9912248253822327], [0.9912126660346985], [0.9912052750587463], [0.9912018775939941], [0.9911985993385315], [0.9911952018737793], [0.9911922812461853], [0.9911875128746033], [0.991135835647583], [0.9911174774169922], [0.991108775138855], [0.9911062121391296], [0.9910987019538879], [0.9910954236984253], [0.9910934567451477], [0.9910933375358582], [0.9910826683044434], [0.9910807013511658], [0.9910803437232971], [0.991080105304718], [0.991054356098175], [0.9910542368888855], [0.9910383224487305], [0.9910323023796082], [0.9910308122634888], [0.9910173416137695], [0.991011381149292], [0.9910075068473816], [0.9909900426864624], [0.9909641742706299], [0.9909632802009583], [0.9909601211547852], [0.9909245371818542], [0.9909182786941528], [0.9909148812294006], [0.9909030795097351], [0.9909000396728516], [0.9908934831619263], [0.9908863306045532], [0.9908857345581055], [0.9908856749534607], [0.9908847212791443], [0.9908804893493652], [0.9908716082572937], [0.9908632040023804], [0.9908531308174133], [0.9908517003059387], [0.9908446669578552], [0.9908424615859985], [0.9908257126808167], [0.99081951379776], [0.9908058047294617], [0.9907992482185364], [0.990799069404602], [0.9907887578010559], [0.9907830953598022], [0.9907783269882202], [0.990776002407074], [0.9907687306404114], [0.9907621741294861], [0.9907512664794922], [0.9907487034797668], [0.9907474517822266], [0.9907461404800415], [0.9907410144805908], [0.9907399415969849], [0.9907398223876953], [0.9907355904579163], [0.9907297492027283], [0.9907183051109314], [0.9907129406929016], [0.9907109141349792], [0.990710437297821], [0.9907095432281494], [0.9907078742980957], [0.9907068610191345], [0.9907023906707764], [0.9906983971595764], [0.9906983971595764], [0.9906951189041138], [0.9906948804855347], [0.990694522857666], [0.9906932711601257], [0.990689754486084], [0.9906840324401855], [0.990683913230896], [0.9906736016273499], [0.9906676411628723], [0.9906654357910156], [0.9906443357467651], [0.9906427264213562], [0.9906316995620728], [0.990630567073822], [0.9906268119812012], [0.9906236529350281], [0.9906208515167236], [0.9906042218208313], [0.9906011819839478], [0.9905998110771179], [0.9905965328216553], [0.9905946254730225], [0.9905914664268494], [0.9905913472175598], [0.9905869364738464], [0.9905845522880554], [0.9905810952186584], [0.9905782341957092], [0.9905737042427063], [0.9905418753623962], [0.9905403852462769], [0.9905399084091187], [0.9905363917350769], [0.9905315041542053], [0.9905297160148621], [0.9905130863189697], [0.9905085563659668], [0.9905014038085938], [0.9904946088790894], [0.9904819130897522], [0.9904811978340149], [0.9904744029045105], [0.9904717206954956], [0.9904698133468628], [0.9904683232307434], [0.9904680848121643], [0.9904677271842957], [0.9904599189758301], [0.990454375743866], [0.9904471635818481], [0.9904420971870422], [0.9904265999794006], [0.990422248840332], [0.9904218912124634], [0.9904176592826843], [0.9904162883758545], [0.9904114603996277], [0.9904111623764038], [0.990385890007019], [0.9903519749641418], [0.9903483390808105], [0.9903340935707092], [0.9903163313865662], [0.9903088212013245], [0.9902869462966919], [0.9902860522270203], [0.9902769327163696], [0.9902757406234741], [0.9902650117874146], [0.99025958776474], [0.9902580976486206], [0.9902536273002625], [0.9902529716491699], [0.9902511835098267], [0.9902510643005371], [0.990246057510376], [0.990211009979248], [0.9902063012123108], [0.9901977777481079], [0.9901940226554871], [0.9901873469352722], [0.9901491403579712], [0.9901490211486816], [0.9901469349861145], [0.9901421666145325], [0.990122377872467], [0.9901199340820312], [0.9901188611984253], [0.9901145696640015], [0.9900996088981628], [0.990097165107727], [0.990092933177948], [0.9900824427604675], [0.9900804162025452], [0.9900709986686707], [0.9900681972503662], [0.9900658130645752], [0.9900642037391663], [0.9900409579277039], [0.990039050579071], [0.9900351166725159], [0.990026593208313], [0.9900222420692444], [0.990020751953125], [0.9900199174880981], [0.9900124073028564], [0.9900088310241699], [0.9900047183036804], [0.9899995923042297], [0.9899948835372925], [0.9899910688400269], [0.989978551864624], [0.9899674654006958], [0.9899617433547974], [0.9899536371231079], [0.9899290204048157], [0.9899212121963501], [0.9899148941040039], [0.9899117350578308], [0.9899083375930786], [0.9899002909660339], [0.9899001717567444], [0.9898971319198608], [0.9898940920829773], [0.989863395690918], [0.9898611307144165], [0.9898571968078613], [0.9898527264595032], [0.9898471236228943], [0.9898310303688049], [0.9898277521133423], [0.9898276329040527], [0.989823043346405], [0.9898207187652588], [0.9898161888122559], [0.9898133873939514], [0.9897913336753845], [0.9897823333740234], [0.9897722601890564], [0.9897700548171997], [0.9897622466087341], [0.9897611737251282], [0.9897425770759583], [0.9897353649139404], [0.989733874797821], [0.9897300004959106], [0.9897234439849854], [0.9897233247756958], [0.9897164702415466], [0.989715039730072], [0.9897096753120422], [0.9896774291992188], [0.9896683692932129], [0.9896581768989563], [0.9896542429924011], [0.9896496534347534], [0.9896491765975952], [0.9896417260169983], [0.9896342754364014], [0.9896088242530823], [0.9896032214164734], [0.9895820617675781], [0.9895791411399841], [0.9895715713500977], [0.9895691275596619], [0.9895519614219666], [0.989550769329071], [0.989547848701477], [0.9895427227020264], [0.9895337224006653], [0.9895297884941101], [0.989526629447937], [0.9895244240760803], [0.9895157814025879], [0.9895015358924866], [0.989501416683197], [0.9894989728927612], [0.9894931316375732], [0.9894616007804871], [0.9894607663154602], [0.9894484281539917], [0.9894391894340515], [0.9894104599952698], [0.9894084930419922], [0.989380955696106], [0.9893591403961182], [0.9893503785133362], [0.9893431663513184], [0.9893378019332886], [0.9893269538879395], [0.989319920539856], [0.9892944097518921], [0.9892928600311279], [0.9892919659614563], [0.9892899394035339], [0.9892838001251221], [0.9892796874046326], [0.9892753958702087], [0.9892646670341492], [0.9892632365226746], [0.9892632365226746], [0.9892429113388062], [0.9892128705978394], [0.9892072677612305], [0.9892058372497559], [0.9892038702964783], [0.9891958236694336], [0.9891937375068665], [0.9891834259033203], [0.9891784191131592], [0.9891720414161682], [0.9891571998596191], [0.9891562461853027], [0.9891529083251953], [0.9891497492790222], [0.9891436696052551], [0.9891329407691956], [0.9891268610954285], [0.9891169667243958], [0.9891162514686584], [0.9891064763069153], [0.9891045093536377], [0.9890958666801453], [0.9890934228897095], [0.9890885353088379], [0.9890714883804321], [0.9890648126602173], [0.9890509843826294], [0.9890505075454712], [0.9890467524528503], [0.9890178442001343], [0.9890161156654358], [0.9890021085739136], [0.9889828562736511], [0.9889763593673706], [0.9889761209487915], [0.98897385597229], [0.9889547824859619], [0.9889296889305115], [0.9889197945594788], [0.988916277885437], [0.9888952970504761], [0.9888677000999451], [0.9888609051704407], [0.9888606667518616], [0.9888601899147034], [0.9888461232185364], [0.9888351559638977], [0.9888328313827515], [0.9888255000114441], [0.9888133406639099], [0.9888129830360413], [0.9888122081756592], [0.9888052940368652], [0.9888020753860474], [0.9887862205505371], [0.9887771010398865], [0.9887728095054626], [0.9887648820877075], [0.9887527227401733], [0.9887503981590271], [0.9887366890907288], [0.9887335300445557], [0.9887316823005676], [0.988730251789093], [0.9887169599533081], [0.9886904954910278], [0.9886896014213562], [0.9886837601661682], [0.9886766672134399], [0.9886731505393982], [0.9886205792427063], [0.9886071085929871], [0.9886055588722229], [0.9885977506637573], [0.9885863661766052], [0.9885822534561157], [0.9885783195495605], [0.9885563254356384], [0.9885364770889282], [0.9885331392288208], [0.9885282516479492], [0.9885270595550537], [0.988521933555603], [0.9885076284408569], [0.9885042309761047], [0.9885022640228271], [0.9884852170944214], [0.9884839653968811], [0.9884812831878662], [0.9884746670722961], [0.9884682297706604], [0.9884605407714844], [0.9884577393531799], [0.988440990447998], [0.9884235262870789], [0.9884192943572998], [0.988403856754303], [0.9883964657783508], [0.9883958101272583], [0.9883837103843689], [0.9883794784545898], [0.9883788824081421], [0.9883507490158081], [0.9883441925048828], [0.9883424639701843], [0.9883415102958679], [0.9883391857147217], [0.9883236885070801], [0.9883188009262085], [0.9882885217666626], [0.9882832169532776], [0.9882815480232239], [0.9882705211639404], [0.9882453680038452], [0.9882441759109497], [0.9882379174232483], [0.9882358908653259], [0.9882192611694336], [0.9882116913795471], [0.9882110953330994], [0.9881997108459473], [0.9881805181503296], [0.9881801605224609], [0.9881792068481445], [0.98817378282547], [0.9881688952445984], [0.9881556034088135], [0.9881503582000732], [0.9881485104560852], [0.9881460666656494], [0.9881365299224854], [0.988135576248169], [0.9881316423416138], [0.9881212711334229], [0.9881101846694946], [0.9881079792976379], [0.9881047606468201], [0.9880997538566589], [0.9880918264389038], [0.9880679249763489], [0.9880408644676208], [0.9880375862121582], [0.9880330562591553], [0.9880326986312866], [0.9880310893058777], [0.9880275726318359], [0.9880222082138062], [0.9880192875862122], [0.9880161881446838], [0.9879931211471558], [0.9879913926124573], [0.9879831075668335], [0.9879761338233948], [0.9879733324050903], [0.9879732131958008], [0.9879721999168396], [0.9879701137542725], [0.9879668354988098], [0.9879583120346069], [0.9879522919654846], [0.9879499673843384], [0.9879355430603027], [0.9879325032234192], [0.9879323840141296], [0.9879263639450073], [0.987920880317688], [0.9879196882247925], [0.9879141449928284], [0.987911581993103], [0.9879034161567688], [0.9879021644592285], [0.987898051738739], [0.9878836274147034], [0.98786860704422], [0.9878612160682678], [0.987855851650238], [0.9878504872322083], [0.9878260493278503], [0.9878159165382385], [0.9878111481666565], [0.9878100156784058], [0.9878032803535461], [0.9877990484237671], [0.9877954721450806], [0.9877951145172119], [0.9877833724021912], [0.9877789616584778], [0.987772524356842], [0.9877618551254272], [0.9877486824989319], [0.9877467155456543], [0.9877346158027649], [0.9877275228500366], [0.9877187013626099], [0.987713098526001], [0.9876881241798401], [0.9876852035522461], [0.9876803159713745], [0.9876716136932373], [0.9876691699028015], [0.9876628518104553], [0.9876562356948853], [0.9876450896263123], [0.9876370429992676], [0.9876357913017273], [0.9876296520233154], [0.9876290559768677], [0.9876195192337036], [0.9876177906990051], [0.9876165986061096], [0.9876124262809753], [0.9876093864440918], [0.9876061081886292], [0.9876003265380859], [0.9875755310058594], [0.9875649809837341], [0.9875619411468506], [0.9875576496124268], [0.9875505566596985], [0.9875479936599731], [0.9875348806381226], [0.9875313639640808], [0.9875301122665405], [0.9874956607818604], [0.9874950051307678], [0.9874927997589111], [0.9874875545501709], [0.9874871969223022], [0.9874832630157471], [0.9874738454818726], [0.9874710440635681], [0.9874694347381592], [0.9874362945556641], [0.9874327778816223], [0.9874080419540405], [0.9873902797698975], [0.9873710870742798], [0.9873496890068054], [0.9873464703559875], [0.987335741519928], [0.9873307347297668], [0.9873177409172058], [0.9873170256614685], [0.987316370010376], [0.9872971773147583], [0.9872937798500061], [0.9872798919677734], [0.9872618317604065], [0.9872546792030334], [0.9872474670410156], [0.9872450232505798], [0.987239420413971], [0.9872372150421143], [0.9872112274169922], [0.9872034192085266], [0.9871986508369446], [0.987187385559082], [0.9871702790260315], [0.9871596097946167], [0.9871484637260437], [0.987148106098175], [0.9871459007263184], [0.9871456623077393], [0.9871358275413513], [0.9871203303337097], [0.9871201515197754], [0.9871127009391785], [0.9871121048927307], [0.987090528011322], [0.9870879650115967], [0.9870818853378296], [0.9870770573616028], [0.9870709776878357], [0.9870684146881104], [0.9870604276657104], [0.9870500564575195], [0.9870187044143677], [0.9870044589042664], [0.987001895904541], [0.986989438533783], [0.9869875907897949], [0.9869869351387024], [0.9869365096092224], [0.986929178237915], [0.9869130849838257], [0.9869025945663452], [0.9868997931480408], [0.9868970513343811], [0.9868944883346558], [0.9868819117546082], [0.9868773818016052], [0.9868758916854858], [0.9868660569190979], [0.9868605732917786], [0.9868512749671936], [0.9868499040603638], [0.9868459701538086], [0.9868338704109192], [0.986833393573761], [0.986816942691803], [0.9868157505989075], [0.9868043661117554], [0.9867983460426331], [0.986798107624054], [0.9867941737174988], [0.9867923259735107], [0.9867910146713257], [0.9867849946022034], [0.986781895160675], [0.9867750406265259], [0.9867750406265259], [0.9867733716964722], [0.9867571592330933], [0.9867565631866455], [0.9867032766342163], [0.9867008328437805], [0.9867004752159119], [0.9866994619369507], [0.9866987466812134], [0.9866901636123657], [0.9866895079612732], [0.9866846203804016], [0.9866841435432434], [0.9866793751716614], [0.9866591691970825], [0.9866486191749573], [0.9866460561752319], [0.9866433143615723], [0.9866365790367126], [0.9866363406181335], [0.9866318106651306], [0.9866178631782532], [0.9866132140159607], [0.9866113662719727], [0.9866064190864563], [0.9865949153900146], [0.9865933060646057], [0.9865647554397583], [0.9865607023239136], [0.9865543842315674], [0.9865344762802124], [0.9865334033966064], [0.9865065813064575], [0.9864920973777771], [0.9864919781684875], [0.986478865146637], [0.9864782094955444], [0.9864705204963684], [0.9864681959152222], [0.9864416718482971], [0.9864346981048584], [0.9864309430122375], [0.9864200949668884], [0.9864093065261841], [0.9863936305046082], [0.9863903522491455], [0.986375629901886], [0.9863632321357727], [0.9863622784614563], [0.986354410648346], [0.9863520860671997], [0.9863501191139221], [0.9863496422767639], [0.9863396883010864], [0.9863285422325134], [0.9863187074661255], [0.9863079190254211], [0.9862915873527527], [0.9862847328186035], [0.986283004283905], [0.9862593412399292], [0.986253559589386], [0.9862514138221741], [0.986249566078186], [0.9862441420555115], [0.9862418174743652], [0.9862372875213623], [0.9862310290336609], [0.9862077236175537], [0.9862067103385925], [0.9862003326416016], [0.9861848950386047], [0.9861815571784973], [0.9861801266670227], [0.9861637949943542], [0.9861628413200378], [0.9861496686935425], [0.9861341118812561], [0.9861305356025696], [0.9861246347427368], [0.9861124157905579], [0.9861094355583191], [0.9861010909080505], [0.986100971698761], [0.9860969185829163], [0.9860802292823792], [0.9860724210739136], [0.9860652685165405], [0.9860646724700928], [0.9860617518424988], [0.9860584139823914], [0.9860506653785706], [0.9860442876815796], [0.986040472984314], [0.9860162138938904], [0.9860028028488159], [0.9859991669654846], [0.9859969019889832], [0.9859888553619385], [0.985981822013855], [0.9859720468521118], [0.9859603643417358], [0.9859552979469299], [0.9859426617622375], [0.9859387278556824], [0.9859322309494019], [0.9859309196472168], [0.9859165549278259], [0.9858938455581665], [0.985892117023468], [0.9858909845352173], [0.9858677983283997], [0.9858535528182983], [0.9858407974243164], [0.9858347773551941], [0.9858308434486389], [0.9858202934265137], [0.985806941986084], [0.9857963919639587], [0.9857954978942871], [0.9857950210571289], [0.9857873916625977], [0.985787034034729], [0.9857814908027649], [0.9857572913169861], [0.9857544898986816], [0.985752522945404], [0.9857380390167236], [0.9857308268547058], [0.9857262372970581], [0.9857150912284851], [0.9857094287872314], [0.9857037663459778], [0.9856767654418945], [0.985676646232605], [0.9856568574905396], [0.9856554269790649], [0.9856471419334412], [0.9856401681900024], [0.9856297373771667], [0.9856276512145996], [0.9856265187263489], [0.9856022000312805], [0.9855980277061462], [0.9855964183807373], [0.9855749607086182], [0.9855740666389465], [0.9855615496635437], [0.9855603575706482], [0.9855519533157349], [0.9855419397354126], [0.9855214953422546], [0.9855212569236755], [0.9855136871337891], [0.9855073690414429], [0.9855022430419922], [0.9854946136474609], [0.9854938983917236], [0.9854785203933716], [0.9854689240455627], [0.9854599833488464], [0.9854295253753662], [0.9854289889335632], [0.9854279160499573], [0.9854267835617065], [0.9854040741920471], [0.9854031801223755], [0.9853938817977905], [0.9853923916816711], [0.9853861331939697], [0.9853768944740295], [0.9853565096855164], [0.9853506088256836], [0.9853470325469971], [0.9853364825248718], [0.9853329062461853], [0.9853329062461853], [0.9853290915489197], [0.9853235483169556], [0.9853083491325378], [0.9853000044822693], [0.9852985143661499], [0.985275387763977], [0.9852591753005981], [0.9852573275566101], [0.9852471351623535], [0.9852428436279297], [0.985237181186676], [0.9852336049079895], [0.9852264523506165], [0.9852228164672852], [0.9852166175842285], [0.9852105975151062], [0.9852039813995361], [0.9851509928703308], [0.9851469397544861], [0.9851342439651489], [0.9851314425468445], [0.9851277470588684], [0.985122561454773], [0.9851037859916687], [0.9850882887840271], [0.9850718379020691], [0.9850640892982483], [0.9850563406944275], [0.9850314855575562], [0.9850233793258667], [0.9850227236747742], [0.985018789768219], [0.9850000143051147], [0.9849943518638611], [0.9849851131439209], [0.9849814176559448], [0.9849628806114197], [0.9849541187286377], [0.9849485754966736], [0.9849438071250916], [0.9849427938461304], [0.9849409461021423], [0.9849234819412231], [0.9849204421043396], [0.984913170337677], [0.9849022030830383], [0.984900712966919], [0.9848945736885071], [0.9848905205726624], [0.9848840236663818], [0.9848757386207581], [0.9848757386207581], [0.9848478436470032], [0.9848402142524719], [0.9848254323005676], [0.9848204255104065], [0.98481684923172], [0.9848160743713379], [0.9848085641860962], [0.9847978949546814], [0.9847404360771179], [0.9847351312637329], [0.9847350120544434], [0.984730064868927], [0.9847158193588257], [0.9847018122673035], [0.9846994280815125], [0.9846895933151245], [0.9846893548965454], [0.9846770763397217], [0.9846770167350769], [0.984673261642456], [0.9846636056900024], [0.984660804271698], [0.9846470355987549], [0.9846447110176086], [0.984643816947937], [0.9846424460411072], [0.9846299290657043], [0.9846285581588745], [0.9846258759498596], [0.984623372554779], [0.9846227765083313], [0.9846175909042358], [0.9846161007881165], [0.9846113324165344], [0.9846104383468628], [0.9846031069755554], [0.9845937490463257], [0.9845899343490601], [0.9845889210700989], [0.9845884442329407], [0.9845781922340393], [0.9845518469810486], [0.9845421314239502], [0.9845312833786011], [0.9845297336578369], [0.9845289587974548], [0.9845287203788757], [0.9845065474510193], [0.9845063090324402], [0.9845061898231506], [0.9844920635223389], [0.9844895601272583], [0.9844861030578613], [0.9844733476638794], [0.9844597578048706], [0.9844568371772766], [0.9844557046890259], [0.9844427704811096], [0.9844362735748291], [0.9844257831573486], [0.9844212532043457], [0.984418511390686], [0.9844135046005249], [0.9844099283218384], [0.9844062328338623], [0.9844059944152832], [0.9844040274620056], [0.9844036102294922], [0.984399676322937], [0.9843859076499939], [0.9843765497207642], [0.9843754172325134], [0.9843751788139343], [0.9843721985816956], [0.9843661785125732], [0.9843462109565735], [0.9843101501464844], [0.9843027591705322], [0.9842995405197144], [0.9842900633811951], [0.9842801094055176], [0.9842790961265564], [0.9842790961265564], [0.9842783808708191], [0.9842714667320251], [0.98426753282547], [0.9842624664306641], [0.9842437505722046], [0.9842380881309509], [0.984235405921936], [0.9842340350151062], [0.9842174053192139], [0.9842051863670349], [0.9842029809951782], [0.9841980338096619], [0.9841902852058411], [0.9841872453689575], [0.9841833710670471], [0.9841566681861877], [0.984153687953949], [0.9841496348381042], [0.9841448664665222], [0.9841433763504028], [0.9841421246528625], [0.9841346144676208], [0.9841273427009583], [0.984097421169281], [0.9840919971466064], [0.9840825796127319], [0.9840786457061768], [0.984076201915741], [0.9840679168701172], [0.9840577244758606], [0.984053909778595], [0.9840405583381653], [0.9840307235717773], [0.9840277433395386], [0.9840260148048401], [0.9840248227119446], [0.9840219616889954], [0.9840202331542969], [0.9840196371078491], [0.9840083122253418], [0.9840062260627747], [0.9840050935745239], [0.9840012788772583], [0.9839866161346436], [0.9839637875556946], [0.9839630722999573], [0.9839431047439575], [0.9839372038841248], [0.9839298129081726], [0.9839222431182861], [0.9839116334915161], [0.9839088320732117], [0.9839069843292236], [0.9839008450508118], [0.9838990569114685], [0.9838976263999939], [0.9838820695877075], [0.9838788509368896], [0.9838738441467285], [0.9838618636131287], [0.9838545918464661], [0.9838521480560303], [0.9838512539863586], [0.9838415384292603], [0.9838404059410095], [0.9838301539421082], [0.9838166236877441], [0.9838115572929382], [0.9838035106658936], [0.9838032722473145], [0.9837954044342041], [0.9837818145751953], [0.9837782382965088], [0.9837775230407715], [0.9837741851806641], [0.9837630987167358], [0.9837601184844971], [0.983758270740509], [0.9837559461593628], [0.9837475419044495], [0.9837400317192078], [0.9837340116500854], [0.983726441860199], [0.9837073683738708], [0.9837065935134888], [0.9836890697479248], [0.9836828112602234], [0.9836772680282593], [0.9836621880531311], [0.9836516976356506], [0.9836349487304688], [0.9836269617080688], [0.9836267828941345], [0.9836100339889526], [0.9836100339889526], [0.983607828617096], [0.9836003184318542], [0.9835761189460754], [0.9835658669471741], [0.9835526943206787], [0.9835471510887146], [0.9835458993911743], [0.9835236668586731], [0.983500599861145], [0.9834945797920227], [0.9834656715393066], [0.9834528565406799], [0.9834513664245605], [0.9834504127502441], [0.9834444522857666], [0.9834417700767517], [0.9834331274032593], [0.9834306240081787], [0.9834215044975281], [0.9834201335906982], [0.9834179282188416], [0.9834098815917969], [0.9834000468254089], [0.9833999276161194], [0.9833593368530273], [0.9833545088768005], [0.9833496809005737], [0.9833335280418396], [0.9833292961120605], [0.9833241105079651], [0.9833090901374817], [0.9833049774169922], [0.9833039045333862], [0.9832981824874878], [0.9832907915115356], [0.9832889437675476], [0.9832774996757507], [0.9832704663276672], [0.9832618236541748], [0.9832503199577332], [0.9832473397254944], [0.9832234978675842], [0.9832208156585693], [0.9832188487052917], [0.9832098484039307], [0.9832090735435486], [0.983208954334259], [0.9832037687301636], [0.9831944108009338], [0.9831929206848145], [0.9831882119178772], [0.9831810593605042], [0.9831795692443848], [0.9831768870353699], [0.9831764698028564], [0.983173131942749], [0.9831720590591431], [0.9831715226173401], [0.9831662178039551], [0.9831626415252686], [0.9831504225730896], [0.9831483364105225], [0.9831418991088867], [0.9831382036209106], [0.9831374883651733], [0.9831347465515137], [0.9831188321113586], [0.9830927848815918], [0.9830676913261414], [0.9830673336982727], [0.9830544590950012], [0.9830480813980103], [0.9830324649810791], [0.9830280542373657], [0.9830227494239807], [0.9830190539360046], [0.9830137491226196], [0.9830066561698914], [0.9830016493797302], [0.9829958081245422], [0.9829931259155273], [0.9829623103141785], [0.9829182624816895], [0.9829014539718628], [0.982879102230072], [0.982862114906311], [0.9828516244888306], [0.9828431010246277], [0.9828422665596008], [0.982835590839386], [0.9827934503555298], [0.9827877283096313], [0.982772707939148], [0.9827531576156616], [0.9827501773834229], [0.9827338457107544], [0.9827260971069336], [0.9827228784561157], [0.9826927185058594], [0.9826860427856445], [0.9826860427856445], [0.9826860427856445], [0.9826783537864685], [0.9826776385307312], [0.9826720952987671], [0.9826645255088806], [0.9826562404632568], [0.9826480746269226], [0.9826377034187317], [0.9826265573501587], [0.9826231002807617], [0.9826142191886902], [0.9826101660728455], [0.9825968146324158], [0.9825965166091919], [0.9825931787490845], [0.9825892448425293], [0.9825841784477234], [0.9825744032859802], [0.9825741648674011], [0.9825592041015625], [0.9825435280799866], [0.9825415015220642], [0.9825342297554016], [0.9825299382209778], [0.9825223684310913], [0.9825209975242615], [0.9825155735015869], [0.9825144410133362], [0.9825119972229004], [0.9825092554092407], [0.9825061559677124], [0.9825018644332886], [0.9824991226196289], [0.9824979901313782], [0.9824942946434021], [0.982492208480835], [0.9824856519699097], [0.9824716448783875], [0.9824659824371338], [0.9824445843696594], [0.9824421405792236], [0.9824403524398804], [0.9824292659759521], [0.9824270009994507], [0.9824060201644897], [0.982396125793457], [0.9823869466781616], [0.982361376285553], [0.9823613166809082], [0.9823541641235352], [0.9823479652404785], [0.9823457598686218], [0.9823347330093384], [0.9823305606842041], [0.9823275804519653], [0.9823126196861267], [0.9823112487792969], [0.9823039770126343], [0.9822876453399658], [0.9822824001312256], [0.9822377562522888], [0.9822080731391907], [0.9822050929069519], [0.9821851849555969], [0.9821731448173523], [0.9821686148643494], [0.9821531176567078], [0.9821451902389526], [0.9821330904960632], [0.9821280241012573], [0.9821254014968872], [0.9821099638938904], [0.9821025133132935], [0.9820932149887085], [0.9820814728736877], [0.9820746779441833], [0.982065737247467], [0.9820635318756104], [0.9820610284805298], [0.9820318222045898], [0.9820263981819153], [0.982023298740387], [0.9820126295089722], [0.9820043444633484], [0.982001543045044], [0.9820014834403992], [0.9820000529289246], [0.9819970726966858], [0.9819966554641724], [0.9819952249526978], [0.9819949269294739], [0.9819924831390381], [0.9819874167442322], [0.9819838404655457], [0.9819836616516113], [0.9819667339324951], [0.9819608926773071], [0.98195880651474], [0.9819523692131042], [0.9819522500038147], [0.9819352626800537], [0.981907308101654], [0.9819044470787048], [0.9819031953811646], [0.981895923614502], [0.9818875193595886], [0.9818724989891052], [0.9818652272224426], [0.9818493723869324], [0.9818465113639832], [0.9818363189697266], [0.9818211197853088], [0.9818108081817627], [0.9818001985549927], [0.9817951321601868], [0.9817941188812256], [0.9817898869514465], [0.981758713722229], [0.9817296862602234], [0.9817185401916504], [0.9817156195640564], [0.9817042946815491], [0.981702983379364], [0.9816855192184448], [0.9816842675209045], [0.9816739559173584], [0.9816725850105286], [0.9816654324531555], [0.9816438555717468], [0.9816182255744934], [0.981610894203186], [0.981589138507843], [0.9815851449966431], [0.9815829396247864], [0.9815821647644043], [0.9815763235092163], [0.9815704226493835], [0.9815680384635925], [0.9815570116043091], [0.9815496802330017], [0.9815279245376587], [0.981515109539032], [0.98150235414505], [0.981500506401062], [0.9814605116844177], [0.9814414978027344], [0.9814282655715942], [0.9813998937606812], [0.9813986420631409], [0.9813944101333618], [0.9813922047615051], [0.9813759326934814], [0.9813733696937561], [0.9813699722290039], [0.9813677668571472], [0.9813512563705444], [0.9813337922096252], [0.9813230037689209], [0.9813193082809448], [0.9813186526298523], [0.9813038110733032], [0.9812970757484436], [0.9812905192375183], [0.9812878370285034], [0.9812688231468201], [0.9812605381011963], [0.9812567830085754], [0.9812414646148682], [0.9812410473823547], [0.9812381863594055], [0.9812304973602295], [0.9812209606170654], [0.9812191128730774], [0.9812146425247192], [0.9812139272689819], [0.9812110662460327], [0.9812104105949402], [0.9811906218528748], [0.9811714887619019], [0.9811455607414246], [0.9811277389526367], [0.9811146855354309], [0.9811133146286011], [0.9811016917228699], [0.9811000823974609], [0.9810978174209595], [0.9810953736305237], [0.9810876846313477], [0.9810830950737], [0.9810780882835388], [0.9810763597488403], [0.9810699224472046], [0.9810588955879211], [0.981052815914154], [0.981050431728363], [0.9810360670089722], [0.981021523475647], [0.9810158014297485], [0.9810128808021545], [0.9810102581977844], [0.9810081720352173], [0.9810077548027039], [0.980998694896698], [0.9809865355491638], [0.980979859828949], [0.9809796214103699], [0.9809777736663818], [0.9809733033180237], [0.9809731245040894], [0.9809707999229431], [0.9809505939483643], [0.9809476137161255], [0.9809207916259766], [0.9809117317199707], [0.9808905124664307], [0.9808839559555054], [0.9808680415153503], [0.980838418006897], [0.9808339476585388], [0.9808124303817749], [0.9808093309402466], [0.9808051586151123], [0.9808017611503601], [0.9808008074760437], [0.9808000326156616], [0.9807979464530945], [0.9807575941085815], [0.9807531237602234], [0.9807460308074951], [0.9807454347610474], [0.9807377457618713], [0.980721116065979], [0.9807044863700867], [0.9806932806968689], [0.9806846976280212], [0.9806826114654541], [0.9806662201881409], [0.9806649684906006], [0.9806619882583618], [0.9806540608406067], [0.9806532859802246], [0.9806468486785889], [0.9806429147720337], [0.9806045293807983], [0.9806021451950073], [0.9805927276611328], [0.9805901050567627], [0.9805867671966553], [0.9805853962898254], [0.9805833101272583], [0.9805819392204285], [0.9805783033370972], [0.9805734753608704], [0.980567991733551], [0.9805617928504944], [0.9805589318275452], [0.9805429577827454], [0.9805174469947815], [0.9805132746696472], [0.9805089235305786], [0.9804919958114624], [0.9804840683937073], [0.9804819226264954], [0.9804704189300537], [0.9804571270942688], [0.9804477691650391], [0.980445921421051], [0.9804453253746033], [0.9804431796073914], [0.9804372191429138], [0.9804264307022095], [0.9804264307022095], [0.9804229736328125], [0.9804182052612305], [0.980417013168335], [0.980410635471344], [0.9803952574729919], [0.9803817272186279], [0.9803729057312012], [0.9803664088249207], [0.9803612232208252], [0.9803472757339478], [0.980344295501709], [0.9803397059440613], [0.9803358316421509], [0.9803301692008972], [0.9803107380867004], [0.980309009552002], [0.9802961945533752], [0.980290412902832], [0.9802810549736023], [0.9802802205085754], [0.9802688956260681], [0.980268657207489], [0.9802680015563965], [0.9802630543708801], [0.980240523815155], [0.9802360534667969], [0.9802321195602417], [0.9802212715148926], [0.9802157282829285], [0.9802002906799316], [0.9801984429359436], [0.9801809191703796], [0.9801733493804932], [0.9801390171051025], [0.9801367521286011], [0.9801235795021057], [0.9801170229911804], [0.9800978899002075], [0.9800933003425598], [0.9800757169723511], [0.9800708889961243], [0.9800698757171631], [0.9800681471824646], [0.9800481200218201], [0.9800453782081604], [0.9800221920013428], [0.9800189137458801], [0.9800181984901428], [0.9799998998641968], [0.9799904823303223], [0.9799875020980835], [0.9799874424934387], [0.9799843430519104], [0.979983389377594], [0.9799649715423584], [0.9799644947052002], [0.9799639582633972], [0.9799583554267883], [0.9799574017524719], [0.9799556136131287], [0.9799531698226929], [0.9799348711967468], [0.9799306392669678], [0.9799231886863708], [0.9799221754074097], [0.979897677898407], [0.9798909425735474], [0.9798805117607117], [0.9798756837844849], [0.9798682332038879], [0.9798628687858582], [0.9798622727394104], [0.9798502922058105], [0.9798266887664795], [0.9798126220703125], [0.9797928333282471], [0.9797875881195068], [0.9797868728637695], [0.9797821640968323], [0.9797713160514832], [0.9797693490982056], [0.9797592759132385], [0.9797474145889282], [0.9797439575195312], [0.979740560054779], [0.9797254204750061], [0.9797128438949585], [0.9797046184539795], [0.9796940684318542], [0.9796893000602722], [0.9796578288078308], [0.979653000831604], [0.9796508550643921], [0.9796504974365234], [0.9796435236930847], [0.9796406626701355], [0.979620635509491], [0.9796008467674255], [0.9795971512794495], [0.9795922636985779], [0.979584276676178], [0.9795814752578735], [0.9795534610748291], [0.97955322265625], [0.9795500636100769], [0.9795472025871277], [0.9795445799827576], [0.9795421361923218], [0.9795225858688354], [0.9795215725898743], [0.9795193076133728], [0.9795162081718445], [0.9795149564743042], [0.9795114994049072], [0.9795109033584595], [0.9795108437538147], [0.9795021414756775], [0.9794957041740417], [0.979482889175415], [0.9794749021530151], [0.9794725179672241], [0.9794599413871765], [0.979453980922699], [0.9794496297836304], [0.9794439077377319], [0.9794378280639648], [0.9794318079948425], [0.979425847530365], [0.9794244766235352], [0.9794122576713562], [0.9794085621833801], [0.9793867468833923], [0.9793798923492432], [0.9793780446052551], [0.9793741703033447], [0.9793597459793091], [0.979336678981781], [0.9793311953544617], [0.9793208837509155], [0.9793196320533752], [0.979317307472229], [0.979313313961029], [0.9793114066123962], [0.9793079495429993], [0.9792901277542114], [0.9792823195457458], [0.9792769551277161], [0.9792767763137817], [0.979272186756134], [0.9792705774307251], [0.9792662262916565], [0.9792607426643372], [0.9792518019676208], [0.9792484045028687], [0.979248046875], [0.979246199131012], [0.9792301058769226], [0.9792216420173645], [0.9791997075080872], [0.9791978597640991], [0.9791890978813171], [0.9791883826255798], [0.9791584610939026], [0.9791537523269653], [0.9791396856307983], [0.9791328310966492], [0.9791260957717896], [0.9791256189346313], [0.9791254997253418], [0.9791106581687927], [0.9791091680526733], [0.9791056513786316], [0.9790899753570557], [0.9790853261947632], [0.9790770411491394], [0.9790688157081604], [0.9790526032447815], [0.9790353775024414], [0.9790352582931519], [0.9790290594100952], [0.9790286421775818], [0.9790233373641968], [0.979023277759552], [0.9790086150169373], [0.9789875745773315], [0.9789830446243286], [0.9789718389511108], [0.9789703488349915], [0.9789674878120422], [0.9789547920227051], [0.9789544939994812], [0.9789462685585022], [0.9789415597915649], [0.9789354801177979], [0.9789267182350159], [0.9789076447486877], [0.9789010286331177], [0.9788963198661804], [0.9788879752159119], [0.9788600206375122], [0.9788535833358765], [0.978851318359375], [0.9788397550582886], [0.9788286089897156], [0.9788217544555664], [0.978812038898468], [0.9788059592247009], [0.9787808656692505], [0.9787698984146118], [0.9787507057189941], [0.9787488579750061], [0.978739857673645], [0.9787262678146362], [0.9787164330482483], [0.9787085652351379], [0.9787004590034485], [0.9786965847015381], [0.9786958694458008], [0.9786892533302307], [0.9786741733551025], [0.9786596894264221], [0.978653073310852], [0.9786469340324402], [0.9786442518234253], [0.9786220192909241], [0.9786183834075928], [0.9786156415939331], [0.9786079525947571], [0.9786033034324646], [0.9785915613174438], [0.9785861968994141], [0.9785860776901245], [0.9785796403884888], [0.978574275970459], [0.9785707592964172], [0.9785687923431396], [0.9785640239715576], [0.9785580635070801], [0.9785577654838562], [0.9785568118095398], [0.9785557985305786], [0.9785506725311279], [0.9785474538803101], [0.9785079956054688], [0.9785036444664001], [0.9784854650497437], [0.9784806966781616], [0.9784792065620422], [0.9784666895866394], [0.9784253239631653], [0.9784196615219116], [0.9784018397331238], [0.9783993363380432], [0.9783968329429626], [0.9783915877342224], [0.9783629179000854], [0.9783591628074646], [0.9783509373664856], [0.9783434271812439], [0.9783309698104858], [0.9783223271369934], [0.9782963991165161], [0.9782785177230835], [0.9782771468162537], [0.9782696962356567], [0.9782502055168152], [0.978239119052887], [0.9782308340072632], [0.978224515914917], [0.9782202243804932], [0.978213906288147], [0.9781967997550964], [0.9781928062438965], [0.9781898856163025], [0.9781851768493652], [0.9781820774078369], [0.9781818985939026], [0.9781809449195862], [0.9781790375709534], [0.9781700372695923], [0.9781564474105835], [0.978146493434906], [0.9781324863433838], [0.978125274181366], [0.9781156182289124], [0.9781050086021423], [0.9781029224395752], [0.9781017899513245], [0.9780926704406738], [0.9780917763710022], [0.9780862927436829], [0.9780772924423218], [0.9780685305595398], [0.9780168533325195], [0.9780160784721375], [0.9780097603797913], [0.9779991507530212], [0.9779989719390869], [0.9779987335205078], [0.9779862761497498], [0.977982759475708], [0.9779807329177856], [0.9779707789421082], [0.977969765663147], [0.9779629111289978], [0.9779280424118042], [0.9779231548309326], [0.9779125452041626], [0.9779075384140015], [0.9778945446014404], [0.9778873324394226], [0.977882981300354], [0.9778791069984436], [0.9778788089752197], [0.9778743386268616], [0.9778733253479004], [0.9778525829315186], [0.9778453707695007], [0.97784024477005], [0.9778231382369995], [0.9778209924697876], [0.9777995944023132], [0.977784276008606], [0.9777756333351135], [0.9777562618255615], [0.9777308702468872], [0.9777297973632812], [0.977706253528595], [0.9776887893676758], [0.9776830077171326], [0.9776632785797119], [0.9776356816291809], [0.9776306748390198], [0.9776290059089661], [0.9776045680046082], [0.977601945400238], [0.9775993824005127], [0.9775825142860413], [0.9775805473327637], [0.9775698184967041], [0.9775582551956177], [0.9775416851043701], [0.9775367975234985], [0.9775350093841553], [0.9775265455245972], [0.9775264263153076], [0.9775197505950928], [0.9775153994560242], [0.977512538433075], [0.9775058031082153], [0.9774996638298035], [0.9774985313415527], [0.977497398853302], [0.9774917960166931], [0.9774850010871887], [0.9774504899978638], [0.977449893951416], [0.9774391055107117], [0.9774200916290283], [0.9774159789085388], [0.9774078726768494], [0.9773961305618286], [0.9773924946784973], [0.9773878455162048], [0.9773763418197632], [0.9773656129837036], [0.9773585796356201], [0.977310836315155], [0.9772830605506897], [0.9772818088531494], [0.9772746562957764], [0.9772711396217346], [0.9772698879241943], [0.9772678017616272], [0.977245032787323], [0.9772350192070007], [0.9772312641143799], [0.9772243499755859], [0.9772213697433472], [0.9772061109542847], [0.9772019982337952], [0.9771918654441833], [0.9771892428398132], [0.977179229259491], [0.9771742224693298], [0.977161169052124], [0.9771596789360046], [0.9771421551704407], [0.9771326780319214], [0.9771132469177246], [0.9771126508712769], [0.977111279964447], [0.9771052598953247], [0.9770873785018921], [0.9770859479904175], [0.9770772457122803], [0.9770737290382385], [0.977042555809021], [0.9770420789718628], [0.9770374298095703], [0.9770270586013794], [0.9770269989967346], [0.9770265221595764], [0.977024495601654], [0.9770195484161377], [0.977017879486084], [0.97699373960495], [0.9769788384437561], [0.9769573211669922], [0.9769529104232788], [0.9769495725631714], [0.9769493937492371], [0.9769456386566162], [0.9769442677497864], [0.9769415259361267], [0.976935625076294], [0.9769226312637329], [0.9768946170806885], [0.9768896698951721], [0.9768643975257874], [0.9768640398979187], [0.9768638014793396], [0.9768536686897278], [0.9768496155738831], [0.9768353700637817], [0.9768301248550415], [0.976816713809967], [0.9768078327178955], [0.9767974019050598], [0.976789653301239], [0.9767837524414062], [0.9767501950263977], [0.976749062538147], [0.9767465591430664], [0.9767366647720337], [0.9767231345176697], [0.9767211675643921], [0.976720929145813], [0.9767091274261475], [0.9767079949378967], [0.976707398891449], [0.9767060875892639], [0.9767024517059326], [0.9766998291015625], [0.9766978621482849], [0.9766938090324402], [0.9766921997070312], [0.9766896963119507], [0.976677417755127], [0.9766765832901001], [0.9766676425933838], [0.9766665101051331], [0.9766510128974915], [0.9766474962234497], [0.9766409993171692], [0.9766334891319275], [0.9766284227371216], [0.9766154289245605], [0.9766110181808472], [0.9766045212745667], [0.9765986204147339], [0.9765733480453491], [0.9765705466270447], [0.9765681624412537], [0.9765656590461731], [0.9765589237213135], [0.9765586853027344], [0.976545512676239], [0.9765349626541138], [0.9765335917472839], [0.9765327572822571], [0.976527988910675], [0.976527988910675], [0.976525068283081], [0.9765138030052185], [0.9764807224273682], [0.9764736890792847], [0.9764629006385803], [0.9764614105224609], [0.9764223098754883], [0.9764133095741272], [0.9764092564582825], [0.976398766040802], [0.9763565063476562], [0.9763383269309998], [0.9763073921203613], [0.9763063788414001], [0.9763009548187256], [0.9762987494468689], [0.976298451423645], [0.9762827754020691], [0.976280152797699], [0.9762598276138306], [0.976250946521759], [0.976250171661377], [0.9762406945228577], [0.9762368202209473], [0.9762360453605652], [0.9761921167373657], [0.9761838912963867], [0.9761757254600525], [0.9761709570884705], [0.9761610627174377], [0.9761600494384766], [0.9761600494384766], [0.9761457443237305], [0.9761281609535217], [0.976127028465271], [0.976125955581665], [0.9761191606521606], [0.9761114120483398], [0.9761098623275757], [0.9761091470718384], [0.9761008620262146], [0.976093053817749], [0.9760879278182983], [0.9760703444480896], [0.9760686159133911], [0.9760634899139404], [0.9760480523109436], [0.9760439991950989], [0.9760347604751587], [0.9760212898254395], [0.9760200381278992], [0.9760145545005798], [0.9759976267814636], [0.9759942293167114], [0.9759896993637085], [0.9759864211082458], [0.9759781360626221], [0.975977897644043], [0.9759606122970581], [0.9759522080421448], [0.9759366512298584], [0.9759355187416077], [0.9759212136268616], [0.9759091734886169], [0.9759052395820618], [0.9759012460708618], [0.9758854508399963], [0.9758688807487488], [0.9758618474006653], [0.9758485555648804], [0.9758383631706238], [0.9758346080780029], [0.9758339524269104], [0.9758092761039734], [0.9758071303367615], [0.9757981896400452], [0.9757684469223022], [0.9757587909698486], [0.9757564067840576], [0.9757551550865173], [0.9757368564605713], [0.9757338166236877], [0.9757223725318909], [0.9757179021835327], [0.9757124781608582], [0.9757020473480225], [0.9756993055343628], [0.9756959080696106], [0.975686252117157], [0.9756783246994019], [0.9756739139556885], [0.9756736755371094], [0.975665807723999], [0.9756645560264587], [0.9756587743759155], [0.9756459593772888], [0.975642204284668], [0.9756395220756531], [0.9756363034248352], [0.9756330251693726], [0.9756295084953308], [0.9756274819374084], [0.9756215810775757], [0.9756115078926086], [0.9756007194519043], [0.9755891561508179], [0.9755820035934448], [0.9755703806877136], [0.9755702018737793], [0.9755632877349854], [0.9755592942237854], [0.9755499958992004], [0.97554612159729], [0.9755362868309021], [0.9755313992500305], [0.9755247831344604], [0.9755222797393799], [0.9755122065544128], [0.9755088090896606], [0.9754893183708191], [0.9754839539527893], [0.9754769206047058], [0.9754688739776611], [0.9754670858383179], [0.9754667282104492], [0.9754651188850403], [0.9754630923271179], [0.9754610657691956], [0.9754548072814941], [0.9754412174224854], [0.975430428981781], [0.9754229187965393], [0.9754118323326111], [0.9754060506820679], [0.9753923416137695], [0.9753869771957397], [0.975383460521698], [0.9753819704055786], [0.9753813147544861], [0.975376546382904], [0.975371778011322], [0.9753612279891968], [0.9753494262695312], [0.9753480553627014], [0.9753202795982361], [0.9752992391586304], [0.9752801656723022], [0.9752801656723022], [0.9752629399299622], [0.9752570390701294], [0.9752510190010071], [0.9752354025840759], [0.9752346873283386], [0.9752248525619507], [0.9752234816551208], [0.9751994609832764], [0.9751884341239929], [0.9751856327056885], [0.9751806259155273], [0.9751805067062378], [0.9751800298690796], [0.9751723408699036], [0.9751519560813904], [0.9751463532447815], [0.9751375317573547], [0.9751224517822266], [0.9751167893409729], [0.9751162528991699], [0.9751128554344177], [0.9751024842262268], [0.9750960469245911], [0.9750853776931763], [0.975078284740448], [0.9750738143920898], [0.9750663638114929], [0.9750645160675049], [0.9750526547431946], [0.975045382976532], [0.9750378131866455], [0.975026547908783], [0.9750224947929382], [0.9750115275382996], [0.9750047326087952], [0.9749996066093445], [0.9749854207038879], [0.9749787449836731], [0.9749489426612854], [0.9749427437782288], [0.9749369621276855], [0.9749255180358887], [0.9749176502227783], [0.9748992323875427], [0.9748985171318054], [0.97487872838974], [0.9748781323432922], [0.974867582321167], [0.9748465418815613], [0.9748386144638062], [0.9748331904411316], [0.9748331904411316], [0.9748176336288452], [0.9748157262802124], [0.9747971296310425], [0.9747614860534668], [0.9747417569160461], [0.9747316837310791], [0.9747281670570374], [0.9747138023376465], [0.9746793508529663], [0.974664032459259], [0.9746638536453247], [0.974663257598877], [0.9746580719947815], [0.9746531844139099], [0.9746485352516174], [0.9746427536010742], [0.9746372103691101], [0.9746368527412415], [0.9746246337890625], [0.9746073484420776], [0.9745985865592957], [0.9745825529098511], [0.9745743870735168], [0.9745717644691467], [0.9745684862136841], [0.9745652079582214], [0.9745646119117737], [0.9745622873306274], [0.9745582938194275], [0.9745571613311768], [0.9745511412620544], [0.9745498895645142], [0.9745491147041321], [0.9745278358459473], [0.9745251536369324], [0.974518358707428], [0.9745152592658997], [0.9745051860809326], [0.9744943380355835], [0.9744520783424377], [0.9744514226913452], [0.9744369387626648], [0.9744336605072021], [0.974418044090271], [0.9744113683700562], [0.9744092226028442], [0.9743950366973877], [0.9743897318840027], [0.9743874669075012], [0.9743770360946655], [0.9743770360946655], [0.9743631482124329], [0.9743583798408508], [0.9743512868881226], [0.9743437767028809], [0.9743285179138184], [0.9743186831474304], [0.9743170738220215], [0.9743146896362305], [0.9743143916130066], [0.974312424659729], [0.9743102788925171], [0.9742954969406128], [0.9742897152900696], [0.974287211894989], [0.9742797613143921], [0.9742785096168518], [0.974277675151825], [0.9742766618728638], [0.9742727279663086], [0.9742693305015564], [0.9742513298988342], [0.9742506742477417], [0.9742379784584045], [0.9742283821105957], [0.9742261171340942], [0.9742257595062256], [0.9742127656936646], [0.9742103815078735], [0.9742003083229065], [0.9741990566253662], [0.9741973876953125], [0.9741831421852112], [0.9741762280464172], [0.9741727113723755], [0.9741696715354919], [0.9741665124893188], [0.9741634130477905], [0.9741601347923279], [0.9741542935371399], [0.9741393327713013], [0.974137544631958], [0.974135160446167], [0.9741318821907043], [0.9741180539131165], [0.9741175174713135], [0.974103569984436], [0.9741032719612122], [0.9740883111953735], [0.9740871787071228], [0.9740849137306213], [0.9740832448005676], [0.9740769863128662], [0.9740691184997559], [0.9740637540817261], [0.9740620851516724], [0.9740579128265381], [0.9740409255027771], [0.974035382270813], [0.9740285873413086], [0.9740270376205444], [0.9740232825279236], [0.974018394947052], [0.9740157127380371], [0.9740104079246521], [0.9740095734596252], [0.9739988446235657], [0.9739930033683777], [0.9739828109741211], [0.9739817976951599], [0.973969578742981], [0.9739664196968079], [0.9739550948143005], [0.973953366279602], [0.9739486575126648], [0.9739485383033752], [0.97394198179245], [0.973940372467041], [0.973934531211853], [0.9739277362823486], [0.9739195704460144], [0.9739121198654175], [0.9739061594009399], [0.9738993644714355], [0.9738977551460266], [0.973896861076355], [0.9738911986351013], [0.9738906621932983], [0.9738867878913879], [0.9738624691963196], [0.9738405346870422], [0.9738355875015259], [0.9738287925720215], [0.9738261103630066], [0.973823606967926], [0.9738230109214783], [0.9738224744796753], [0.9738165736198425], [0.9737755656242371], [0.9737633466720581], [0.9737605452537537], [0.9737415313720703], [0.9737333655357361], [0.9737331867218018], [0.9737257957458496], [0.9737122654914856], [0.9737070798873901], [0.9736959934234619], [0.9736406207084656], [0.9736379981040955], [0.9736374616622925], [0.9736246466636658], [0.9736203551292419], [0.9736113548278809], [0.9735879302024841], [0.9735764265060425], [0.9735710024833679], [0.9735698699951172], [0.9735281467437744], [0.973520040512085], [0.9735168814659119], [0.9735061526298523], [0.9734808206558228], [0.9734671711921692], [0.9734557867050171], [0.9734542965888977], [0.9734460711479187], [0.9734415411949158], [0.9734093546867371], [0.9734077453613281], [0.9734049439430237], [0.9734004139900208], [0.9733824729919434], [0.9733812212944031], [0.9733803272247314], [0.9733778238296509], [0.9733638167381287], [0.9733388423919678], [0.9733381867408752], [0.9733205437660217], [0.9733178615570068], [0.9733046293258667], [0.973301112651825], [0.9732956290245056], [0.97327721118927], [0.9732378125190735], [0.9732367396354675], [0.9732328057289124], [0.9732229709625244], [0.9732154011726379], [0.97320955991745], [0.9731877446174622], [0.9731864333152771], [0.9731854796409607], [0.9731830358505249], [0.9731773734092712], [0.9731652140617371], [0.973162055015564], [0.9731591939926147], [0.9731476902961731], [0.97314453125], [0.9731336832046509], [0.9731243252754211], [0.9731183648109436], [0.973118245601654], [0.973115861415863], [0.9730995893478394], [0.9730759859085083], [0.9730622172355652], [0.9730579257011414], [0.9730575084686279], [0.9730438590049744], [0.973037600517273], [0.9730228185653687], [0.9730215072631836], [0.9730162024497986], [0.9730058312416077], [0.9730005264282227], [0.9729993939399719], [0.9729989171028137], [0.9729743003845215], [0.9729698896408081], [0.9729644060134888], [0.9729576110839844], [0.9729501605033875], [0.9729342460632324], [0.9729340076446533], [0.9729233980178833], [0.9729170799255371], [0.9729145169258118], [0.972913920879364], [0.9729017615318298], [0.9728924036026001], [0.9728835821151733], [0.9728833436965942], [0.9728622436523438], [0.9728549122810364], [0.9728532433509827], [0.9728459119796753], [0.9728398323059082], [0.9728397130966187], [0.972838819026947], [0.9728249311447144], [0.9728140830993652], [0.972806990146637], [0.9728030562400818], [0.9728010892868042], [0.9727790951728821], [0.9727532863616943], [0.9727393984794617], [0.9727274775505066], [0.9727236032485962], [0.9727161526679993], [0.9727075099945068], [0.9727057814598083], [0.9726945161819458], [0.9726893305778503], [0.9726842641830444], [0.9726709723472595], [0.9726658463478088], [0.9726456999778748], [0.9726430773735046], [0.9726346135139465], [0.9726271033287048], [0.9726123213768005], [0.9726036190986633], [0.9726014733314514], [0.9726001024246216], [0.9725981950759888], [0.9725937843322754], [0.9725878238677979], [0.9725750684738159], [0.972572386264801], [0.9725667238235474], [0.9725639224052429], [0.9725603461265564], [0.9725493788719177], [0.9725435376167297], [0.9725416302680969], [0.9725066423416138], [0.9724987745285034], [0.9724847674369812], [0.9724684357643127], [0.9724570512771606], [0.9724526405334473], [0.9724341630935669], [0.9724338054656982], [0.972423791885376], [0.9724164605140686], [0.9724145531654358], [0.9724059700965881], [0.9724030494689941], [0.9723807573318481], [0.9723783731460571], [0.9723762273788452], [0.9723746180534363], [0.972350537776947], [0.9723337292671204], [0.9723219275474548], [0.9723082780838013], [0.9723081588745117], [0.9723078012466431], [0.9723076820373535], [0.9723064303398132], [0.9722995758056641], [0.9722952842712402], [0.9722890853881836], [0.9722822308540344], [0.9722713232040405], [0.9722698330879211], [0.972264289855957], [0.9722515940666199], [0.9722455143928528], [0.9722404479980469], [0.9722219705581665], [0.9722152948379517], [0.9721998572349548], [0.9721937775611877], [0.9721801280975342], [0.9721741676330566], [0.9721654653549194], [0.9721559286117554], [0.9721553325653076], [0.9721466898918152], [0.9721355438232422], [0.9721322655677795], [0.9721277356147766], [0.9721190929412842], [0.9720901250839233], [0.9720870852470398], [0.9720696210861206], [0.9720422625541687], [0.9720420241355896], [0.9720405340194702], [0.9720384478569031], [0.9720268249511719], [0.9720206260681152], [0.9720191359519958], [0.972000777721405], [0.9719824194908142], [0.9719809889793396], [0.9719727635383606], [0.9719637632369995], [0.971954882144928], [0.9719493389129639], [0.9719240069389343], [0.9719128608703613], [0.9719107151031494], [0.9719013571739197], [0.9718983173370361], [0.9718958735466003], [0.9718834757804871], [0.9718804359436035], [0.9718647599220276], [0.9718637466430664], [0.9718608260154724], [0.9718524813652039], [0.9718508124351501], [0.971845269203186], [0.9718413352966309], [0.9718220829963684], [0.9718078970909119], [0.9718046188354492], [0.9717913866043091], [0.971774697303772], [0.9717724323272705], [0.9717602729797363], [0.9717506170272827], [0.9717422723770142], [0.971737802028656], [0.9717370867729187], [0.9717338681221008], [0.9717176556587219], [0.9717147946357727], [0.971701979637146], [0.9716963768005371], [0.9716833829879761], [0.9716817140579224], [0.9716729521751404], [0.9716712832450867], [0.9716703295707703], [0.9716264605522156], [0.9716240763664246], [0.9716086983680725], [0.9716070890426636], [0.9716065526008606], [0.971594512462616], [0.97157883644104], [0.9715743660926819], [0.971569836139679], [0.9715682864189148], [0.9715600609779358], [0.9715592861175537], [0.9715576171875], [0.9715429544448853], [0.9715373516082764], [0.9715350866317749], [0.971503496170044], [0.9715029001235962], [0.9715004563331604], [0.9714913368225098], [0.971486508846283], [0.9714699387550354], [0.9714683890342712], [0.9714657664299011], [0.9714605808258057], [0.9714540839195251], [0.971441388130188], [0.971441388130188], [0.9714359641075134], [0.9714155197143555], [0.9713858962059021], [0.9713665843009949], [0.9713647365570068], [0.9713594913482666], [0.9713566899299622], [0.971355676651001], [0.9713468551635742], [0.9713402390480042], [0.9713359475135803], [0.9713358879089355], [0.9713298082351685], [0.9712825417518616], [0.971276044845581], [0.9712753295898438], [0.9712637662887573], [0.9712374806404114], [0.9712363481521606], [0.9712314009666443], [0.9712273478507996], [0.9712140560150146], [0.9712105989456177], [0.9711889624595642], [0.9711793065071106], [0.9711741209030151], [0.9711589813232422], [0.9711472988128662], [0.971135139465332], [0.9711262583732605], [0.9711224436759949], [0.9711179137229919], [0.971114993095398], [0.9711138606071472], [0.9711097478866577], [0.9711028933525085], [0.9710873365402222], [0.9710859060287476], [0.9710617065429688], [0.971054196357727], [0.9710476994514465], [0.9710183143615723], [0.9710128307342529], [0.9710050821304321], [0.9709814786911011], [0.9709638357162476], [0.9709628224372864], [0.9709216952323914], [0.9708927869796753], [0.970890462398529], [0.9708881974220276], [0.9708846211433411], [0.9708828926086426], [0.970867395401001], [0.9708611369132996], [0.9708536863327026], [0.9708534479141235], [0.9708521366119385], [0.9708343744277954], [0.9707993268966675], [0.9707943797111511], [0.9707896709442139], [0.9707852602005005], [0.9707830548286438], [0.9707772731781006], [0.9707648158073425], [0.9707133769989014], [0.9707132577896118], [0.9706870913505554], [0.9706841707229614], [0.9706736207008362], [0.9706639647483826], [0.9706573486328125], [0.9706567525863647], [0.9706482291221619], [0.9706401228904724], [0.9706375598907471], [0.9706371426582336], [0.970634400844574], [0.9706332087516785], [0.9706206917762756], [0.9706158638000488], [0.970609724521637], [0.9705988168716431], [0.9705972671508789], [0.9705925583839417], [0.9705885052680969], [0.9705596566200256], [0.9705552458763123], [0.9705480337142944], [0.9705381989479065], [0.97053062915802], [0.97053062915802], [0.9705214500427246], [0.9705179929733276], [0.9705116748809814], [0.9705092310905457], [0.9705057144165039], [0.9705036878585815], [0.9704992175102234], [0.97048419713974], [0.9704755544662476], [0.9704603552818298], [0.970460057258606], [0.9704452157020569], [0.9704443216323853], [0.9704350233078003], [0.9704338908195496], [0.9704266786575317], [0.9704084992408752], [0.9704065918922424], [0.9703997373580933], [0.9703968167304993], [0.970395028591156], [0.970392107963562], [0.9703914523124695], [0.970364511013031], [0.9703618288040161], [0.970361590385437], [0.9703609347343445], [0.9703393578529358], [0.9703363180160522], [0.9703357815742493], [0.9703266620635986], [0.9703253507614136], [0.9703088402748108], [0.970304012298584], [0.9703015089035034], [0.9703014492988586], [0.9702971577644348], [0.9702853560447693], [0.9702850580215454], [0.9702759385108948], [0.9702746272087097], [0.9702708721160889], [0.970261812210083], [0.9702516794204712], [0.9702454209327698], [0.9702134132385254], [0.9702101945877075], [0.9702090620994568], [0.9701976180076599], [0.9701944589614868], [0.9701874256134033], [0.9701666235923767], [0.9701524972915649], [0.9701350331306458], [0.9701293110847473], [0.970118522644043], [0.9701131582260132], [0.9700876474380493], [0.9700759053230286], [0.9700638651847839], [0.9700637459754944], [0.9700601696968079], [0.9700595140457153], [0.9700311422348022], [0.9700120687484741], [0.9700101613998413], [0.9700087904930115], [0.970005989074707], [0.9700055718421936], [0.9700008630752563], [0.9699856042861938], [0.9699759483337402], [0.9699742794036865], [0.9699723720550537], [0.969944417476654], [0.9699324369430542], [0.9699295163154602], [0.9699293971061707], [0.9699276089668274], [0.9699044823646545], [0.9698693752288818], [0.9698642492294312], [0.9698484539985657], [0.9698368906974792], [0.969826340675354], [0.9698249697685242], [0.9697959423065186], [0.9697902202606201], [0.969785749912262], [0.9697803854942322], [0.9697794914245605], [0.969775915145874], [0.9697721004486084], [0.9697645902633667], [0.9697578549385071], [0.9697527885437012], [0.9697489738464355], [0.9697462916374207], [0.969717800617218], [0.969717264175415], [0.9697152376174927], [0.9697133302688599], [0.969701886177063], [0.9696940779685974], [0.9696900248527527], [0.9696778059005737], [0.9696692824363708], [0.9696677327156067], [0.9696669578552246], [0.9696516990661621], [0.9696420431137085], [0.9696316123008728], [0.9696283936500549], [0.9696215391159058], [0.9696189761161804], [0.9695833325386047], [0.9695804119110107], [0.9695725440979004], [0.9695363640785217], [0.969512939453125], [0.9695039987564087], [0.9695026278495789], [0.9695014953613281], [0.9694933295249939], [0.969484806060791], [0.9694833755493164], [0.9694817066192627], [0.9694520235061646], [0.9694412350654602], [0.9694385528564453], [0.9694238901138306], [0.9694212675094604], [0.9694128036499023], [0.9694048166275024], [0.9694008231163025], [0.9693971276283264], [0.9693937301635742], [0.9693878293037415], [0.9693873524665833], [0.9693720936775208], [0.9693659543991089], [0.9693329334259033], [0.9693270921707153], [0.9693168997764587], [0.9693092703819275], [0.9693041443824768], [0.9693004488945007], [0.9692997336387634], [0.9692922830581665], [0.9692853093147278], [0.9692797064781189], [0.9692790508270264], [0.9692654013633728], [0.969251275062561], [0.9692502617835999], [0.9692329168319702], [0.9692317843437195], [0.969216525554657], [0.9692044258117676], [0.9692022204399109], [0.9691943526268005], [0.9691926836967468], [0.9691810607910156], [0.9691715240478516], [0.9691677093505859], [0.9691618084907532], [0.9691606760025024], [0.9691426753997803], [0.9691362380981445], [0.9691196084022522], [0.9691097140312195], [0.9691091775894165], [0.9690973162651062], [0.9690883159637451], [0.9690840840339661], [0.9690824151039124], [0.9690667390823364], [0.9690638184547424], [0.9690533876419067], [0.9690417647361755], [0.9690266847610474], [0.969021737575531], [0.9689931869506836], [0.9689851403236389], [0.96897953748703], [0.9689754843711853], [0.9689754247665405], [0.968975305557251], [0.9689691066741943], [0.9689611792564392], [0.9689562320709229], [0.9689506888389587], [0.9689444899559021], [0.9689432978630066], [0.9689401388168335], [0.968926727771759], [0.9689261317253113], [0.9689250588417053], [0.9689248204231262], [0.9689227938652039], [0.9688925743103027], [0.9688887596130371], [0.9688723087310791], [0.9688573479652405], [0.9688518643379211], [0.9688498377799988], [0.9688422083854675], [0.9688419103622437], [0.9688395261764526], [0.9688329100608826], [0.9688165783882141], [0.9688147902488708], [0.9688053131103516], [0.968802809715271], [0.9687775373458862], [0.9687744379043579], [0.9687737226486206], [0.9687636494636536], [0.9687581062316895], [0.9687576293945312], [0.968752384185791], [0.9687072038650513], [0.9686993360519409], [0.9686974287033081], [0.9686907529830933], [0.9686781167984009], [0.9686623215675354], [0.9686574935913086], [0.9686535000801086], [0.9686485528945923], [0.9686402678489685], [0.9686319231987], [0.9686170220375061], [0.9685841202735901], [0.96855229139328], [0.9685506224632263], [0.9685466885566711], [0.9685350656509399], [0.9685341715812683], [0.9685284495353699], [0.9685161709785461], [0.9684945940971375], [0.9684906601905823], [0.9684845209121704], [0.9684836268424988], [0.9684800505638123], [0.9684739708900452], [0.9684683084487915], [0.9684597849845886], [0.9684597849845886], [0.9684327244758606], [0.9684152007102966], [0.9684075713157654], [0.9684065580368042], [0.9684061408042908], [0.9683945178985596], [0.9683898091316223], [0.9683763980865479], [0.9683620929718018], [0.9683548212051392], [0.9683389663696289], [0.9683294296264648], [0.9683282375335693], [0.9683108925819397], [0.9683037400245667], [0.968285858631134], [0.9682830572128296], [0.9682696461677551], [0.9682691097259521], [0.968268096446991], [0.9682661890983582], [0.9682517647743225], [0.9682449698448181], [0.9682399034500122], [0.968234121799469], [0.9682102799415588], [0.9682083129882812], [0.9682018160820007], [0.9681880474090576], [0.968183159828186], [0.9681803584098816], [0.9681326746940613], [0.9681227207183838], [0.9681176543235779], [0.9681049585342407], [0.9681035876274109], [0.9680989980697632], [0.9680975675582886], [0.9680929780006409], [0.9680887460708618], [0.9680837392807007], [0.9680761098861694], [0.9680576920509338], [0.9680575728416443], [0.9680430293083191], [0.968035101890564], [0.9680110812187195], [0.9680109024047852], [0.9680087566375732], [0.9680073261260986], [0.967990517616272], [0.9679713249206543], [0.9679637551307678], [0.9679545760154724], [0.9679470062255859], [0.9679383635520935], [0.967909574508667], [0.9679065346717834], [0.967888355255127], [0.9678781032562256], [0.9678575396537781], [0.9678494930267334], [0.9678365588188171], [0.9678201079368591], [0.967819333076477], [0.9678174257278442], [0.9678148627281189], [0.9677826166152954], [0.9677762389183044], [0.9677676558494568], [0.9677601456642151], [0.9677496552467346], [0.9677402973175049], [0.9677294492721558], [0.9677267670631409], [0.9677254557609558], [0.9677217602729797], [0.9677198529243469], [0.96771639585495], [0.96771240234375], [0.9676960706710815], [0.9676846861839294], [0.9676769971847534], [0.9676593542098999], [0.9676545858383179], [0.9676450490951538], [0.9676442742347717], [0.9676350355148315], [0.9676282405853271], [0.9676268696784973], [0.9676171541213989], [0.9676045775413513], [0.9675988554954529], [0.9675929546356201], [0.9675924777984619], [0.9675688147544861], [0.967566967010498], [0.9675658345222473], [0.9675511121749878], [0.9675493240356445], [0.9675433039665222], [0.967527449131012], [0.9675152897834778], [0.9675123691558838], [0.9674813747406006], [0.9674769043922424], [0.9674591422080994], [0.967434823513031], [0.9674329161643982], [0.9674322605133057], [0.9674157500267029], [0.9674149751663208], [0.9674000144004822], [0.9673823714256287], [0.9673792719841003], [0.9673787951469421], [0.9673730134963989], [0.9673702120780945], [0.9673647880554199], [0.9673628807067871], [0.9673566222190857], [0.967356264591217], [0.9673493504524231], [0.967345118522644], [0.9673398733139038], [0.9673236012458801], [0.9673213958740234], [0.9673150181770325], [0.9673150181770325], [0.9673140048980713], [0.9673083424568176], [0.9672970771789551], [0.9672887921333313], [0.9672854542732239], [0.9672839045524597], [0.9672538638114929], [0.9672530889511108], [0.9672418236732483], [0.967241644859314], [0.9672353863716125], [0.9672324657440186], [0.9672264456748962], [0.9672062397003174], [0.9671952128410339], [0.9671927690505981], [0.9671853184700012], [0.9671734571456909], [0.967170238494873], [0.9671684503555298], [0.9671516418457031], [0.9671193957328796], [0.9671059250831604], [0.9670905470848083], [0.9670903086662292], [0.9670835137367249], [0.9670749306678772], [0.9670544862747192], [0.9670422673225403], [0.9670402407646179], [0.9670253992080688], [0.9670178294181824], [0.9670084714889526], [0.9670022130012512], [0.9669966697692871], [0.9669918417930603], [0.9669824838638306], [0.9669429063796997], [0.9669331312179565], [0.9669176340103149], [0.9669094681739807], [0.966903030872345], [0.9668905735015869], [0.9668880701065063], [0.9668760895729065], [0.9668664932250977], [0.9668571352958679], [0.9668564200401306], [0.9668485522270203], [0.96684330701828], [0.9668421745300293], [0.966805100440979], [0.9667922854423523], [0.9667842388153076], [0.9667750000953674], [0.966757595539093], [0.9667521715164185], [0.9667484760284424], [0.9667252898216248], [0.966722846031189], [0.9667096138000488], [0.9667053818702698], [0.9666990041732788], [0.9666857719421387], [0.9666749238967896], [0.9666725993156433], [0.9666584730148315], [0.9666560292243958], [0.9666374921798706], [0.9666314125061035], [0.9666203856468201], [0.9666155576705933], [0.9666069149971008], [0.9665954113006592], [0.9665888547897339], [0.9665847420692444], [0.9665797352790833], [0.9665600061416626], [0.9665593504905701], [0.9665561318397522], [0.9665222764015198], [0.9665039777755737], [0.9664984345436096], [0.9664964079856873], [0.9664729237556458], [0.9664563536643982], [0.9664520025253296], [0.9664468765258789], [0.9664388298988342], [0.9664241671562195], [0.9664061069488525], [0.9663949608802795], [0.9663643836975098], [0.9663498997688293], [0.966347873210907], [0.9663450121879578], [0.9663389921188354], [0.9663269519805908], [0.9663140177726746], [0.966305673122406], [0.9662991166114807], [0.9662834405899048], [0.9662812948226929], [0.9662672877311707], [0.9662652015686035], [0.9662573933601379], [0.9662571549415588], [0.9662562608718872], [0.9662562608718872], [0.9662527441978455], [0.9662507176399231], [0.966250479221344], [0.9662296772003174], [0.9662192463874817], [0.9662190079689026], [0.9662145376205444], [0.9662047624588013], [0.966196596622467], [0.9661893844604492], [0.9661859273910522], [0.9661831855773926], [0.966159999370575], [0.9661539196968079], [0.9661532044410706], [0.9661489725112915], [0.9661399722099304], [0.9661344289779663], [0.9661246538162231], [0.9661232829093933], [0.9661164879798889], [0.966116189956665], [0.9661148190498352], [0.9660961627960205], [0.9660796523094177], [0.9660793542861938], [0.9660771489143372], [0.9660620093345642], [0.9660524129867554], [0.966048538684845], [0.9660395979881287], [0.9660384058952332], [0.9660305976867676], [0.9660285115242004], [0.9660272598266602], [0.9660154581069946], [0.965977132320404], [0.9659758806228638], [0.9659684300422668], [0.9659676551818848], [0.9659556150436401], [0.9659518599510193], [0.9659411907196045], [0.9659181833267212], [0.9659180641174316], [0.9659152626991272], [0.9658981561660767], [0.965889036655426], [0.9658804535865784], [0.9658743143081665], [0.9658434391021729], [0.9658426642417908], [0.9658243060112], [0.9657997488975525], [0.9657899141311646], [0.9657865166664124], [0.9657855033874512], [0.9657703638076782], [0.965768575668335], [0.9657503366470337], [0.9657416939735413], [0.9657401442527771], [0.9657184481620789], [0.9657095670700073], [0.9656926393508911], [0.9656848907470703], [0.9656678438186646], [0.9656630754470825], [0.9656625390052795], [0.9656529426574707], [0.9656140804290771], [0.9656124114990234], [0.9656077027320862], [0.9655953645706177], [0.9655892848968506], [0.9655687212944031], [0.9655620455741882], [0.9655504822731018], [0.9655491709709167], [0.9655489325523376], [0.9655424952507019], [0.9655401706695557], [0.9655272364616394], [0.9655224680900574], [0.9655050039291382], [0.9655023813247681], [0.9654886722564697], [0.9654744863510132], [0.9654605984687805], [0.9654605984687805], [0.9654524922370911], [0.9654287099838257], [0.9654268026351929], [0.9654110074043274], [0.9654050469398499], [0.9653920531272888], [0.9653789401054382], [0.965377151966095], [0.965377151966095], [0.9653766751289368], [0.9653630256652832], [0.9653473496437073], [0.9653470516204834], [0.9653380513191223], [0.9653306007385254], [0.9653211236000061], [0.9652953743934631], [0.9652890563011169], [0.965278148651123], [0.9652682542800903], [0.9652577042579651], [0.9652535915374756], [0.9652436375617981], [0.9651970863342285], [0.9651939868927002], [0.9651933312416077], [0.9651885628700256], [0.9651878476142883], [0.965182900428772], [0.9651786684989929], [0.965172529220581], [0.9651654362678528], [0.9651477932929993], [0.9651427865028381], [0.9651237726211548], [0.9651225805282593], [0.9651184678077698], [0.9651101231575012], [0.9650954604148865], [0.9650865793228149], [0.9650831818580627], [0.9650827050209045], [0.9650710821151733], [0.9650657176971436], [0.9650530815124512], [0.9650266170501709], [0.9650161862373352], [0.9650014638900757], [0.9649850130081177], [0.9649694561958313], [0.9649668335914612], [0.9649657011032104], [0.9649601578712463], [0.9649468064308167], [0.964940071105957], [0.9649282693862915], [0.9649164080619812], [0.9649126529693604], [0.9648954272270203], [0.9648933410644531], [0.9648886919021606], [0.9648857712745667], [0.9648854732513428], [0.9648808836936951], [0.9648744463920593], [0.9648383855819702], [0.9648359417915344], [0.9648231863975525], [0.9648048877716064], [0.9648035764694214], [0.9647761583328247], [0.964758038520813], [0.9647467732429504], [0.9647366404533386], [0.9647333025932312], [0.9647328853607178], [0.9647285342216492], [0.9647197723388672], [0.9646840691566467], [0.9646661877632141], [0.9646652936935425], [0.9646584391593933], [0.9646546840667725], [0.9646362662315369], [0.9646137356758118], [0.9646016359329224], [0.9646000862121582], [0.9645966291427612], [0.9645900130271912], [0.9645674824714661], [0.9645417332649231], [0.9645295739173889], [0.9645240306854248], [0.964518666267395], [0.9645176529884338], [0.9645145535469055], [0.9644845128059387], [0.9644598960876465], [0.9644561409950256], [0.9644482731819153], [0.9644449353218079], [0.9644407033920288], [0.9644393920898438], [0.9644262194633484], [0.964424192905426], [0.9644131064414978], [0.9644039273262024], [0.9643866419792175], [0.9643605351448059], [0.9643591046333313], [0.9643459320068359], [0.9643247723579407], [0.9643241763114929], [0.9643129110336304], [0.9643067121505737], [0.964301347732544], [0.9643006920814514], [0.9642974734306335], [0.9642888307571411], [0.9642741084098816], [0.9642594456672668], [0.9642490744590759], [0.9642346501350403], [0.9642236828804016], [0.964182436466217], [0.9641677141189575], [0.9641623497009277], [0.9641616940498352], [0.9641308188438416], [0.9641039967536926], [0.9640978574752808], [0.9640967845916748], [0.9640892148017883], [0.9640771746635437], [0.9640525579452515], [0.9640389680862427], [0.9640193581581116], [0.9640070199966431], [0.9640010595321655], [0.964000403881073], [0.9639934301376343], [0.963986873626709], [0.963964581489563], [0.9639606475830078], [0.9639410376548767], [0.9639273881912231], [0.9639187455177307], [0.9639068841934204], [0.9639033675193787], [0.9638965725898743], [0.9638952612876892], [0.9638891816139221], [0.9638411998748779], [0.9638320207595825], [0.9638193845748901], [0.9638122916221619], [0.9638018012046814], [0.9637913107872009], [0.9637628197669983], [0.9637589454650879], [0.9637382626533508], [0.9637345671653748], [0.9637337327003479], [0.9637317061424255], [0.9637133479118347], [0.9637043476104736], [0.9637040495872498], [0.963681697845459], [0.9636797904968262], [0.9636591672897339], [0.9636366963386536], [0.9636258482933044], [0.9636236429214478], [0.9635612368583679], [0.9635428786277771], [0.9635352492332458], [0.9635288119316101], [0.9635207056999207], [0.9635115265846252], [0.9635043740272522], [0.9634859561920166], [0.9634644985198975], [0.9634546637535095], [0.9634543061256409], [0.9634537696838379], [0.9634488821029663], [0.9634367227554321], [0.9634224772453308], [0.9634221196174622], [0.9634085297584534], [0.963379442691803], [0.9633786678314209], [0.963370144367218], [0.9633669257164001], [0.9633582830429077], [0.9633550643920898], [0.9633542895317078], [0.9633415937423706], [0.9633216857910156], [0.9632994532585144], [0.9632943272590637], [0.9632817506790161], [0.9632794260978699], [0.9632695913314819], [0.9632609486579895], [0.9632565379142761], [0.9632545113563538], [0.9632543325424194], [0.9632397294044495], [0.9632306098937988], [0.9632248878479004], [0.9632166028022766], [0.9632026553153992], [0.9631935954093933], [0.9631708860397339], [0.9631664752960205], [0.9631563425064087], [0.9631339907646179], [0.9631310105323792], [0.963129997253418], [0.9631181359291077], [0.9631063342094421], [0.9630926251411438], [0.9630872011184692], [0.9630826711654663], [0.9630764722824097], [0.9630661010742188], [0.963049054145813], [0.9630395770072937], [0.9630352258682251], [0.9630332589149475], [0.963029146194458], [0.963007390499115], [0.9629958868026733], [0.9629939198493958], [0.9629911184310913], [0.962988018989563], [0.9629828333854675], [0.9629798531532288], [0.9629789590835571], [0.9629727602005005], [0.9629589319229126], [0.9629507660865784], [0.9629141688346863], [0.9629138708114624], [0.9629066586494446], [0.9629033803939819], [0.9628939628601074], [0.9628917574882507], [0.9628885388374329], [0.9628883004188538], [0.9628798365592957], [0.9628759622573853], [0.9628742933273315], [0.9628728628158569], [0.9628693461418152], [0.9628678560256958], [0.9628658890724182], [0.9628570675849915], [0.962851881980896], [0.9628506302833557], [0.9628337025642395], [0.9628318548202515], [0.9628313183784485], [0.9628065228462219], [0.9627733826637268], [0.9627716541290283], [0.9627648591995239], [0.9627518653869629], [0.9627504348754883], [0.9627379179000854], [0.9627368450164795], [0.9627366065979004], [0.9627357125282288], [0.9627206921577454], [0.9626928567886353], [0.9626922011375427], [0.9626882076263428], [0.9626795053482056], [0.9626753926277161], [0.9626505374908447], [0.9626460075378418], [0.9626362919807434], [0.9626185894012451], [0.9626134037971497], [0.9626035690307617], [0.9625728726387024], [0.9625504612922668], [0.962548553943634], [0.962547242641449], [0.9625237584114075], [0.9625131487846375], [0.9625108242034912], [0.9625095725059509], [0.9625069499015808], [0.9625034928321838], [0.9624932408332825], [0.9624906182289124], [0.9624894857406616], [0.962477445602417], [0.9624754786491394], [0.962462306022644], [0.9624460935592651], [0.9624397158622742], [0.9624240398406982], [0.9624108672142029], [0.9623860120773315], [0.9623836874961853], [0.9623458385467529], [0.9623234272003174], [0.9623211026191711], [0.9623180031776428], [0.9622952938079834], [0.9622810482978821], [0.9622710943222046], [0.9622701406478882], [0.9622665643692017], [0.9622637033462524], [0.9622635841369629], [0.9622505903244019], [0.9622424244880676], [0.962237536907196], [0.9622213244438171], [0.9621970653533936], [0.9621953964233398], [0.9621750712394714], [0.9621734023094177], [0.9621553421020508], [0.9621505737304688], [0.9621495604515076], [0.9621344804763794], [0.9621278643608093], [0.9621157050132751], [0.9621081948280334], [0.9620988368988037], [0.9620941877365112], [0.9620764255523682], [0.9620401263237], [0.9620344042778015], [0.9620261192321777], [0.9620168209075928], [0.9620077013969421], [0.9619969725608826], [0.9619951248168945], [0.9619890451431274], [0.9619696140289307], [0.9619607925415039], [0.9619431495666504], [0.9619252681732178], [0.9618880152702332], [0.9618600010871887], [0.9618597626686096], [0.9618539214134216], [0.9618446826934814], [0.9618402719497681], [0.9618332982063293], [0.9618326425552368], [0.9618180990219116], [0.96181720495224], [0.9618081450462341], [0.9618042707443237], [0.9617994427680969], [0.9617981314659119], [0.9617850184440613], [0.9617602825164795], [0.9617512822151184], [0.9617365002632141], [0.961730420589447], [0.9616976976394653], [0.9616843461990356], [0.9616516828536987], [0.9616243839263916], [0.9616232514381409], [0.9616144299507141], [0.9616143107414246], [0.9616073966026306], [0.9616053104400635], [0.9615770578384399], [0.9615757465362549], [0.9615627527236938], [0.9615483283996582], [0.9615402817726135], [0.9615235328674316], [0.9615129232406616], [0.9615076184272766], [0.9614981412887573], [0.9614978432655334], [0.9614578485488892], [0.9614527821540833], [0.9614429473876953], [0.9614352583885193], [0.9614195823669434], [0.9614143967628479], [0.9614095687866211], [0.9614015221595764], [0.9613967537879944], [0.961390495300293], [0.9613741636276245], [0.9613589644432068], [0.9613373875617981], [0.961336076259613], [0.9613342881202698], [0.9613325595855713], [0.9613286852836609], [0.9613178968429565], [0.961294412612915], [0.9612928628921509], [0.9612892270088196], [0.9612830877304077], [0.9612675309181213], [0.9612486958503723], [0.9612385630607605], [0.9612152576446533], [0.96120685338974], [0.9612054228782654], [0.9612034559249878], [0.9611993432044983], [0.961194634437561], [0.9611928462982178], [0.9611896872520447], [0.9611883759498596], [0.9611645936965942], [0.961164116859436], [0.961162805557251], [0.9611552357673645], [0.9611300826072693], [0.9611214995384216], [0.9611197710037231], [0.9611089825630188], [0.9610926508903503], [0.9610896706581116], [0.9610735177993774], [0.9610686302185059], [0.961056649684906], [0.9610347151756287], [0.9610285758972168], [0.9610228538513184], [0.9610150456428528], [0.9610124230384827], [0.9610047936439514], [0.9609897136688232], [0.9609895944595337], [0.960979700088501], [0.9609693288803101], [0.9609595537185669], [0.9609551429748535], [0.9609512090682983], [0.9609454870223999], [0.9609453678131104], [0.9609383940696716], [0.9609218835830688], [0.9609062671661377], [0.9609041810035706], [0.9608996510505676], [0.9608876705169678], [0.9608678817749023], [0.9608611464500427], [0.9608502388000488], [0.9608474969863892], [0.9608224034309387], [0.9608205556869507], [0.9607980847358704], [0.960791826248169], [0.9607853293418884], [0.9607784748077393], [0.9607704877853394], [0.9607595801353455], [0.9607527256011963], [0.9607498645782471], [0.9607441425323486], [0.960726797580719], [0.960726797580719], [0.9607155323028564], [0.960706889629364], [0.9606937766075134], [0.9606907963752747], [0.9606902599334717], [0.960680365562439], [0.9606780409812927], [0.960675060749054], [0.9606637358665466], [0.9606495499610901], [0.9606171250343323], [0.9605700969696045], [0.9605675935745239], [0.9605638384819031], [0.9605605602264404], [0.9605422019958496], [0.9605374336242676], [0.9605210423469543], [0.9605207443237305], [0.9605117440223694], [0.9605055451393127], [0.9604900479316711], [0.9604862332344055], [0.9604853391647339], [0.9604835510253906], [0.9604824781417847], [0.9604734778404236], [0.9604706764221191], [0.9604520201683044], [0.9604447484016418], [0.9604297876358032], [0.9604172706604004], [0.9604093432426453], [0.9604020714759827], [0.9603947401046753], [0.9603882431983948], [0.9603866934776306], [0.9603829383850098], [0.9603827595710754], [0.9603821635246277], [0.9603725075721741], [0.9603577852249146], [0.9603506326675415], [0.9603407382965088], [0.9603341221809387], [0.9603143334388733], [0.9603112936019897], [0.960304319858551], [0.9602824449539185], [0.9602813720703125], [0.9602674245834351], [0.960266649723053], [0.9602625966072083], [0.9602273106575012], [0.9602265357971191], [0.9602236747741699], [0.9601922035217285], [0.9601907134056091], [0.9601824283599854], [0.9601510167121887], [0.960146963596344], [0.9601447582244873], [0.960141122341156], [0.9601407647132874], [0.9601368308067322], [0.9601346254348755], [0.9601309895515442], [0.9601256251335144], [0.9601086974143982], [0.9600610136985779], [0.960048496723175], [0.96004718542099], [0.9600435495376587], [0.9600396752357483], [0.9600327610969543], [0.960011899471283], [0.9600111246109009], [0.959999680519104], [0.9599913358688354], [0.9599881768226624], [0.9599645733833313], [0.9599591493606567], [0.9599573016166687], [0.9599471688270569], [0.9599446654319763], [0.959941565990448], [0.9599289894104004], [0.959924578666687], [0.9599243402481079], [0.9599107503890991], [0.95991051197052], [0.9598852396011353], [0.959882915019989], [0.9598730802536011], [0.959872305393219], [0.9598681330680847], [0.959867537021637], [0.9598629474639893], [0.9598556756973267], [0.9598553776741028], [0.9598549008369446], [0.9598486423492432], [0.9598270058631897], [0.9598264694213867], [0.9598180055618286], [0.9597993493080139], [0.9597966074943542], [0.9597907066345215], [0.9597871899604797], [0.9597869515419006], [0.9597839713096619], [0.9597758650779724], [0.959762454032898], [0.9597190022468567], [0.9597170948982239], [0.9597118496894836], [0.9597094058990479], [0.9597037434577942], [0.9596992135047913], [0.9596904516220093], [0.9596895575523376], [0.9596769213676453], [0.9596565365791321], [0.9596539735794067], [0.9596503376960754], [0.9596501588821411], [0.9596474766731262], [0.9596393704414368], [0.9596329927444458], [0.9596311450004578], [0.9596110582351685], [0.9595973491668701], [0.9595865607261658], [0.9595608115196228], [0.9595471620559692], [0.9594997763633728], [0.9594938158988953], [0.9594701528549194], [0.9594587087631226], [0.9594576358795166], [0.959447979927063], [0.9594448804855347], [0.959440290927887], [0.9594364166259766], [0.959432065486908], [0.9594191312789917], [0.9594178795814514], [0.9594053626060486], [0.9593887329101562], [0.9593833088874817], [0.9593772888183594], [0.9593501687049866], [0.9593429565429688], [0.9593377709388733], [0.9593360424041748], [0.9593359231948853], [0.9593314528465271], [0.9593302011489868], [0.9593287110328674], [0.9593110084533691], [0.9592866897583008], [0.959276556968689], [0.959276556968689], [0.9592657089233398], [0.9592539668083191], [0.9592052698135376], [0.9591957330703735], [0.9591692090034485], [0.9591680765151978], [0.9591659307479858], [0.9591473937034607], [0.9591373801231384], [0.9591207504272461], [0.9591091275215149], [0.9590824842453003], [0.9590789675712585], [0.9590734839439392], [0.9590702056884766], [0.9590667486190796], [0.9590544700622559], [0.9590503573417664], [0.9590462446212769], [0.9590386152267456], [0.9590083360671997], [0.9589685201644897], [0.9589547514915466], [0.9589436650276184], [0.9589400291442871], [0.9589160084724426], [0.9589149355888367], [0.958914577960968], [0.9589130878448486], [0.9588994979858398], [0.9588903784751892], [0.958885669708252], [0.9588770270347595], [0.9588749408721924], [0.9588742852210999], [0.9588670134544373], [0.9588579535484314], [0.958833634853363], [0.9588311910629272], [0.9588232040405273], [0.9588169455528259], [0.9588106870651245], [0.958807110786438], [0.9588037133216858], [0.9587993025779724], [0.9587916135787964], [0.9587799906730652], [0.958746075630188], [0.9587317109107971], [0.9587256908416748], [0.9587097764015198], [0.958703339099884], [0.9586673974990845], [0.9586577415466309], [0.9586524963378906], [0.9586509466171265], [0.958641529083252], [0.9586385488510132], [0.9586289525032043], [0.9586228132247925], [0.9586136937141418], [0.958590567111969], [0.9585285782814026], [0.9585209488868713], [0.9585200548171997], [0.958501398563385], [0.9584940671920776], [0.9584794044494629], [0.9584791660308838], [0.9584537744522095], [0.958452582359314], [0.9584522843360901], [0.9584448337554932], [0.9584394693374634], [0.9584312438964844], [0.9584088921546936], [0.9583947658538818], [0.9583519697189331], [0.9583492279052734], [0.9583370685577393], [0.9583300352096558], [0.958319902420044], [0.958302915096283], [0.9583011269569397], [0.9582945704460144], [0.9582833051681519], [0.9582789540290833], [0.9582735896110535], [0.9582657814025879], [0.9582633972167969], [0.9582552909851074], [0.9582444429397583], [0.9582358002662659], [0.9582294821739197], [0.9582219123840332], [0.9582198262214661], [0.9582072496414185], [0.9582054615020752], [0.958200991153717], [0.9581946730613708], [0.9581854343414307], [0.9581800699234009], [0.9581605195999146], [0.958143949508667], [0.9581266641616821], [0.9581232070922852], [0.958120584487915], [0.9581194519996643], [0.9581065773963928], [0.9581008553504944], [0.9580894708633423], [0.9580733776092529], [0.95807284116745], [0.9580682516098022], [0.9580559134483337], [0.9580506086349487], [0.9580504298210144], [0.9580407738685608], [0.9580399990081787], [0.9580389261245728], [0.9580281972885132], [0.9580256938934326], [0.9580182433128357], [0.9580170512199402], [0.9579933285713196], [0.9579920768737793], [0.9579669237136841], [0.957965075969696], [0.9579489827156067], [0.9579489827156067], [0.9579383730888367], [0.9579379558563232], [0.9579256772994995], [0.9579194784164429], [0.9579060077667236], [0.9578797817230225], [0.9578737616539001], [0.9578732848167419], [0.9578704833984375], [0.9578555822372437], [0.9578511118888855], [0.9578493237495422], [0.9578344821929932], [0.9577955603599548], [0.9577921628952026], [0.9577834010124207], [0.9577749967575073], [0.9577735662460327], [0.9577581286430359], [0.9577503800392151], [0.9577342867851257], [0.9577308893203735], [0.9577136635780334], [0.9576922059059143], [0.9576876163482666], [0.9576675891876221], [0.9576618075370789], [0.9576600790023804], [0.9576454162597656], [0.9576367735862732], [0.9576206207275391], [0.9576167464256287], [0.9576139450073242], [0.957608699798584], [0.9576049447059631], [0.9576002359390259], [0.9575992822647095], [0.9575885534286499], [0.9575875997543335], [0.957571268081665], [0.9575658440589905], [0.9575642943382263], [0.9575600624084473], [0.9575522541999817], [0.957537829875946], [0.957535445690155], [0.9575333595275879], [0.9575215578079224], [0.9575096368789673], [0.9574957489967346], [0.9574721455574036], [0.9574337005615234], [0.9574264883995056], [0.9573887586593628], [0.9573875665664673], [0.9573841691017151], [0.9573757648468018], [0.9573635458946228], [0.9573616981506348], [0.9573509693145752], [0.957345724105835], [0.9573323130607605], [0.9573122262954712], [0.9573058485984802], [0.9572938680648804], [0.9572886824607849], [0.9572880268096924], [0.9572831392288208], [0.9572821259498596], [0.9572792053222656], [0.9572776556015015], [0.9572409987449646], [0.9572372436523438], [0.9572359323501587], [0.9572359323501587], [0.9572301506996155], [0.9571967124938965], [0.9571875333786011], [0.9571573138237], [0.9571568965911865], [0.9571542739868164], [0.9571409225463867], [0.9571269750595093], [0.9571094512939453], [0.9570801854133606], [0.9570580720901489], [0.9570443034172058], [0.9570401310920715], [0.9570344686508179], [0.9570327401161194], [0.9570154547691345], [0.9570143818855286], [0.9570040106773376], [0.9569962620735168], [0.9569961428642273], [0.9569904804229736], [0.9569807648658752], [0.9569464325904846], [0.9569419622421265], [0.9569401144981384], [0.956912636756897], [0.9569059610366821], [0.9569035768508911], [0.9568910002708435], [0.9568893909454346], [0.9568836092948914], [0.9568770527839661], [0.9568741917610168], [0.9568737745285034], [0.9568737745285034], [0.9568689465522766], [0.9568577408790588], [0.9568556547164917], [0.9568488597869873], [0.9568350315093994], [0.9568321704864502], [0.9568275809288025], [0.9568162560462952], [0.9568158388137817], [0.9568094611167908], [0.9568074345588684], [0.9568023681640625], [0.9567992091178894], [0.9567901492118835], [0.956770658493042], [0.9567362666130066], [0.9567239284515381], [0.956720769405365], [0.956720232963562], [0.9567124843597412], [0.9567123651504517], [0.9567034244537354], [0.9567006826400757], [0.9566894173622131], [0.956670343875885], [0.9566675424575806], [0.9566479921340942], [0.9566473364830017], [0.9566381573677063], [0.9566158056259155], [0.9565971493721008], [0.9565866589546204], [0.9565790295600891], [0.9565731287002563], [0.9565712809562683], [0.956560492515564], [0.9565191864967346], [0.9565143585205078], [0.9565125107765198], [0.9564715027809143], [0.9564664959907532], [0.9564427137374878], [0.9564402103424072], [0.9564400911331177], [0.9564303755760193], [0.9564297199249268], [0.9564228653907776], [0.9564223289489746], [0.9564206600189209], [0.9563988447189331], [0.956389307975769], [0.9563682079315186], [0.9563615918159485], [0.9563592076301575], [0.9563508033752441], [0.9563450217247009], [0.956344485282898], [0.9563412070274353], [0.9563152194023132], [0.9563050866127014], [0.9563037753105164], [0.9562810063362122], [0.9562224745750427], [0.9562193155288696], [0.9561935067176819], [0.9561814069747925], [0.9561746120452881], [0.9561656713485718], [0.9561560750007629], [0.9561206698417664], [0.9561178684234619], [0.9561161994934082], [0.9561052322387695], [0.9560955166816711], [0.9560946226119995], [0.956093966960907], [0.956091046333313], [0.956076443195343], [0.9560660719871521], [0.956063449382782], [0.9560519456863403], [0.9560452699661255], [0.9560439586639404], [0.956043004989624], [0.9560400247573853], [0.9560372233390808], [0.9560207724571228], [0.9560118317604065], [0.9560023546218872], [0.9559577107429504], [0.9559545516967773], [0.9559538960456848], [0.9559503793716431], [0.9559354782104492], [0.9559105038642883], [0.9559090733528137], [0.9559032320976257], [0.9559026956558228], [0.9558979868888855], [0.9558916687965393], [0.9558912515640259], [0.955866813659668], [0.9558653235435486], [0.955864429473877], [0.9558557271957397], [0.955844521522522], [0.9557917714118958], [0.9557788372039795], [0.9557663202285767], [0.9557609558105469], [0.9557451605796814], [0.955742359161377], [0.955730676651001], [0.9557204842567444], [0.9557186365127563], [0.9557108879089355], [0.9556809663772583], [0.9556809663772583], [0.9556712508201599], [0.9556634426116943], [0.9556556940078735], [0.9556447863578796], [0.9556383490562439], [0.9556344747543335], [0.955580472946167], [0.9555787444114685], [0.9555491209030151], [0.9555455446243286], [0.9555420279502869], [0.9555399417877197], [0.9555348753929138], [0.9555231928825378], [0.9554901123046875], [0.9554873108863831], [0.955481767654419], [0.9554697871208191], [0.9554632306098938], [0.955450713634491], [0.9554423689842224], [0.9554399251937866], [0.9554213285446167], [0.955411434173584], [0.9553932547569275], [0.955386757850647], [0.9553855657577515], [0.9553758502006531], [0.9553725123405457], [0.9553636908531189], [0.9553535580635071], [0.955349326133728], [0.9553460478782654], [0.9553149342536926], [0.9553103446960449], [0.9552984833717346], [0.955285370349884], [0.9552680253982544], [0.9552673101425171], [0.955265462398529], [0.9552604556083679], [0.9552564024925232], [0.955249547958374], [0.9552486538887024], [0.9552485942840576], [0.9552449584007263], [0.9552440047264099], [0.9552359580993652], [0.9552313685417175], [0.9552183151245117], [0.9552027583122253], [0.9551981091499329], [0.9551726579666138], [0.955159068107605], [0.9551578760147095], [0.9551572203636169], [0.955145001411438], [0.955134928226471], [0.9551295042037964], [0.9551255702972412], [0.9551122784614563], [0.9551094770431519], [0.955093502998352], [0.955092191696167], [0.9550873637199402], [0.955074667930603], [0.9550683498382568], [0.9550673961639404], [0.9550642371177673], [0.9550613760948181], [0.9550601840019226], [0.9550533294677734], [0.9550501108169556], [0.9550458788871765], [0.9550303220748901], [0.9550222754478455], [0.9550212621688843], [0.955020546913147], [0.9549848437309265], [0.9549804925918579], [0.9549742937088013], [0.9549680948257446], [0.9549661874771118], [0.9549611806869507], [0.9549592137336731], [0.9549427032470703], [0.9549349546432495], [0.9548982381820679], [0.9548969268798828], [0.9548952579498291], [0.9548870325088501], [0.9548797607421875], [0.9548613429069519], [0.954853892326355], [0.9548428654670715], [0.9548423290252686], [0.9548421502113342], [0.954841136932373], [0.954838752746582], [0.9548342823982239], [0.9548309445381165], [0.954805850982666], [0.9547922611236572], [0.9547916054725647], [0.9547900557518005], [0.9547608494758606], [0.9547513723373413], [0.9547433257102966], [0.9547427892684937], [0.9547426700592041], [0.9547422528266907], [0.954735279083252], [0.9547306299209595], [0.9547114968299866], [0.9547069668769836], [0.9547058343887329], [0.9547011852264404], [0.9546932578086853], [0.9546929001808167], [0.9546902179718018], [0.9546800851821899], [0.9546648859977722], [0.9546647071838379], [0.9546642303466797], [0.9546338319778442], [0.9546270966529846], [0.9545976519584656], [0.9545899629592896], [0.9545881152153015], [0.9545835256576538], [0.9545750617980957], [0.9545533061027527], [0.9545462727546692], [0.9545397758483887], [0.9545164108276367], [0.9544907808303833], [0.9544633030891418], [0.9544470906257629], [0.9544413685798645], [0.9544248580932617], [0.9544231295585632], [0.9544222354888916], [0.9544140100479126], [0.9544100761413574], [0.9543964266777039], [0.9543922543525696], [0.9543873071670532], [0.9543818235397339], [0.9543708562850952], [0.9543688297271729], [0.9543426632881165], [0.9543260335922241], [0.9543176889419556], [0.9543156027793884], [0.9542807936668396], [0.9542796015739441], [0.9542407393455505], [0.9542335271835327], [0.9542253017425537], [0.9542164206504822], [0.9542133808135986], [0.9541983008384705], [0.9541907906532288], [0.9541905522346497], [0.954179584980011], [0.954170823097229], [0.9541651606559753], [0.9541599750518799], [0.9541561603546143], [0.9541269540786743], [0.9541186094284058], [0.9541167616844177], [0.9541129469871521], [0.954085648059845], [0.9540690183639526], [0.9540529847145081], [0.9540119767189026], [0.954002857208252], [0.9539973139762878], [0.9539943933486938], [0.9539918899536133], [0.9539911150932312], [0.9539862275123596], [0.9539838433265686], [0.9539715647697449], [0.9539418816566467], [0.9539403319358826], [0.9539321064949036], [0.9539273381233215], [0.9539203643798828], [0.953917920589447], [0.9539104104042053], [0.9538646340370178], [0.9538633227348328], [0.9538520574569702], [0.9538408517837524], [0.953827977180481], [0.9538054466247559], [0.9538044333457947], [0.9538021683692932], [0.9537994265556335], [0.9537951946258545], [0.9537650942802429], [0.9537636637687683], [0.9537619352340698], [0.9537609815597534], [0.9537575840950012], [0.9537522792816162], [0.95372474193573], [0.9537059664726257], [0.9536961317062378], [0.9536921977996826], [0.9536787867546082], [0.9536773562431335], [0.9536718130111694], [0.9536608457565308], [0.9536490440368652], [0.9536453485488892], [0.9536384344100952], [0.9536312818527222], [0.9536299705505371], [0.9536270499229431], [0.9536165595054626], [0.953609824180603], [0.9536076188087463], [0.9535961747169495], [0.9535900950431824], [0.9535669684410095], [0.9535364508628845], [0.9535290598869324], [0.9535285234451294], [0.9535221457481384], [0.9535126686096191], [0.9535124897956848], [0.9535029530525208], [0.953494131565094], [0.9534924030303955], [0.9534812569618225], [0.9534784555435181], [0.9534716010093689], [0.9534634947776794], [0.9534571766853333], [0.9534424543380737], [0.9534383416175842], [0.9534093141555786], [0.9533973932266235], [0.9533796310424805], [0.9533772468566895], [0.953375518321991], [0.9533510208129883], [0.9533466696739197], [0.9533461332321167], [0.9533209800720215], [0.9533169865608215], [0.9533153772354126], [0.9533095359802246], [0.9532965421676636], [0.9532906413078308], [0.9532825350761414], [0.9532777667045593], [0.9532749652862549], [0.9532645344734192], [0.9532215595245361], [0.9532082080841064], [0.9531868100166321], [0.9531691074371338], [0.953169047832489], [0.9531554579734802], [0.9531535506248474], [0.9531254768371582], [0.9531252980232239], [0.9531219005584717], [0.9531075954437256], [0.9531039595603943], [0.9530904293060303], [0.9530814290046692], [0.953079879283905], [0.953071117401123], [0.9530619382858276], [0.953044056892395], [0.953039288520813], [0.9530319571495056], [0.9530261754989624], [0.9530124664306641], [0.953011691570282], [0.953003466129303], [0.9529969692230225], [0.9529954195022583], [0.9529900550842285], [0.9529879689216614], [0.9529820084571838], [0.9529586434364319], [0.9529477953910828], [0.9529240727424622], [0.9529197812080383], [0.9529095888137817], [0.9528930187225342], [0.9528868794441223], [0.9528862237930298], [0.9528640508651733], [0.9528349041938782], [0.9528319835662842], [0.9528237581253052], [0.9528192281723022], [0.9528171420097351], [0.9528058767318726], [0.9527989625930786], [0.9527986645698547], [0.9527958631515503], [0.9527928233146667], [0.9527509212493896], [0.9527459740638733], [0.9527451992034912], [0.9527353644371033], [0.9527185559272766], [0.9527085423469543], [0.9527077674865723], [0.9527012705802917], [0.9526917338371277], [0.9526659846305847], [0.9526656866073608], [0.9526634216308594], [0.9526606798171997], [0.9526575803756714], [0.9526531100273132], [0.9526510834693909], [0.9526306986808777], [0.9526219367980957], [0.9526135325431824], [0.9525933861732483], [0.9525900483131409], [0.952553927898407], [0.952548623085022], [0.952541708946228], [0.952527642250061], [0.952511191368103], [0.9524962902069092], [0.9524839520454407], [0.9524810314178467], [0.9524757266044617], [0.9524695873260498], [0.9524689316749573], [0.9524570107460022], [0.9524563550949097], [0.9524496793746948], [0.9524434804916382], [0.9524187445640564], [0.9524149298667908], [0.952400267124176], [0.952393651008606], [0.9523817300796509], [0.952376663684845], [0.9523680210113525], [0.9523653984069824], [0.9523613452911377], [0.9523453116416931], [0.9523437023162842], [0.9523304104804993], [0.9523296356201172], [0.9523264169692993], [0.9523217678070068], [0.9523055553436279], [0.9523043632507324], [0.9523030519485474], [0.9522958993911743], [0.9522789120674133], [0.9522415399551392], [0.9522317051887512], [0.9522206783294678], [0.9522197246551514], [0.9522188305854797], [0.9522113800048828], [0.9521958231925964], [0.9521929025650024], [0.9521832466125488], [0.9521687030792236], [0.9521668553352356], [0.9521660804748535], [0.9521433711051941], [0.9521413445472717], [0.9521405696868896], [0.9521341919898987], [0.9521328210830688], [0.9521180987358093], [0.9521171450614929], [0.9521018862724304], [0.9520906805992126], [0.9520866870880127], [0.9520694613456726], [0.9520596265792847], [0.9520562887191772], [0.9520534873008728], [0.9520423412322998], [0.952027440071106], [0.9520209431648254], [0.9520149230957031], [0.9520097374916077], [0.9519945979118347], [0.9519792795181274], [0.9519675970077515], [0.9519497752189636], [0.9519424438476562], [0.9519201517105103], [0.9519169330596924], [0.9519134759902954], [0.951908528804779], [0.9519052505493164], [0.9518858194351196], [0.9518843293190002], [0.9518777132034302], [0.9518771767616272], [0.9518711566925049], [0.9518622756004333], [0.9518536329269409], [0.951852560043335], [0.9518235921859741], [0.9518160223960876], [0.9518126845359802], [0.9517946839332581], [0.9517889618873596], [0.9517855048179626], [0.9517806172370911], [0.951775848865509], [0.9517593383789062], [0.9517541527748108], [0.9517401456832886], [0.9517224431037903], [0.9517220854759216], [0.9517033100128174], [0.9517009258270264], [0.9516918659210205], [0.9516869783401489], [0.9516858458518982], [0.9516726732254028], [0.9516679048538208], [0.9516648650169373], [0.9516646862030029], [0.9516614079475403], [0.9516611099243164], [0.9516593813896179], [0.9516550302505493], [0.95164555311203], [0.9516281485557556], [0.9516174793243408], [0.9516129493713379], [0.9516122937202454], [0.9516121745109558], [0.9516100287437439], [0.9516064524650574], [0.9515849947929382], [0.9515764713287354], [0.9515678286552429], [0.9515658020973206], [0.9515566229820251], [0.9515417218208313], [0.9515257477760315], [0.9515172839164734], [0.9515132308006287], [0.9515109658241272], [0.9515015482902527], [0.9514979720115662], [0.9514955878257751], [0.9514899849891663], [0.9514895677566528], [0.9514838457107544], [0.9514755606651306], [0.951450526714325], [0.9514501690864563], [0.951449453830719], [0.9514360427856445], [0.9514345526695251], [0.9514093995094299], [0.9513871669769287], [0.9513834714889526], [0.9513806700706482], [0.9513700008392334], [0.9513538479804993], [0.9513487815856934], [0.9513473510742188], [0.9513453841209412], [0.9513348340988159], [0.9513322710990906], [0.951321542263031], [0.9512975215911865], [0.9512853026390076], [0.9512831568717957], [0.9512759447097778], [0.9512742161750793], [0.9512600898742676], [0.9512372016906738], [0.9512321352958679], [0.9512301683425903], [0.951215386390686], [0.9512152075767517], [0.9512104392051697], [0.9511848092079163], [0.9511839151382446], [0.9511530995368958], [0.9511479139328003], [0.9511401057243347], [0.9511387348175049], [0.9511275291442871], [0.9511167407035828], [0.9510934352874756], [0.9510853290557861], [0.9510795474052429], [0.9510748982429504], [0.9510626196861267], [0.9510605335235596], [0.951042652130127], [0.9510370492935181], [0.9510312080383301], [0.9510270357131958], [0.9510188102722168], [0.9510170817375183], [0.9510005116462708], [0.9509972333908081], [0.9509893655776978], [0.9509813189506531], [0.950979471206665], [0.9509717226028442], [0.9509618878364563], [0.9509413242340088], [0.9509352445602417], [0.9509348273277283], [0.9509289264678955], [0.9509286880493164], [0.9509229063987732], [0.9509181380271912], [0.9509111046791077], [0.9509022831916809], [0.9508954882621765], [0.9508890509605408], [0.9508703947067261], [0.9508683085441589], [0.9508634805679321], [0.9508621692657471], [0.9508535861968994], [0.9508517384529114], [0.9508446455001831], [0.9508342742919922], [0.9508135914802551], [0.950809895992279], [0.9508034586906433], [0.9508004188537598], [0.9507880210876465], [0.9507722854614258], [0.9507657289505005], [0.9507414102554321], [0.9507402777671814], [0.9507319927215576], [0.9507229328155518], [0.9507226347923279], [0.9507125020027161], [0.9506886005401611], [0.9506612420082092], [0.9506475329399109], [0.9506472945213318], [0.9506464600563049], [0.9506432414054871], [0.9506416320800781], [0.950641393661499], [0.9506264328956604], [0.9506227374076843], [0.9506202936172485], [0.9506171345710754], [0.9506128430366516], [0.9506104588508606], [0.9505687952041626], [0.9505669474601746], [0.950566828250885], [0.9505653381347656], [0.9505575895309448], [0.9505568146705627], [0.950553834438324], [0.9505352973937988], [0.9505301117897034], [0.9505263566970825], [0.9505153894424438], [0.9504939317703247], [0.9504828453063965], [0.9504699110984802], [0.9504402875900269], [0.950439989566803], [0.9504331946372986], [0.9504207968711853], [0.9504057168960571], [0.9504036903381348], [0.950394332408905], [0.9503893852233887], [0.9503774046897888], [0.9503762125968933], [0.9503685832023621], [0.9503660202026367], [0.9503635168075562], [0.9503628015518188], [0.9503574967384338], [0.9503485560417175], [0.9503448009490967], [0.9503270387649536], [0.9503254294395447], [0.9503164887428284], [0.9503113031387329], [0.9502978324890137], [0.9502963423728943], [0.9502939581871033], [0.9502852559089661], [0.9502781629562378], [0.9502502679824829], [0.9502255320549011], [0.9502244591712952], [0.9502159357070923], [0.9502124786376953], [0.9501869678497314], [0.9501849412918091], [0.9501808285713196], [0.9501633048057556], [0.9501618146896362], [0.9501535296440125], [0.9501441717147827], [0.950129508972168], [0.9501261711120605], [0.9501082301139832], [0.9501004815101624], [0.9500938057899475], [0.9500569701194763], [0.9500419497489929], [0.9500409364700317], [0.9500234127044678], [0.9500194191932678], [0.9499982595443726], [0.9499977231025696], [0.9499713778495789], [0.9499650001525879], [0.9499485492706299], [0.9499419927597046], [0.9499359726905823], [0.949924111366272], [0.9499231576919556], [0.949904203414917], [0.9499002695083618], [0.9498846530914307], [0.9498652815818787], [0.9498457312583923], [0.9498446583747864], [0.9498414397239685], [0.9498226046562195], [0.9498013854026794], [0.9497768878936768], [0.9497641921043396], [0.9497429132461548], [0.949718713760376], [0.9497117400169373], [0.9497062563896179], [0.9497039914131165], [0.9496994614601135], [0.9496933221817017], [0.9496922492980957], [0.9496867656707764], [0.9496597647666931], [0.9496399164199829], [0.9496237635612488], [0.9496181607246399], [0.949616014957428], [0.949602484703064], [0.9496005773544312], [0.9495899081230164], [0.94957035779953], [0.9495614171028137], [0.9495576620101929], [0.9495561718940735], [0.9495446681976318], [0.9495434761047363], [0.9495366215705872], [0.9495301246643066], [0.9495235085487366], [0.9495203495025635], [0.9495162963867188], [0.9495133757591248], [0.9495061635971069], [0.9495031833648682], [0.949493408203125], [0.9494749307632446], [0.949472963809967], [0.9494647979736328], [0.949460506439209], [0.949445903301239], [0.9494455456733704], [0.9494379162788391], [0.9494310617446899], [0.9494236707687378], [0.9494222402572632], [0.949418306350708], [0.9494112133979797], [0.9493920803070068], [0.9493899345397949], [0.9493764042854309], [0.9493757486343384], [0.9493480324745178], [0.9493428468704224], [0.9493399262428284], [0.9493288993835449], [0.9493150115013123], [0.9493095278739929], [0.9492948055267334], [0.9492946267127991], [0.9492934346199036], [0.9492886066436768], [0.9492862224578857], [0.9492841958999634], [0.9492780566215515], [0.949277400970459], [0.9492764472961426], [0.9492702484130859], [0.9492659568786621], [0.9492473602294922], [0.9492418766021729], [0.9492330551147461], [0.9492316842079163], [0.9492273926734924], [0.9492257833480835], [0.949180006980896], [0.9491779804229736], [0.9491772055625916], [0.9491741061210632], [0.9491733312606812], [0.9491562843322754], [0.9491487741470337], [0.9491486549377441], [0.9491456151008606], [0.949140727519989], [0.949120283126831], [0.9491181373596191], [0.9491135478019714], [0.94911128282547], [0.9491111636161804], [0.9490617513656616], [0.9490534067153931], [0.9490423202514648], [0.9490352272987366], [0.949028730392456], [0.9489859938621521], [0.9489787817001343], [0.9489772915840149], [0.948959469795227], [0.948957622051239], [0.948957085609436], [0.9489545226097107], [0.9489498734474182], [0.9489482045173645], [0.9489313364028931], [0.9489192962646484], [0.9489067196846008], [0.9489052295684814], [0.9488720893859863], [0.9488620162010193], [0.948854923248291], [0.9488455653190613], [0.9488233327865601], [0.9488089680671692], [0.9487967491149902], [0.9487957954406738], [0.948785662651062], [0.9487705826759338], [0.9487593770027161], [0.9487590789794922], [0.9487587809562683], [0.9487478137016296], [0.9487156271934509], [0.948713481426239], [0.9487087726593018], [0.9486909508705139], [0.9486889243125916], [0.9486886858940125], [0.9486884474754333], [0.9486724734306335], [0.9486470818519592], [0.9486467242240906], [0.9486393332481384], [0.948634922504425], [0.9486279487609863], [0.948615312576294], [0.948613703250885], [0.9486120939254761], [0.9486069679260254], [0.9486043453216553], [0.9486004114151001], [0.9485799074172974], [0.948578953742981], [0.9485730528831482], [0.9485498666763306], [0.9485436677932739], [0.9485325217247009], [0.9485320448875427], [0.9485203623771667], [0.9485199451446533], [0.948514461517334], [0.9485104084014893], [0.9485035538673401], [0.9485004544258118], [0.9484949707984924], [0.9484850168228149], [0.9484845399856567], [0.9484822154045105], [0.9484730958938599], [0.948468029499054], [0.9484677314758301], [0.9484657049179077], [0.9484517574310303], [0.9484444260597229], [0.9484289288520813], [0.9484129548072815], [0.9484096169471741], [0.9484085440635681], [0.9484081864356995], [0.9484059810638428], [0.948398232460022], [0.9483969211578369], [0.9483929872512817], [0.9483642578125], [0.9483399987220764], [0.9483320713043213], [0.948331892490387], [0.9483188986778259], [0.9483184814453125], [0.9483036994934082], [0.9482739567756653], [0.9482622742652893], [0.9482613205909729], [0.9482529759407043], [0.9482455849647522], [0.9482454657554626], [0.9482439756393433], [0.9482308626174927], [0.9482284188270569], [0.948224663734436], [0.9482218027114868], [0.948213517665863], [0.9482002258300781], [0.9481999278068542], [0.9481918811798096], [0.9481669068336487], [0.9481168389320374], [0.9481084942817688], [0.9481064677238464], [0.9480963945388794], [0.9480838775634766], [0.9480794668197632], [0.9480750560760498], [0.9480652213096619], [0.9480577111244202], [0.9480500817298889], [0.9480493664741516], [0.9480460286140442], [0.948030412197113], [0.9480031728744507], [0.9479885101318359], [0.9479568004608154], [0.9479491710662842], [0.9479475617408752], [0.9479449987411499], [0.9479424357414246], [0.9479323625564575], [0.9479253888130188], [0.9479237794876099], [0.9479072093963623], [0.9479049444198608], [0.9478937983512878], [0.9478920698165894], [0.9478856325149536], [0.9478822350502014], [0.9478750824928284], [0.9478647708892822], [0.9478524327278137], [0.947839081287384], [0.9478257894515991], [0.9478216171264648], [0.9477820992469788], [0.9477795362472534], [0.947766125202179], [0.9477646350860596], [0.9477524161338806], [0.9477317929267883], [0.9477313160896301], [0.9477015733718872], [0.9476985931396484], [0.9476888179779053], [0.9476612210273743], [0.9476463198661804], [0.9476175308227539], [0.9476141333580017], [0.947594404220581], [0.9475937485694885], [0.9475904703140259], [0.94758540391922], [0.9475743174552917], [0.9475718140602112], [0.9475568532943726], [0.9475339651107788], [0.9475287795066833], [0.9475218653678894], [0.9475021362304688], [0.9474680423736572], [0.9474283456802368], [0.9474269151687622], [0.9474259614944458], [0.9474196434020996], [0.9474048018455505], [0.9473967552185059], [0.9473769664764404], [0.9473719000816345], [0.9473719000816345], [0.9473631381988525], [0.9473621845245361], [0.9473351240158081], [0.947327196598053], [0.947318434715271], [0.9473131895065308], [0.9473043084144592], [0.947303056716919], [0.947300374507904], [0.9472917914390564], [0.9472916126251221], [0.9472869038581848], [0.947281002998352], [0.9472758769989014], [0.9472189545631409], [0.9472052454948425], [0.9471927285194397], [0.9471808671951294], [0.9471613168716431], [0.9471525549888611], [0.9471493363380432], [0.9471481442451477], [0.9471339583396912], [0.94713294506073], [0.9471220374107361], [0.9471083879470825], [0.9470798373222351], [0.9470589756965637], [0.9470435976982117], [0.9470160007476807], [0.9470078945159912], [0.9470058083534241], [0.9470040202140808], [0.9470029473304749], [0.9469926953315735], [0.9469912052154541], [0.9469902515411377], [0.9469882249832153], [0.9469820857048035], [0.9469777345657349], [0.946973979473114], [0.946972668170929], [0.9469372034072876], [0.9469369649887085], [0.9469191431999207], [0.9469156265258789], [0.9469150900840759], [0.9468973278999329], [0.9468873143196106], [0.946863055229187], [0.9468567371368408], [0.9468498826026917], [0.9468357563018799], [0.9468116164207458], [0.9468082189559937], [0.9467881321907043], [0.946782648563385], [0.9467779397964478], [0.9467760324478149], [0.946759819984436], [0.9467541575431824], [0.946750819683075], [0.9467452764511108], [0.9467448592185974], [0.9467445015907288], [0.9467133283615112], [0.9466989040374756], [0.9466968774795532], [0.9466820359230042], [0.9466800093650818], [0.9466772079467773], [0.9466769099235535], [0.9466719627380371], [0.9466603398323059], [0.9466561675071716], [0.9466465711593628], [0.9466410875320435], [0.9466410875320435], [0.9466292262077332], [0.9466208815574646], [0.9465933442115784], [0.9465789198875427], [0.9465751647949219], [0.9465724229812622], [0.9465517997741699], [0.9465488195419312], [0.9465415477752686], [0.9465279579162598], [0.9465243220329285], [0.9465000033378601], [0.9464989304542542], [0.9464989304542542], [0.946495532989502], [0.9464883804321289], [0.9464843273162842], [0.9464738368988037], [0.9464737176895142], [0.9464658498764038], [0.9464537501335144], [0.9464372992515564], [0.9464319944381714], [0.9464248418807983], [0.9464216232299805], [0.946414053440094], [0.9464035630226135], [0.9463897943496704], [0.9463860392570496], [0.9463834166526794], [0.9463698267936707], [0.9463676810264587], [0.9463655352592468], [0.9463633298873901], [0.9463599920272827], [0.9463545680046082], [0.9463460445404053], [0.946334183216095], [0.9463279843330383], [0.9463216662406921], [0.9462983012199402], [0.946291446685791], [0.9462783336639404], [0.9462699890136719], [0.94625324010849], [0.9462259411811829], [0.946209728717804], [0.9461977481842041], [0.9461955428123474], [0.9461948871612549], [0.9461803436279297], [0.9461803436279297], [0.9461790919303894], [0.9461774826049805], [0.9461728930473328], [0.9461463093757629], [0.9461352229118347], [0.9461176991462708], [0.9461156725883484], [0.9461123943328857], [0.9461117386817932], [0.9461102485656738], [0.9460880756378174], [0.9460688233375549], [0.9460621476173401], [0.9460093379020691], [0.9459924697875977], [0.9459767937660217], [0.9459733366966248], [0.9459458589553833], [0.9459400773048401], [0.9459231495857239], [0.9459198117256165], [0.9459143877029419], [0.9459060430526733], [0.9459055066108704], [0.945904552936554], [0.9458876252174377], [0.9458776712417603], [0.9458704590797424], [0.9458557963371277], [0.9458322525024414], [0.9458292722702026], [0.9458229541778564], [0.9458197951316833], [0.9458180665969849], [0.9458049535751343], [0.9457995295524597], [0.9457905292510986], [0.9457738995552063], [0.945773184299469], [0.9457687139511108], [0.9457293748855591], [0.9457250833511353], [0.9457233548164368], [0.9457013010978699], [0.9456689953804016], [0.9456667900085449], [0.9456639885902405], [0.9456063508987427], [0.9456050395965576], [0.9456042051315308], [0.9455627202987671], [0.9455360770225525], [0.9455162882804871], [0.9455077648162842], [0.9454949498176575], [0.9454798102378845], [0.9454663991928101], [0.9454577565193176], [0.9454345107078552], [0.945427417755127], [0.9454264044761658], [0.9454259872436523], [0.9454180002212524], [0.9454037547111511], [0.9454022645950317], [0.9454016089439392], [0.9453904032707214], [0.9453898072242737], [0.945376455783844], [0.9453734755516052], [0.9453733563423157], [0.9453653693199158], [0.9453638792037964], [0.9453622698783875], [0.9453548192977905], [0.9453441500663757], [0.9453402161598206], [0.9453368186950684], [0.9453086256980896], [0.9453085064888], [0.9453068971633911], [0.945306122303009], [0.9452918767929077], [0.9452909231185913], [0.9452703595161438], [0.945268452167511], [0.9452612996101379], [0.9452505707740784], [0.945234477519989], [0.9452258348464966], [0.9452244639396667], [0.9452113509178162], [0.9452078342437744], [0.9451993107795715], [0.9451944231987], [0.9451930522918701], [0.9451904892921448], [0.945184588432312], [0.9451626539230347], [0.9451622366905212], [0.9451607465744019], [0.9451519250869751], [0.9451460838317871], [0.9451422095298767], [0.9451419115066528], [0.9451401829719543], [0.9451127648353577], [0.9451099634170532], [0.9451091289520264], [0.9450708627700806], [0.9450585246086121], [0.9450568556785583], [0.9450563192367554], [0.9450500011444092], [0.9450326561927795], [0.94503253698349], [0.9450235962867737], [0.9450230598449707], [0.9450129866600037], [0.9450113773345947], [0.9450012445449829], [0.9449774026870728], [0.9449768662452698], [0.944976806640625], [0.9449759125709534], [0.9449723958969116], [0.9449489712715149], [0.944940984249115], [0.9449380040168762], [0.9449124932289124], [0.9449122548103333], [0.9449083209037781], [0.9448927044868469], [0.9448889493942261], [0.9448860883712769], [0.9448818564414978], [0.9448812007904053], [0.9448789358139038], [0.9448764324188232], [0.94484543800354], [0.9448374509811401], [0.9448362588882446], [0.9448115825653076], [0.944796085357666], [0.9447909593582153], [0.9447579383850098], [0.9447541236877441], [0.9447497725486755], [0.9447459578514099], [0.9447231888771057], [0.9447228312492371], [0.9447212815284729], [0.9447104334831238], [0.9447005391120911], [0.9446967840194702], [0.944687008857727], [0.9446840286254883], [0.944661021232605], [0.9446547627449036], [0.944648802280426], [0.944642186164856], [0.9446357488632202], [0.9446333646774292], [0.9446247816085815], [0.944616973400116], [0.9446057081222534], [0.944604218006134], [0.9445821046829224], [0.9445779919624329], [0.9445772171020508], [0.9445735216140747], [0.944563627243042], [0.9445538520812988], [0.9445416927337646], [0.9445374608039856], [0.9445362687110901], [0.9445315003395081], [0.9445211887359619], [0.9445191621780396], [0.9445093870162964], [0.9444985389709473], [0.9444934129714966], [0.9444871544837952], [0.9444789290428162], [0.9444703459739685], [0.9444611668586731], [0.9444597959518433], [0.9444561004638672], [0.944451093673706], [0.9444354772567749], [0.9444316625595093], [0.9444311261177063], [0.9444182515144348], [0.9444162249565125], [0.9444162249565125], [0.9444001913070679], [0.9443913102149963], [0.9443827271461487], [0.9443697333335876], [0.9443554282188416], [0.9443513751029968], [0.9443479776382446], [0.9442965984344482], [0.9442946910858154], [0.9442844986915588], [0.9442808628082275], [0.9442755579948425], [0.9442753791809082], [0.944269597530365], [0.9442692995071411], [0.9442662000656128], [0.9442651271820068], [0.9442599415779114], [0.9442576169967651], [0.9442535638809204], [0.9442340135574341], [0.944215714931488], [0.9442116618156433], [0.9442082643508911], [0.9442082047462463], [0.9442057609558105], [0.9441901445388794], [0.9441897869110107], [0.9441884160041809], [0.9441840648651123], [0.9441744089126587], [0.9441736340522766], [0.9441721439361572], [0.9441673755645752], [0.9441571831703186], [0.94415283203125], [0.9441425204277039], [0.9441406726837158], [0.9441376328468323], [0.944126546382904], [0.9441133737564087], [0.9441127777099609], [0.9441084265708923], [0.9441074132919312], [0.9441066980361938], [0.9440796971321106], [0.9440287947654724], [0.9440275430679321], [0.9440004825592041], [0.9439877867698669], [0.9439740180969238], [0.9439536929130554], [0.9439487457275391], [0.9439359903335571], [0.9439241886138916], [0.9438990950584412], [0.9438939094543457], [0.9438917636871338], [0.9438698887825012], [0.9438644051551819], [0.9438372254371643], [0.9438360333442688], [0.9438228607177734], [0.9438125491142273], [0.9438014030456543], [0.9438002705574036], [0.943778932094574], [0.9437729716300964], [0.9437638521194458], [0.9437624216079712], [0.9437406659126282], [0.9437285661697388], [0.9437055587768555], [0.9437005519866943], [0.9436882138252258], [0.9436643719673157], [0.9436604380607605], [0.9436570405960083], [0.943638026714325], [0.9436370730400085], [0.943636417388916], [0.943635880947113], [0.9436317682266235], [0.9436293244361877], [0.9436241984367371], [0.9436233639717102], [0.9436161518096924], [0.9436038732528687], [0.9436037540435791], [0.9435942769050598], [0.9435864686965942], [0.9435761570930481], [0.9435731768608093], [0.9435663819313049], [0.9435582160949707], [0.9435577988624573], [0.9435443878173828], [0.9435424208641052], [0.9435307383537292], [0.9435198903083801], [0.9435145854949951], [0.943510890007019], [0.9435070753097534], [0.9434952735900879], [0.9434759616851807], [0.9434718489646912], [0.943466305732727], [0.9434505105018616], [0.9434375762939453], [0.9434325695037842], [0.9434232115745544], [0.9434216618537903], [0.9434075355529785], [0.9434048533439636], [0.9433875679969788], [0.9433758854866028], [0.9433633089065552], [0.9433490633964539], [0.9433437585830688], [0.9433415532112122], [0.9433165192604065], [0.9433062076568604], [0.9433059096336365], [0.9432939887046814], [0.9432734251022339], [0.9432713985443115], [0.9432681202888489], [0.94326251745224], [0.9432611465454102], [0.9432594180107117], [0.9432573318481445], [0.9432432055473328], [0.943229079246521], [0.9432178735733032], [0.9432174563407898], [0.9431977868080139], [0.9431905746459961], [0.9431716203689575], [0.943138837814331], [0.9431325197219849], [0.9431314468383789], [0.9431135058403015], [0.9431124329566956], [0.9431079030036926], [0.9431015253067017], [0.9430996179580688], [0.9430812001228333], [0.9430742859840393], [0.9430720806121826], [0.9430651664733887], [0.9430428743362427], [0.9430423974990845], [0.943033754825592], [0.9430289268493652], [0.9430193901062012], [0.9430191516876221], [0.9430031180381775], [0.9430013298988342], [0.9429891705513], [0.942984938621521], [0.9429434537887573], [0.9429280757904053], [0.942922055721283], [0.9429182410240173], [0.9429113268852234], [0.9429057240486145], [0.942901074886322], [0.9428972601890564], [0.9428822994232178], [0.9428802728652954], [0.9428775310516357], [0.9428718090057373], [0.9428383111953735], [0.9428309202194214], [0.9428141713142395], [0.9428114295005798], [0.9428057074546814], [0.942803144454956], [0.9428020715713501], [0.9427919983863831], [0.9427780508995056], [0.9427613019943237], [0.9427539706230164], [0.942753255367279], [0.9427520632743835], [0.942724347114563], [0.9427205920219421], [0.942707359790802], [0.9426934123039246], [0.9426931738853455], [0.9426923394203186], [0.9426651000976562], [0.9426620006561279], [0.9426552653312683], [0.9426409602165222], [0.9426395893096924], [0.9426200985908508], [0.942617654800415], [0.9425581097602844], [0.9425503015518188], [0.9425466656684875], [0.9425435066223145], [0.9425384402275085], [0.9425325989723206], [0.9425305724143982], [0.9425255060195923], [0.9425150156021118], [0.9425123929977417], [0.9425100684165955], [0.9425058364868164], [0.942499041557312], [0.9424861073493958], [0.94248366355896], [0.9424722194671631], [0.9424526691436768], [0.9424484968185425], [0.9424371719360352], [0.9424326419830322], [0.9424231052398682], [0.9424096345901489], [0.9423835277557373], [0.9423735737800598], [0.9423704743385315], [0.9423578977584839], [0.9423564076423645], [0.9423549175262451], [0.942333996295929], [0.942331850528717], [0.9423192739486694], [0.9423134326934814], [0.9423116445541382], [0.9423044323921204], [0.9423009157180786], [0.942298412322998], [0.9422948956489563], [0.9422828555107117], [0.9422809481620789], [0.9422768950462341], [0.942263662815094], [0.9422521591186523], [0.9422386884689331], [0.9422299265861511], [0.9422124624252319], [0.942196786403656], [0.9421945810317993], [0.9421881437301636], [0.9421859979629517], [0.9421854615211487], [0.9421813488006592], [0.9421800971031189], [0.9421656727790833], [0.9421483278274536], [0.9421219825744629], [0.9421142339706421], [0.942112147808075], [0.9420979619026184], [0.9420928955078125], [0.9420825242996216], [0.942077100276947], [0.942070484161377], [0.942069947719574], [0.9420684576034546], [0.9420552253723145], [0.9420499205589294], [0.9420388340950012], [0.9420107007026672], [0.9419938921928406], [0.9419885873794556], [0.9419693350791931], [0.9419655203819275], [0.9419627785682678], [0.9419495463371277], [0.9419455528259277], [0.9419326186180115], [0.9419261813163757], [0.941923201084137], [0.9419143199920654], [0.9419057369232178], [0.9418970942497253], [0.9418946504592896], [0.9418814182281494], [0.9418466687202454], [0.9418415427207947], [0.9418410658836365], [0.9418368339538574], [0.9418352246284485], [0.9418298602104187], [0.9418129920959473], [0.941792905330658], [0.9417642951011658], [0.9417622685432434], [0.9417620301246643], [0.9417569637298584], [0.9417567849159241], [0.9417203068733215], [0.9417144656181335], [0.9417133331298828], [0.9417113065719604], [0.9417081475257874], [0.9417023062705994], [0.941688597202301], [0.9416863322257996], [0.9416844844818115], [0.9416700005531311], [0.9416483044624329], [0.9416443705558777], [0.9416435360908508], [0.941643238067627], [0.9415993690490723], [0.9415938854217529], [0.9415861368179321], [0.9415776133537292], [0.9415562748908997], [0.9415478110313416], [0.9415359497070312], [0.9415338635444641], [0.9415274858474731], [0.9415256977081299], [0.9415221214294434], [0.9415050148963928], [0.9415016174316406], [0.9414752125740051], [0.9414610266685486], [0.9414563775062561], [0.9414562582969666], [0.9414551258087158], [0.9414476156234741], [0.9414403438568115], [0.9414232969284058], [0.9414124488830566], [0.9414057731628418], [0.9414041042327881], [0.9413928985595703], [0.9413643479347229], [0.9413607716560364], [0.9413601160049438], [0.9413591623306274], [0.9413569569587708], [0.9413554072380066], [0.9413540959358215], [0.9413498640060425], [0.9413495659828186], [0.9413468241691589], [0.9413374066352844], [0.9413214921951294], [0.9413170218467712], [0.9413130283355713], [0.9413113594055176], [0.9413067102432251], [0.9413049817085266], [0.941299319267273], [0.9412931799888611], [0.9412825107574463], [0.9412789344787598], [0.9412732124328613], [0.941267728805542], [0.9412673115730286], [0.9412478804588318], [0.9412417411804199], [0.9412057995796204], [0.9411944150924683], [0.9411775469779968], [0.9411680102348328], [0.9411625266075134], [0.941154420375824], [0.9411540031433105], [0.9411427974700928], [0.9411415457725525], [0.9410865902900696], [0.9410805106163025], [0.941057562828064], [0.9410510659217834], [0.9410403966903687], [0.9410333037376404], [0.9410330057144165], [0.9410218000411987], [0.9410048127174377], [0.9410022497177124], [0.940981388092041], [0.9409795999526978], [0.9409616589546204], [0.9409546852111816], [0.9409204721450806], [0.9409064054489136], [0.9409052729606628], [0.9409043192863464], [0.9408954381942749], [0.94088214635849], [0.9408811926841736], [0.9408751130104065], [0.940872848033905], [0.9408702254295349], [0.9408565163612366], [0.9408509135246277], [0.9408475160598755], [0.9408448934555054], [0.9408266544342041], [0.9407939314842224], [0.9407902359962463], [0.940780520439148], [0.9407788515090942], [0.9407748579978943], [0.9407410621643066], [0.9407345652580261], [0.9407317042350769], [0.9407229423522949], [0.9406963586807251], [0.9406917095184326], [0.9406707286834717], [0.9406648278236389], [0.9406498074531555], [0.9406351447105408], [0.9406269192695618], [0.9406246542930603], [0.9405942559242249], [0.9405910968780518], [0.9405787587165833], [0.940576434135437], [0.9405732750892639], [0.9405702948570251], [0.9405683875083923], [0.9405611157417297], [0.940543532371521], [0.9405286312103271], [0.9405235648155212], [0.9405124187469482], [0.9405083060264587], [0.9404959678649902], [0.9404888153076172], [0.9404658079147339], [0.9404645562171936], [0.940447986125946], [0.9404361844062805], [0.9403980374336243], [0.9403775930404663], [0.9403737783432007], [0.9403711557388306], [0.9403505921363831], [0.940345287322998], [0.9403389692306519], [0.940334141254425], [0.9403285384178162], [0.9403197765350342], [0.9403089284896851], [0.9403066039085388], [0.9403047561645508], [0.9402996897697449], [0.9402967095375061], [0.9402875304222107], [0.9402676224708557], [0.9402636289596558], [0.940246045589447], [0.9401992559432983], [0.9401895403862], [0.940189003944397], [0.9401752948760986], [0.940172553062439], [0.9401652812957764], [0.9401534795761108], [0.9401430487632751], [0.9401389360427856], [0.9401330351829529], [0.94012850522995], [0.9401142001152039], [0.9400933384895325], [0.9400807023048401], [0.9400795698165894], [0.9400709271430969], [0.9400677680969238], [0.9400613307952881], [0.9400543570518494], [0.9400435090065002], [0.9400395154953003], [0.9400233030319214], [0.9400122165679932], [0.9400061964988708], [0.9400032758712769], [0.9400007724761963], [0.9399994611740112], [0.9399945139884949], [0.939989447593689], [0.9399829506874084], [0.9399707317352295], [0.9399701952934265], [0.9399637579917908], [0.9399409294128418], [0.9399381875991821], [0.939934492111206], [0.9399337768554688], [0.9399314522743225], [0.9399244785308838], [0.9399170875549316], [0.939911425113678], [0.9399070143699646], [0.9399000406265259], [0.9398817420005798], [0.9398735165596008], [0.9398729801177979], [0.9398723840713501], [0.9398369789123535], [0.9398313164710999], [0.9398209452629089], [0.9398146271705627], [0.9398110508918762], [0.9398096799850464], [0.9398052096366882], [0.9397993087768555], [0.9397872686386108], [0.9397629499435425], [0.9397574067115784], [0.9397546648979187], [0.9397460222244263], [0.9397438764572144], [0.9397430419921875], [0.9397306442260742], [0.9397028684616089], [0.9396953582763672], [0.9396944046020508], [0.9396796822547913], [0.9396731853485107], [0.9396618008613586], [0.939657986164093], [0.9396522045135498], [0.9396417737007141], [0.9396349787712097], [0.9396339058876038], [0.9396098256111145], [0.9396054744720459], [0.939601480960846], [0.9395958185195923], [0.9395816922187805], [0.9395812749862671], [0.9395789504051208], [0.9395742416381836], [0.9395724534988403], [0.9395651817321777], [0.9395647644996643], [0.9395174980163574], [0.9395129084587097], [0.9394856095314026], [0.9394711256027222], [0.9394544959068298], [0.9394512176513672], [0.9394510984420776], [0.9394429922103882], [0.9394234418869019], [0.939404308795929], [0.9394022226333618], [0.93938809633255], [0.9393841028213501], [0.9393752813339233], [0.939373254776001], [0.9393718838691711], [0.9393637776374817], [0.9393545389175415], [0.9393521547317505], [0.9393472075462341], [0.9393300414085388], [0.9393280148506165], [0.9393278360366821], [0.9393037557601929], [0.9392833113670349], [0.9392824769020081], [0.9392808079719543], [0.9392803907394409], [0.9392704963684082], [0.9392545223236084], [0.9392406344413757], [0.9392132759094238], [0.9392080307006836], [0.9392052888870239], [0.9392032027244568], [0.9392005801200867], [0.9391990900039673], [0.9391961693763733], [0.9391913414001465], [0.9391818642616272], [0.9391815662384033], [0.9391794204711914], [0.939172625541687], [0.9391694664955139], [0.9391535520553589], [0.9391390681266785], [0.9391366243362427], [0.9391272068023682], [0.9391220211982727], [0.939113199710846], [0.9390984773635864], [0.9390929341316223], [0.9390842914581299], [0.9390796422958374], [0.93907630443573], [0.9390533566474915], [0.9390511512756348], [0.9390297532081604], [0.9390290975570679], [0.9390093088150024], [0.9390068054199219], [0.9390004277229309], [0.9389869570732117], [0.9389675259590149], [0.9389523863792419], [0.9389511346817017], [0.9389503598213196], [0.9389391541481018], [0.9389091730117798], [0.9389090538024902], [0.9389083385467529], [0.9389026761054993], [0.9389002323150635], [0.9388986825942993], [0.9388980269432068], [0.9388901591300964], [0.938889741897583], [0.9388847947120667], [0.9388766288757324], [0.9388706088066101], [0.9388673305511475], [0.9388671517372131], [0.938856840133667], [0.9388440251350403], [0.9388383626937866], [0.9388273358345032], [0.9388272166252136], [0.938821017742157], [0.9388120770454407], [0.9388088583946228], [0.9388055801391602], [0.9388020038604736], [0.9387989640235901], [0.938798189163208], [0.9387874007225037], [0.938783586025238], [0.938773512840271], [0.9387703537940979], [0.9387614727020264], [0.9387502074241638], [0.9387449622154236], [0.9387380480766296], [0.9387370944023132], [0.9387179613113403], [0.9387173056602478], [0.9387080669403076], [0.9387008547782898], [0.9386995434761047], [0.9386880993843079], [0.9386879205703735], [0.9386799335479736], [0.9386765956878662], [0.9386693239212036], [0.9386690258979797], [0.9386588931083679], [0.9386557936668396], [0.9386428594589233], [0.9386387467384338], [0.9386376142501831], [0.9386315941810608], [0.938630223274231], [0.9386115670204163], [0.9385838508605957], [0.938581645488739], [0.938571572303772], [0.9385595917701721], [0.9385568499565125], [0.9385477304458618], [0.9385328888893127], [0.9385252594947815], [0.9385170340538025], [0.9385086297988892], [0.938506543636322], [0.9384955167770386], [0.9384936094284058], [0.9384828209877014], [0.9384811520576477], [0.9384766221046448], [0.9384720921516418], [0.938443124294281], [0.9384247660636902], [0.9384151101112366], [0.9383973479270935], [0.9383965134620667], [0.9383947253227234], [0.9383915662765503], [0.9383882284164429], [0.9383755326271057], [0.9383744597434998], [0.9383686780929565], [0.9383519887924194], [0.938348114490509], [0.9383226037025452], [0.9383086562156677], [0.9382684826850891], [0.938267707824707], [0.9382574558258057], [0.9382567405700684], [0.938236653804779], [0.9382319450378418], [0.9382274150848389], [0.9382268190383911], [0.938223123550415], [0.9382030963897705], [0.9382026791572571], [0.9382017254829407], [0.9381840825080872], [0.9381670951843262], [0.9381618499755859], [0.9381434917449951], [0.9381334185600281], [0.9381223917007446], [0.9381205439567566], [0.9381198883056641], [0.9381139278411865], [0.9381054043769836], [0.9380695223808289], [0.9380633234977722], [0.9380558729171753], [0.9380555748939514], [0.9380505681037903], [0.9380474090576172], [0.9380232691764832], [0.9380223155021667], [0.9380149841308594], [0.9379843473434448], [0.9379823803901672], [0.9379531145095825], [0.937952995300293], [0.9379507899284363], [0.9379493594169617], [0.9379463195800781], [0.9379463195800781], [0.9379449486732483], [0.9379442930221558], [0.9379333853721619], [0.9379240870475769], [0.937912106513977], [0.9379040002822876], [0.9378865957260132], [0.9378858804702759], [0.9378780126571655], [0.937861442565918], [0.937857449054718], [0.9378523230552673], [0.937851071357727], [0.9378407001495361], [0.937824547290802], [0.937824547290802], [0.9378163814544678], [0.9377964735031128], [0.93778395652771], [0.9377779960632324], [0.9377688765525818], [0.9377636313438416], [0.9377543330192566], [0.9377540946006775], [0.9377540946006775], [0.9377420544624329], [0.937730610370636], [0.9377130270004272], [0.937707781791687], [0.9377058744430542], [0.9376962184906006], [0.9376684427261353], [0.9376683235168457], [0.9376398324966431], [0.9376397132873535], [0.9376012682914734], [0.9376010894775391], [0.9375964403152466], [0.9375919699668884], [0.9375918507575989], [0.9375768899917603], [0.9375731945037842], [0.9375588297843933], [0.9375304579734802], [0.9375218749046326], [0.9374757409095764], [0.9374741911888123], [0.9374733567237854], [0.937452495098114], [0.9374510049819946], [0.9374496340751648], [0.9374457597732544], [0.9374284744262695], [0.9374125599861145], [0.9374089241027832], [0.9373989701271057], [0.9373952150344849], [0.9373838901519775], [0.9373789429664612], [0.9373760223388672], [0.9373731017112732], [0.9373700618743896], [0.937364935874939], [0.9373463988304138], [0.937340497970581], [0.9373393654823303], [0.937315821647644], [0.9373119473457336], [0.9373015761375427], [0.9372929930686951], [0.9372606873512268], [0.9372502565383911], [0.9372386336326599], [0.9372361898422241], [0.9372325539588928], [0.9372249841690063], [0.9372162818908691], [0.9372093081474304], [0.9371938109397888], [0.937140703201294], [0.9371401071548462], [0.9371299147605896], [0.9371290802955627], [0.9371289610862732], [0.9371277093887329], [0.9371162056922913], [0.9371044635772705], [0.9371036291122437], [0.9370973706245422], [0.9370930790901184], [0.9370900392532349], [0.9370757937431335], [0.9370739459991455], [0.9370687007904053], [0.9370501637458801], [0.9370468258857727], [0.9370371699333191], [0.9370363354682922], [0.9370341300964355], [0.9370323419570923], [0.9370255470275879], [0.937022864818573], [0.9369949102401733], [0.9369838833808899], [0.9369828701019287], [0.9369803667068481], [0.9369708299636841], [0.9369529485702515], [0.93693608045578], [0.9369330406188965], [0.9369312524795532], [0.9369218349456787], [0.9369179606437683], [0.9369075298309326], [0.9369058609008789], [0.9368956685066223], [0.9368939995765686], [0.9368909001350403], [0.9368905425071716], [0.9368872046470642], [0.9368802309036255], [0.9368765354156494], [0.9368680715560913], [0.9368504881858826], [0.9368467330932617], [0.936844527721405], [0.9368361830711365], [0.9368220567703247], [0.9368172287940979], [0.9368140697479248], [0.9367978572845459], [0.936794638633728], [0.9367765188217163], [0.9367756843566895], [0.936772346496582], [0.9367585182189941], [0.9367548823356628], [0.9367357492446899], [0.9367285966873169], [0.9366982579231262], [0.9366775751113892], [0.9366752505302429], [0.9366746544837952], [0.9366700649261475], [0.9366652369499207], [0.936653196811676], [0.9366401433944702], [0.9366247653961182], [0.9366214871406555], [0.9366164803504944], [0.9366121888160706], [0.9366090893745422], [0.9365800023078918], [0.9365686178207397], [0.936564028263092], [0.9365636706352234], [0.9365370273590088], [0.9365326166152954], [0.9365231990814209], [0.9365219473838806], [0.9365032315254211], [0.9364972710609436], [0.9364883899688721], [0.9364824295043945], [0.9364713430404663], [0.936471164226532], [0.9364699125289917], [0.9364669919013977], [0.9364546537399292], [0.9364420175552368], [0.9364352226257324], [0.9364339113235474], [0.936421811580658], [0.936421811580658], [0.9363996386528015], [0.9363895058631897], [0.9363808631896973], [0.9363633990287781], [0.9363606572151184], [0.9363574385643005], [0.9363459348678589], [0.9363398551940918], [0.9363212585449219], [0.936318039894104], [0.9363134503364563], [0.9363061189651489], [0.9362986087799072], [0.9362964034080505], [0.9362137317657471], [0.9362127184867859], [0.9361969232559204], [0.9361830353736877], [0.9361587762832642], [0.9361535310745239], [0.9361462593078613], [0.936122715473175], [0.9360989332199097], [0.9360951781272888], [0.93608158826828], [0.9360370635986328], [0.9360297918319702], [0.9360031485557556], [0.9359977841377258], [0.9359976053237915], [0.9359787106513977], [0.9359661936759949], [0.9359619617462158], [0.9359598159790039], [0.9359540343284607], [0.9359385967254639], [0.9359119534492493], [0.9359017610549927], [0.9358972311019897], [0.9358812570571899], [0.935871958732605], [0.9358696937561035], [0.9358684420585632], [0.9358615279197693], [0.9358518123626709], [0.9358449578285217], [0.9358391761779785], [0.935836672782898], [0.9358341693878174], [0.9358241558074951], [0.9357941150665283], [0.9357914924621582], [0.9357895255088806], [0.9357885718345642], [0.9357881546020508], [0.9357814788818359], [0.9357807040214539], [0.9357782006263733], [0.9357620477676392], [0.935759425163269], [0.93575119972229], [0.935732901096344], [0.9357298016548157], [0.9357290863990784], [0.9357207417488098], [0.9357008934020996], [0.9356933832168579], [0.9356920123100281], [0.9356875419616699], [0.9356672763824463], [0.9356663227081299], [0.9356643557548523], [0.935651421546936], [0.9356318712234497], [0.9356271028518677], [0.9356173872947693], [0.935558021068573], [0.9355546832084656], [0.935546338558197], [0.9355414509773254], [0.9355167150497437], [0.9355140924453735], [0.9355127215385437], [0.9355025887489319], [0.9354997873306274], [0.9354979991912842], [0.9354891777038574], [0.9354722499847412], [0.9354698657989502], [0.9354683756828308], [0.9354360699653625], [0.9354333281517029], [0.9354249238967896], [0.9354245662689209], [0.9354114532470703], [0.9353938102722168], [0.9353848695755005], [0.9353834986686707], [0.9353602528572083], [0.9353588819503784], [0.9353545904159546], [0.9353488683700562], [0.9353458285331726], [0.9353306293487549], [0.9353167414665222], [0.9353060126304626], [0.9352818131446838], [0.9352685809135437], [0.9352683424949646], [0.9352599382400513], [0.9352549314498901], [0.935249924659729], [0.9352407455444336], [0.9352392554283142], [0.9352334141731262], [0.9352297782897949], [0.9352104067802429], [0.9352100491523743], [0.9351938962936401], [0.9351848363876343], [0.9351846575737], [0.9351785778999329], [0.9351658821105957], [0.9351518750190735], [0.9351518154144287], [0.9351476430892944], [0.9351224899291992], [0.9351198673248291], [0.9351045489311218], [0.9350970387458801], [0.935089111328125], [0.9350783228874207], [0.9350758194923401], [0.935075581073761], [0.9350553750991821], [0.9350497126579285], [0.9350489974021912], [0.9350486993789673], [0.935046911239624], [0.9350408911705017], [0.9350327253341675], [0.9350305795669556], [0.935029923915863], [0.9350297451019287], [0.9350232481956482], [0.9350173473358154], [0.9350152611732483], [0.9350085854530334], [0.9349972009658813], [0.9349953532218933], [0.9349888563156128], [0.9349794983863831], [0.9349708557128906], [0.9349642992019653], [0.9349542856216431], [0.934954047203064], [0.9349534511566162], [0.9349413514137268], [0.9349408149719238], [0.9349374175071716], [0.9349144697189331], [0.9349085092544556], [0.9349063634872437], [0.9348995685577393], [0.9348946809768677], [0.9348846673965454], [0.9348732233047485], [0.9348725080490112], [0.9348700642585754], [0.9348700046539307], [0.9348490238189697], [0.9348301887512207], [0.9348281025886536], [0.9347994327545166], [0.9347909092903137], [0.9347889423370361], [0.9347783327102661], [0.9347782135009766], [0.9347676634788513], [0.9347634315490723], [0.9347571730613708], [0.9347567558288574], [0.934745728969574], [0.9347367286682129], [0.9347318410873413], [0.9347290396690369], [0.9347203969955444], [0.9347007274627686], [0.9346936345100403], [0.9346820712089539], [0.9346813559532166], [0.9346738457679749], [0.9346705079078674], [0.9346540570259094], [0.9346256256103516], [0.9346169829368591], [0.9346161484718323], [0.9346092939376831], [0.9346075057983398], [0.9346054196357727], [0.9345850348472595], [0.9345677495002747], [0.9345670938491821], [0.9345605373382568], [0.9345433712005615], [0.9345415234565735], [0.9345411658287048], [0.9345411062240601], [0.9345260858535767], [0.9345250725746155], [0.934524416923523], [0.9345235824584961], [0.9344909191131592], [0.9344899654388428], [0.9344803690910339], [0.9344782829284668], [0.9344674944877625], [0.934464693069458], [0.9344474077224731], [0.9344442486763], [0.9344315528869629], [0.934424877166748], [0.9344176054000854], [0.934417188167572], [0.9343963861465454], [0.9343817234039307], [0.9343754649162292], [0.9343675374984741], [0.9343556761741638], [0.9343459010124207], [0.9343450665473938], [0.9343400001525879], [0.9343248605728149], [0.9342923164367676], [0.9342849254608154], [0.9342804551124573], [0.9342796206474304], [0.934273898601532], [0.9342663288116455], [0.9342637062072754], [0.934248685836792], [0.9342319369316101], [0.9342308044433594], [0.9342043995857239], [0.9342028498649597], [0.9341819286346436], [0.9341808557510376], [0.9341745376586914], [0.9341490268707275], [0.9341262578964233], [0.9341188669204712], [0.9341168999671936], [0.9341051578521729], [0.9340915083885193], [0.9340741634368896], [0.9340740442276001], [0.9340589642524719], [0.9340536594390869], [0.9340469241142273], [0.9340384006500244], [0.934033989906311], [0.9340023994445801], [0.9340000152587891], [0.9339911341667175], [0.9339905381202698], [0.9339827299118042], [0.9339768290519714], [0.9339708685874939], [0.933961808681488], [0.9339597821235657], [0.9339573383331299], [0.9339121580123901], [0.9339060187339783], [0.9338789582252502], [0.9338761568069458], [0.9338677525520325], [0.9338536858558655], [0.9338524341583252], [0.9338385462760925], [0.9338166117668152], [0.9338138103485107], [0.9337999820709229], [0.9337969422340393], [0.9337841868400574], [0.9337725043296814], [0.9337707757949829], [0.9337659478187561], [0.9337594509124756], [0.9337586164474487], [0.933754563331604], [0.93375164270401], [0.9337379336357117], [0.9337339401245117], [0.9337270855903625], [0.933706521987915], [0.9336870908737183], [0.9336851239204407], [0.9336538314819336], [0.9336532354354858], [0.9336528778076172], [0.9336428046226501], [0.9336398243904114], [0.9336281418800354], [0.9336228966712952], [0.9336215257644653], [0.9336175918579102], [0.9336163401603699], [0.9336073994636536], [0.9335997104644775], [0.9335979223251343], [0.9335977435112], [0.9335954189300537], [0.933589518070221], [0.9335868954658508], [0.9335620999336243], [0.9335619807243347], [0.9335557222366333], [0.9335318803787231], [0.9335278868675232], [0.9335229396820068], [0.9335166811943054], [0.9335071444511414], [0.9335067272186279], [0.9335052371025085], [0.9334968328475952], [0.9334951639175415], [0.9334708452224731], [0.9334627985954285], [0.9334535002708435], [0.9334466457366943], [0.933431088924408], [0.9334145784378052], [0.9334111213684082], [0.9333916306495667], [0.9333829879760742], [0.9333702325820923], [0.9333671927452087], [0.9333602786064148], [0.9333596229553223], [0.9333515167236328], [0.9333465695381165], [0.9333378076553345], [0.9333345890045166], [0.9333337545394897], [0.9333294034004211], [0.9333258867263794], [0.9333145618438721], [0.9333127737045288], [0.9333100914955139], [0.9333099126815796], [0.9333099126815796], [0.9332983493804932], [0.9332850575447083], [0.9332791566848755], [0.9332658648490906], [0.933259129524231], [0.9332188367843628], [0.9332177042961121], [0.9332122802734375], [0.9332113862037659], [0.9332077503204346], [0.9332000613212585], [0.9331954717636108], [0.9331929683685303], [0.9331631064414978], [0.933161199092865], [0.9331586360931396], [0.9331504106521606], [0.9331478476524353], [0.9331456422805786], [0.9331240653991699], [0.9331022500991821], [0.9330986142158508], [0.9330976009368896], [0.9330717325210571], [0.9330676794052124], [0.9330261945724487], [0.9330205917358398], [0.9330204725265503], [0.9330155253410339], [0.9330092668533325], [0.9330029487609863], [0.9330018758773804], [0.9329802989959717], [0.932953417301178], [0.9329530596733093], [0.9329468011856079], [0.93294358253479], [0.9329308271408081], [0.9329301118850708], [0.9329239726066589], [0.9329205751419067], [0.9329113960266113], [0.9329086542129517], [0.9328908920288086], [0.9328868389129639], [0.9328809380531311], [0.9328806400299072], [0.9328581094741821], [0.9328578114509583], [0.9328498840332031], [0.9328401684761047], [0.9328333139419556], [0.9328298568725586], [0.932826578617096], [0.9328098893165588], [0.9328030943870544], [0.9328026175498962], [0.93280029296875], [0.9327935576438904], [0.9327816367149353], [0.9327727556228638], [0.9327663779258728], [0.9327300190925598], [0.9327200651168823], [0.9327154755592346], [0.9327101707458496], [0.932688295841217], [0.9326879978179932], [0.9326786398887634], [0.9326610565185547], [0.932659924030304], [0.9326158165931702], [0.9326093196868896], [0.9326013922691345], [0.9326002597808838], [0.932557225227356], [0.9325429201126099], [0.9325424432754517], [0.9325413703918457], [0.9325271844863892], [0.9325250387191772], [0.93252032995224], [0.9325085282325745], [0.9325022101402283], [0.9324955940246582], [0.9324938058853149], [0.932486891746521], [0.932482123374939], [0.932473361492157], [0.9324694275856018], [0.932468593120575], [0.9324662089347839], [0.932456910610199], [0.9324467778205872], [0.9324344992637634], [0.9324316382408142], [0.932418167591095], [0.9324166178703308], [0.93241286277771], [0.9324114918708801], [0.9324094653129578], [0.9323995113372803], [0.9323925375938416], [0.9323737025260925], [0.9323553442955017], [0.932336151599884], [0.9323201179504395], [0.9322981238365173], [0.9322932958602905], [0.9322879910469055], [0.9322701692581177], [0.9322521686553955], [0.932244598865509], [0.9322441816329956], [0.9322426319122314], [0.9322382807731628], [0.9322323799133301], [0.9322260618209839], [0.9322109222412109], [0.9322012662887573], [0.9321743249893188], [0.9321742653846741], [0.9321674108505249], [0.9321659803390503], [0.9321547746658325], [0.9321516752243042], [0.9321500062942505], [0.9321467876434326], [0.9321299195289612], [0.9321104288101196], [0.9320966601371765], [0.9320882558822632], [0.932087779045105], [0.9320738911628723], [0.9320704340934753], [0.9320435523986816], [0.9320389628410339], [0.932022213935852], [0.9320198893547058], [0.9320151805877686], [0.9320094585418701], [0.9320025444030762], [0.9319875836372375], [0.931986391544342], [0.9319829344749451], [0.9319777488708496], [0.9319761991500854], [0.9319702386856079], [0.9319562315940857], [0.9319539666175842], [0.931947648525238], [0.9319403767585754], [0.9319344758987427], [0.93193119764328], [0.93193119764328], [0.9319170117378235], [0.9319053292274475], [0.9319030046463013], [0.9318925738334656], [0.9318879842758179], [0.9318861365318298], [0.9318779706954956], [0.9318746328353882], [0.9318529367446899], [0.931842029094696], [0.9318196773529053], [0.9318094253540039], [0.9317901730537415], [0.9317877292633057], [0.931776762008667], [0.9317556023597717], [0.9317308664321899], [0.931719183921814], [0.9317190051078796], [0.9316848516464233], [0.9316666126251221], [0.9316660165786743], [0.9316545128822327], [0.9316493272781372], [0.9316487312316895], [0.9316383600234985], [0.9316282272338867], [0.9316221475601196], [0.9316202998161316], [0.9316179156303406], [0.9316160082817078], [0.9316116571426392], [0.9316086769104004], [0.931596040725708], [0.9315948486328125], [0.9315826296806335], [0.9315769076347351], [0.9315698742866516], [0.9315596222877502], [0.9315550923347473], [0.9315295219421387], [0.9315228462219238], [0.9315177798271179], [0.9315024614334106], [0.9314984083175659], [0.9314913749694824], [0.9314888715744019], [0.9314852952957153], [0.9314754605293274], [0.9314706921577454], [0.9314513206481934], [0.9314208626747131], [0.9314119219779968], [0.9313983917236328], [0.9313899278640747], [0.9313856959342957], [0.9313852787017822], [0.931367814540863], [0.9313547611236572], [0.9313454627990723], [0.9313262104988098], [0.9313188791275024], [0.931309163570404], [0.9312953948974609], [0.9312739968299866], [0.9312726855278015], [0.9312649369239807], [0.9312615990638733], [0.9312600493431091], [0.9312541484832764], [0.9312503337860107], [0.9312217235565186], [0.9312127828598022], [0.9312105178833008], [0.9311717748641968], [0.931165337562561], [0.9311628937721252], [0.9311627745628357], [0.9311417937278748], [0.9311396479606628], [0.931126058101654], [0.9311090111732483], [0.931106448173523], [0.9311033487319946], [0.9311003684997559], [0.9310709834098816], [0.9310685992240906], [0.9310595393180847], [0.9310538172721863], [0.9310475587844849], [0.9310406446456909], [0.9310384392738342], [0.9310125112533569], [0.9310106635093689], [0.9310060143470764], [0.9309983849525452], [0.9309967160224915], [0.9309880137443542], [0.9309802651405334], [0.9309715032577515], [0.9309613704681396], [0.9309605360031128], [0.9309535026550293], [0.9309493899345398], [0.9309327602386475], [0.9309185147285461], [0.9309061765670776], [0.9308918118476868], [0.9308751225471497], [0.9308750033378601], [0.9308558106422424], [0.9308555722236633], [0.9308527708053589], [0.9308525919914246], [0.930838942527771], [0.9308328628540039], [0.9308274984359741], [0.9308224320411682], [0.9308183789253235], [0.9308143854141235], [0.9308132529258728], [0.9307990074157715], [0.9307870268821716], [0.9307808876037598], [0.9307632446289062], [0.9307593107223511], [0.9307554960250854], [0.93075031042099], [0.9307398796081543], [0.9307379722595215], [0.9307120442390442], [0.9307063221931458], [0.9306958913803101], [0.9306954145431519], [0.9306789040565491], [0.9306758642196655], [0.9306646585464478], [0.9306620359420776], [0.930656909942627], [0.9306432604789734], [0.9306426644325256], [0.9306380748748779], [0.9306291937828064], [0.9306151866912842], [0.9305998086929321], [0.9305902123451233], [0.930587112903595], [0.9305731654167175], [0.9305616021156311], [0.930557370185852], [0.930557131767273], [0.9305458068847656], [0.930541455745697], [0.9305412769317627], [0.9305148124694824], [0.9304811954498291], [0.9304770827293396], [0.9304540157318115], [0.930448591709137], [0.930448591709137], [0.9304383397102356], [0.9304218292236328], [0.9304180145263672], [0.9304116368293762], [0.930409848690033], [0.9304093718528748], [0.9304030537605286], [0.9303963780403137], [0.930395245552063], [0.9303802847862244], [0.9303772449493408], [0.930370569229126], [0.9303683042526245], [0.9303635358810425], [0.9303591847419739], [0.9303554892539978], [0.9303461909294128], [0.9302749037742615], [0.9302679300308228], [0.9302675127983093], [0.930239200592041], [0.9302186965942383], [0.9302138686180115], [0.9302102327346802], [0.9301913380622864], [0.9301828742027283], [0.9301753640174866], [0.9301500916481018], [0.9301491975784302], [0.9301466941833496], [0.9301427602767944], [0.9301427602767944], [0.9301416277885437], [0.9301414489746094], [0.9301411509513855], [0.9301369190216064], [0.9301362633705139], [0.9301281571388245], [0.9301207065582275], [0.9300758242607117], [0.9300499558448792], [0.9300431609153748], [0.9300382137298584], [0.9300356507301331], [0.930033266544342], [0.9300311207771301], [0.9300191402435303], [0.9300177097320557], [0.9300024509429932], [0.9300013184547424], [0.9299742579460144], [0.9299695491790771], [0.9299520254135132], [0.9299298524856567], [0.9299229383468628], [0.9299212694168091], [0.9299028515815735], [0.929888904094696], [0.9298850297927856], [0.9298823475837708], [0.929880678653717], [0.9298580288887024], [0.9298568964004517], [0.9298512935638428], [0.9298214316368103], [0.9297851324081421], [0.9297848343849182], [0.9297822713851929], [0.9297776222229004], [0.9297717213630676], [0.929762065410614], [0.9297480583190918], [0.9297383427619934], [0.9297341108322144], [0.9297329783439636], [0.9297223091125488], [0.929718554019928], [0.9297164082527161], [0.9297149777412415], [0.9297009706497192], [0.9296948909759521], [0.9296942353248596], [0.9296934008598328], [0.9296871423721313], [0.9296870231628418], [0.9296672344207764], [0.9296621084213257], [0.929656982421875], [0.9296514987945557], [0.9296457171440125], [0.9296386241912842], [0.929632842540741], [0.9296315312385559], [0.9296075105667114], [0.9296038150787354], [0.9296005964279175], [0.9295891523361206], [0.9295836091041565], [0.9295769333839417], [0.9295697808265686], [0.9295670390129089], [0.9295641183853149], [0.9295448660850525], [0.9295386075973511], [0.9295350909233093], [0.9295324087142944], [0.9295188188552856], [0.9295117855072021], [0.929498553276062], [0.9294926524162292], [0.9294916391372681], [0.9294905662536621], [0.9294732809066772], [0.9294708967208862], [0.9294489622116089], [0.9294478297233582], [0.9294436573982239], [0.9294204711914062], [0.9294179677963257], [0.9294115900993347], [0.929408848285675], [0.9293991327285767], [0.9293885231018066], [0.9293823838233948], [0.9293820261955261], [0.9293748736381531], [0.9293745160102844], [0.9293605089187622], [0.9293548464775085], [0.9293293356895447], [0.9293292164802551], [0.9293246865272522], [0.9292898178100586], [0.9292839169502258], [0.9292832016944885], [0.9292129874229431], [0.9292020797729492], [0.9291960597038269], [0.9291918277740479], [0.9291828274726868], [0.9291670918464661], [0.9291586875915527], [0.929146945476532], [0.9291403293609619], [0.9291396141052246], [0.9291344881057739], [0.929121732711792], [0.929112434387207], [0.9290977716445923], [0.9290914535522461], [0.9290652275085449], [0.9290645122528076], [0.9290585517883301], [0.9290207624435425], [0.9290177226066589], [0.9290061593055725], [0.9290056824684143], [0.9290015697479248], [0.928999662399292], [0.9289937019348145], [0.9289835095405579], [0.9289802312850952], [0.9289525747299194], [0.9289344549179077], [0.9289320707321167], [0.9289194345474243], [0.9289082288742065], [0.9288981556892395], [0.9288744926452637], [0.9288638234138489], [0.9288634657859802], [0.9288575053215027], [0.9288540482521057], [0.9288516640663147], [0.9288437366485596], [0.9288393259048462], [0.9288357496261597], [0.9288308024406433], [0.9288148283958435], [0.9288095831871033], [0.9288070201873779], [0.9287894368171692], [0.928780198097229], [0.9287741184234619], [0.9287530183792114], [0.9287429451942444], [0.9287275671958923], [0.928724467754364], [0.9287206530570984], [0.9287203550338745], [0.928719699382782], [0.9287091493606567], [0.9286864399909973], [0.9286816716194153], [0.9286634922027588], [0.928658127784729], [0.9286554455757141], [0.9286553859710693], [0.928642749786377], [0.9286298751831055], [0.9286201000213623], [0.9286196827888489], [0.928612470626831], [0.9286109805107117], [0.9286101460456848], [0.9286065101623535], [0.9285957217216492], [0.9285956621170044], [0.9285931587219238], [0.9285845160484314], [0.9285714626312256], [0.9285671710968018], [0.9285647869110107], [0.928564190864563], [0.9285551309585571], [0.9285534024238586], [0.9285469055175781], [0.9285311102867126], [0.9285281896591187], [0.9284932613372803], [0.9284870028495789], [0.9284837245941162], [0.9284746646881104], [0.928469717502594], [0.9284676909446716], [0.928462028503418], [0.9284607768058777], [0.9284428954124451], [0.9284428358078003], [0.9284198880195618], [0.9284173250198364], [0.9284123182296753], [0.928402304649353], [0.9283981323242188], [0.928378701210022], [0.9283350110054016], [0.9283105731010437], [0.928309977054596], [0.928299605846405], [0.928285539150238], [0.9282825589179993], [0.9282634258270264], [0.9282383918762207], [0.9282260537147522], [0.9282198548316956], [0.9281949400901794], [0.9281778931617737], [0.9281371831893921], [0.9281256794929504], [0.928107500076294], [0.9281047582626343], [0.9280940890312195], [0.928091824054718], [0.9280760288238525], [0.9280701279640198], [0.9280510544776917], [0.9280447959899902], [0.9280238747596741], [0.9280205368995667], [0.9280139803886414], [0.9280125498771667], [0.9279966354370117], [0.9279831647872925], [0.9279467463493347], [0.927942156791687], [0.9279221296310425], [0.9279159307479858], [0.927893877029419], [0.9278860092163086], [0.9278856515884399], [0.9278837442398071], [0.927873969078064], [0.9278642535209656], [0.9278588891029358], [0.9278426766395569], [0.9278414249420166], [0.9278379678726196], [0.9278325438499451], [0.9278244972229004], [0.9278184771537781], [0.9278160929679871], [0.9278057217597961], [0.927796483039856], [0.9277926087379456], [0.9277907609939575], [0.9277781248092651], [0.9277772903442383], [0.9277676343917847], [0.9277580976486206], [0.9277456998825073], [0.9277317523956299], [0.9277279376983643], [0.927727222442627], [0.9277251958847046], [0.9277238249778748], [0.9277035593986511], [0.9277024269104004], [0.9276994466781616], [0.927693784236908], [0.9276813864707947], [0.9276733994483948], [0.9276697039604187], [0.927654504776001], [0.9276511073112488], [0.9276354312896729], [0.9276310801506042], [0.9276142120361328], [0.9275950193405151], [0.9275949001312256], [0.9275839328765869], [0.9275764226913452], [0.9275726675987244], [0.9275707006454468], [0.9275684356689453], [0.9275676012039185], [0.9275609254837036], [0.9275296926498413], [0.9275295734405518], [0.9275264739990234], [0.9275254607200623], [0.9275197982788086], [0.9275137782096863], [0.9275054931640625], [0.9274985194206238], [0.9274976849555969], [0.9274687767028809], [0.9274659752845764], [0.9274632334709167], [0.9274600148200989], [0.9274560213088989], [0.9274558424949646], [0.9274504780769348], [0.9274482727050781], [0.9274446368217468], [0.927444338798523], [0.9274353981018066], [0.9274048805236816], [0.9273995161056519], [0.9273896813392639], [0.9273841381072998], [0.9273819327354431], [0.9273706078529358], [0.9273670315742493], [0.9273670315742493], [0.9273375272750854], [0.9273351430892944], [0.9273348450660706], [0.9273237586021423], [0.9273234605789185], [0.9273164868354797], [0.9273152947425842], [0.927298367023468], [0.9272947907447815], [0.9272931218147278], [0.9272887110710144], [0.9272639155387878], [0.9272381663322449], [0.9272221922874451], [0.927197277545929], [0.9271811246871948], [0.9271494150161743], [0.9271426796913147], [0.9271351099014282], [0.9271295666694641], [0.927128255367279], [0.9271277189254761], [0.9271217584609985], [0.9271191954612732], [0.9271084666252136], [0.9271082282066345], [0.9270925521850586], [0.9270597100257874], [0.9270550608634949], [0.9270532131195068], [0.9270527958869934], [0.9270521998405457], [0.9270369410514832], [0.9270218014717102], [0.9270192980766296], [0.9270178079605103], [0.9270099997520447], [0.9270011782646179], [0.9269952178001404], [0.926979660987854], [0.9269689917564392], [0.9269659519195557], [0.9269384741783142], [0.9269343018531799], [0.9269242882728577], [0.9269176125526428], [0.9269005060195923], [0.9268983602523804], [0.9268968105316162], [0.926886796951294], [0.9268681406974792], [0.9268586039543152], [0.9268565773963928], [0.9268213510513306], [0.9268181324005127], [0.9268108606338501], [0.926798403263092], [0.9267931580543518], [0.9267787337303162], [0.9267677068710327], [0.9267541766166687], [0.9267533421516418], [0.9267467856407166], [0.9267412424087524], [0.9267389178276062], [0.9267192482948303], [0.9267098307609558], [0.926706850528717], [0.9267032742500305], [0.9266857504844666], [0.9266842603683472], [0.926673412322998], [0.9266725778579712], [0.9266534447669983], [0.9266493320465088], [0.9266453385353088], [0.9266383647918701], [0.9266368746757507], [0.9266366362571716], [0.9266358017921448], [0.9266193509101868], [0.9265998005867004], [0.9265909790992737], [0.9265881180763245], [0.9265785813331604], [0.9265742301940918], [0.9265733957290649], [0.9265721440315247], [0.9265679717063904], [0.9265490174293518], [0.9265441298484802], [0.9265395998954773], [0.9265351891517639], [0.9265316128730774], [0.9265162944793701], [0.9264881610870361], [0.9264876246452332], [0.926480233669281], [0.9264726638793945], [0.9264622330665588], [0.9264582395553589], [0.9264560341835022], [0.9264530539512634], [0.9264417886734009], [0.9264402389526367], [0.9264218211174011], [0.9263842105865479], [0.9263788461685181], [0.926376223564148], [0.9263725280761719], [0.9263659715652466], [0.9263591170310974], [0.926334798336029], [0.9263237118721008], [0.9263132810592651], [0.9263132214546204], [0.9263045191764832], [0.9262988567352295], [0.9262763857841492], [0.9262658357620239], [0.9262548089027405], [0.9262358546257019], [0.9262345433235168], [0.92623370885849], [0.9262323975563049], [0.9262285232543945], [0.9262127876281738], [0.926207959651947], [0.9262028336524963], [0.9261897206306458], [0.9261747002601624], [0.9261670708656311], [0.9261606931686401], [0.9261541366577148], [0.9261462092399597], [0.9261436462402344], [0.9261379837989807], [0.9260641932487488], [0.9260516166687012], [0.9260346293449402], [0.9260299205780029], [0.9260278940200806], [0.9260095953941345], [0.9260005950927734], [0.925991415977478], [0.925984263420105], [0.9259838461875916], [0.9259769916534424], [0.9259685277938843], [0.9259642958641052], [0.9259585738182068], [0.9259392619132996], [0.9259383678436279], [0.9259371161460876], [0.9259324073791504], [0.9259320497512817], [0.9259194731712341], [0.9259183406829834], [0.9258990287780762], [0.925884485244751], [0.925877571105957], [0.9258521199226379], [0.9258431196212769], [0.9258368611335754], [0.9258239269256592], [0.9258133769035339], [0.9258089065551758], [0.9257924556732178], [0.9257760643959045], [0.9257721900939941], [0.925769031047821], [0.925754964351654], [0.9257445335388184], [0.9257369637489319], [0.9257362484931946], [0.9257284998893738], [0.9257245063781738], [0.9257237911224365], [0.9257121086120605], [0.9257001876831055], [0.925682008266449], [0.9256804585456848], [0.9256750345230103], [0.9256515502929688], [0.9256371259689331], [0.9256315231323242], [0.925628662109375], [0.9256223440170288], [0.9256116151809692], [0.9255943894386292], [0.9255666732788086], [0.9255629777908325], [0.925561785697937], [0.9255543351173401], [0.9255519509315491], [0.9255505204200745], [0.9255492091178894], [0.9255366325378418], [0.9255301356315613], [0.9255278706550598], [0.9255226850509644], [0.925514817237854], [0.925507664680481], [0.9254946708679199], [0.9254829287528992], [0.9254697561264038], [0.9254668354988098], [0.9254596829414368], [0.9254459738731384], [0.9254329204559326], [0.925430953502655], [0.9254189133644104], [0.9254060983657837], [0.9254031181335449], [0.9253972172737122], [0.9253872632980347], [0.9253858327865601], [0.9253836274147034], [0.9253637194633484], [0.9253582954406738], [0.9253492951393127], [0.9253459572792053], [0.9253319501876831], [0.9253254532814026], [0.9253170490264893], [0.9253157377243042], [0.9253156185150146], [0.9253091216087341], [0.9252988696098328], [0.9252907037734985], [0.9252771735191345], [0.9252768754959106], [0.9252379536628723], [0.9252350926399231], [0.9252268671989441], [0.9252244830131531], [0.9252209067344666], [0.9252018332481384], [0.9251960515975952], [0.9251798987388611], [0.9251739978790283], [0.9251633882522583], [0.9251481890678406], [0.9251312017440796], [0.9251298308372498], [0.9251248836517334], [0.9251241087913513], [0.925112247467041], [0.9250640273094177], [0.9250547885894775], [0.9250543117523193], [0.9250532984733582], [0.9250518679618835], [0.9250378012657166], [0.9250169992446899], [0.9249842166900635], [0.9249763488769531], [0.92497318983078], [0.9249682426452637], [0.9249495267868042], [0.9249428510665894], [0.924938976764679], [0.9249129295349121], [0.924894392490387], [0.9248827695846558], [0.9248819351196289], [0.9248749017715454], [0.9248673319816589], [0.9248437881469727], [0.9248338937759399], [0.9248332977294922], [0.9248173236846924], [0.9247926473617554], [0.9247922301292419], [0.9247886538505554], [0.9247879385948181], [0.9247604012489319], [0.9247586727142334], [0.9247549176216125], [0.9247391223907471], [0.9247364401817322], [0.9247180223464966], [0.9247080087661743], [0.9246959686279297], [0.9246890544891357], [0.9246600866317749], [0.9246430993080139], [0.9246309399604797], [0.9246214628219604], [0.9246099591255188], [0.9245904088020325], [0.9245855212211609], [0.92457115650177], [0.9245691895484924], [0.9245558381080627], [0.924553632736206], [0.9245179295539856], [0.9245140552520752], [0.9244933724403381], [0.924489438533783], [0.9244887828826904], [0.9244870543479919], [0.9244865775108337], [0.9244828820228577], [0.9244784116744995], [0.9244715571403503], [0.9244582653045654], [0.9244477152824402], [0.9244431853294373], [0.9244200587272644], [0.9244185090065002], [0.9244132041931152], [0.9244077205657959], [0.9243930578231812], [0.9243484139442444], [0.9243423938751221], [0.9243409037590027], [0.9243393540382385], [0.9243203401565552], [0.9243124723434448], [0.9243123531341553], [0.9243081212043762], [0.9243074059486389], [0.9243048429489136], [0.9242515563964844], [0.9242249727249146], [0.924221932888031], [0.9241912961006165], [0.9241819977760315], [0.9241806268692017], [0.9241743087768555], [0.9241694808006287], [0.9241623878479004], [0.9241602420806885], [0.9241483211517334], [0.9241425395011902], [0.924118161201477], [0.9241136312484741], [0.9241117835044861], [0.9241031408309937], [0.9241014122962952], [0.9240989685058594], [0.924087643623352], [0.9240820407867432], [0.9240820407867432], [0.9240596294403076], [0.924057126045227], [0.9240477681159973], [0.9240291118621826], [0.9240275621414185], [0.9240267872810364], [0.9240174293518066], [0.924014151096344], [0.9240047931671143], [0.9239963293075562], [0.9239885807037354], [0.9239678382873535], [0.9239583611488342], [0.9239466786384583], [0.923945963382721], [0.9239454865455627], [0.9239376187324524], [0.9239271283149719], [0.923917293548584], [0.9238929748535156], [0.9238927364349365], [0.9238856434822083], [0.9238793253898621], [0.9238766431808472], [0.9238669872283936], [0.9238573312759399], [0.9238521456718445], [0.9238472580909729], [0.9238448143005371], [0.9238380193710327], [0.9238351583480835], [0.9238030910491943], [0.9237945675849915], [0.9237943887710571], [0.9237867593765259], [0.9237695336341858], [0.9237551689147949], [0.9237546920776367], [0.9237490892410278], [0.9237467646598816], [0.9237242937088013], [0.9237143993377686], [0.9237028360366821], [0.9236866235733032], [0.9236850142478943], [0.9236840009689331], [0.9236765503883362], [0.9236685633659363], [0.9236647486686707], [0.9236472845077515], [0.9236435890197754], [0.9236289858818054], [0.9236128330230713], [0.9236080050468445], [0.9236076474189758], [0.9235968589782715], [0.9235967397689819], [0.9235954284667969], [0.9235951900482178], [0.9235827326774597], [0.9235816597938538], [0.9235690832138062], [0.9235689043998718], [0.9235491752624512], [0.9235451817512512], [0.9235383868217468], [0.9235374331474304], [0.9235321879386902], [0.923507034778595], [0.9234964847564697], [0.9234864115715027], [0.9234760403633118], [0.9234620928764343], [0.9234557151794434], [0.9234523773193359], [0.9234492182731628], [0.9234474897384644], [0.9234371185302734], [0.9234258532524109], [0.9234140515327454], [0.9233607649803162], [0.923353374004364], [0.9233459234237671], [0.9233407378196716], [0.9233385920524597], [0.9233323335647583], [0.923326313495636], [0.9233213663101196], [0.9233179688453674], [0.9232906699180603], [0.9232869148254395], [0.9232742190361023], [0.9232447147369385], [0.9232379198074341], [0.9232373833656311], [0.923226535320282], [0.9232154488563538], [0.9232077598571777], [0.9231787919998169], [0.923171877861023], [0.9231712818145752], [0.9231659770011902], [0.9231438040733337], [0.9231404662132263], [0.9231300950050354], [0.9231265783309937], [0.9231249094009399], [0.9231117367744446], [0.9231064319610596], [0.9231005311012268], [0.9230884909629822], [0.9230822920799255], [0.9230745434761047], [0.9230713248252869], [0.923071026802063], [0.923065185546875], [0.923048734664917], [0.9230479598045349], [0.9230352640151978], [0.9230230450630188], [0.9230145215988159], [0.9230085611343384], [0.9230040907859802], [0.9229801893234253], [0.9229628443717957], [0.922961950302124], [0.9229543209075928], [0.9229533672332764], [0.9229475855827332], [0.9229466915130615], [0.9229381680488586], [0.9229264855384827], [0.9228982329368591], [0.9228895306587219], [0.9228869080543518], [0.9228857755661011], [0.9228689074516296], [0.9228574633598328], [0.9228469729423523], [0.9228457808494568], [0.9228438138961792], [0.9228384494781494], [0.92283695936203], [0.9228176474571228], [0.922813355922699], [0.9228044152259827], [0.922795832157135], [0.9227811694145203], [0.9227774143218994], [0.9227746725082397], [0.9227678775787354], [0.922757625579834], [0.922741711139679], [0.92274010181427], [0.9227330684661865], [0.9227277040481567], [0.9227019548416138], [0.9226990938186646], [0.922696053981781], [0.9226831793785095], [0.9226827621459961], [0.9226819276809692], [0.9226754307746887], [0.9226694703102112], [0.9226595759391785], [0.9226553440093994], [0.9226543307304382], [0.9226469397544861], [0.9226387143135071], [0.9226264357566833], [0.9225963950157166], [0.9225792288780212], [0.9225723147392273], [0.9225650429725647], [0.9225552082061768], [0.9225446581840515], [0.9225383400917053], [0.922529935836792], [0.922529399394989], [0.9225257635116577], [0.9225102663040161], [0.9225082993507385], [0.9224926829338074], [0.9224819540977478], [0.9224565625190735], [0.9224306344985962], [0.9224250316619873], [0.9224176406860352], [0.9224099516868591], [0.922404944896698], [0.9224005937576294], [0.9223898649215698], [0.9223849773406982], [0.9223603010177612], [0.9223602414131165], [0.9223591089248657], [0.9223561882972717], [0.922354519367218], [0.9223467111587524], [0.9223463535308838], [0.9223455190658569], [0.9223448038101196], [0.9223324656486511], [0.9223294258117676], [0.9223148822784424], [0.9223108291625977], [0.9223100543022156], [0.9223076701164246], [0.922303318977356], [0.922301709651947], [0.9222924113273621], [0.9222837686538696], [0.9222831726074219], [0.9222785830497742], [0.9222537279129028], [0.9222443103790283], [0.9222443103790283], [0.9222348928451538], [0.9222233295440674], [0.9222085475921631], [0.9222040772438049], [0.922198474407196], [0.9221947193145752], [0.9221838116645813], [0.9221833944320679], [0.9221800565719604], [0.9221535921096802], [0.9221430420875549], [0.9221348166465759], [0.9221224784851074], [0.9221162796020508], [0.9221152663230896], [0.9221042990684509], [0.9221035838127136], [0.9221012592315674], [0.9220815896987915], [0.9220792651176453], [0.922076940536499], [0.9220669269561768], [0.9220584034919739], [0.9220523238182068], [0.9220420718193054], [0.9220226407051086], [0.9220191836357117], [0.9220161437988281], [0.9220079183578491], [0.9219918251037598], [0.9219908118247986], [0.9219794869422913], [0.9219734072685242], [0.921968936920166], [0.9219614267349243], [0.9219555258750916], [0.9219487309455872], [0.9219473600387573], [0.9219471216201782], [0.9219425916671753], [0.9219330549240112], [0.9219240546226501], [0.9219180345535278], [0.9219061732292175], [0.9219004511833191], [0.9218927025794983], [0.9218782186508179], [0.9218741655349731], [0.9218729734420776], [0.9218677878379822], [0.9218530058860779], [0.9218515157699585], [0.9218382239341736], [0.9218358993530273], [0.921822190284729], [0.9218142032623291], [0.9218127727508545], [0.9217942357063293], [0.9217665195465088], [0.9217625856399536], [0.9217530488967896], [0.9217430353164673], [0.9217413663864136], [0.9217352271080017], [0.9217187762260437], [0.9217112064361572], [0.9217097163200378], [0.9217095971107483], [0.9216881990432739], [0.9216650128364563], [0.9216609597206116], [0.9216505289077759], [0.9216148853302002], [0.9216121435165405], [0.9216064214706421], [0.9215951561927795], [0.9215946793556213], [0.9215842485427856], [0.9215813875198364], [0.9215709567070007], [0.9215673208236694], [0.9215638637542725], [0.9215614199638367], [0.9215587377548218], [0.921556293964386], [0.92154860496521], [0.9215480089187622], [0.9215412735939026], [0.9215351343154907], [0.9215052723884583], [0.9214973449707031], [0.9214738607406616], [0.9214684367179871], [0.921468198299408], [0.9214597344398499], [0.9214594960212708], [0.9214510321617126], [0.9214314818382263], [0.9214224815368652], [0.9214140772819519], [0.9214130640029907], [0.9214074611663818], [0.9213982820510864], [0.9213846325874329], [0.9213836193084717], [0.9213820695877075], [0.9213645458221436], [0.9213641881942749], [0.9213590025901794], [0.9213523268699646], [0.9213398098945618], [0.9213317632675171], [0.9213294386863708], [0.9213272333145142], [0.9213133454322815], [0.9213067889213562], [0.9212985038757324], [0.9212935566902161], [0.9212899208068848], [0.9212661981582642], [0.9212523698806763], [0.9212519526481628], [0.921248733997345], [0.9212483167648315], [0.9212462902069092], [0.9212323427200317], [0.9212228059768677], [0.9212203025817871], [0.9212186932563782], [0.9212140440940857], [0.9212093353271484], [0.9211992621421814], [0.9211922883987427], [0.9211823344230652], [0.9211822748184204], [0.9211788177490234], [0.9211649298667908], [0.9211373329162598], [0.9211316704750061], [0.921130359172821], [0.9211289286613464], [0.9211212396621704], [0.9211019277572632], [0.9211008548736572], [0.9210984110832214], [0.9210949540138245], [0.9210948348045349], [0.921088695526123], [0.921081006526947], [0.9210774898529053], [0.921076238155365], [0.9210739135742188], [0.9210616946220398], [0.9210554361343384], [0.9210158586502075], [0.9210094809532166], [0.9209959506988525], [0.9209738373756409], [0.9209662079811096], [0.9209551811218262], [0.9209387302398682], [0.9209339022636414], [0.9209328889846802], [0.9209244847297668], [0.9209079742431641], [0.9209040403366089], [0.920900821685791], [0.9208652377128601], [0.9208642244338989], [0.920863687992096], [0.9208636283874512], [0.9208471179008484], [0.9208160042762756], [0.9208027720451355], [0.9207931756973267], [0.9207803010940552], [0.9207680225372314], [0.9207573533058167], [0.9207381010055542], [0.9207227230072021], [0.920701801776886], [0.9206991791725159], [0.9206984639167786], [0.9206917881965637], [0.9206884503364563], [0.9206873774528503], [0.920671284198761], [0.9206589460372925], [0.9206472039222717], [0.9206387400627136], [0.9206310510635376], [0.9206291437149048], [0.9206255078315735], [0.9206106662750244], [0.9206007719039917], [0.9205918908119202], [0.9205888509750366], [0.9205805659294128], [0.9205741882324219], [0.920566201210022], [0.920556902885437], [0.9205558896064758], [0.9205230474472046], [0.9205212593078613], [0.9205121397972107], [0.9205012321472168], [0.9204985499382019], [0.9204965829849243], [0.9204901456832886], [0.9204802513122559], [0.9204767942428589], [0.9204736948013306], [0.9204508662223816], [0.9204392433166504], [0.9204251170158386], [0.9204103350639343], [0.9204077124595642], [0.9203941226005554], [0.9203928112983704], [0.9203850030899048], [0.9203589558601379], [0.9203576445579529], [0.9203561544418335], [0.9203469157218933], [0.920327365398407], [0.9203267693519592], [0.9203265309333801], [0.9203189611434937], [0.9203174710273743], [0.9203082919120789], [0.9202848672866821], [0.9202645421028137], [0.9202604293823242], [0.9202471971511841], [0.9202311635017395], [0.9202280044555664], [0.9202135801315308], [0.9202064871788025], [0.9201945066452026], [0.9201838970184326], [0.9201827049255371], [0.9201824069023132], [0.9201728105545044], [0.9201699495315552], [0.9201668500900269], [0.9201623797416687], [0.9201613664627075], [0.9201582670211792], [0.9201515913009644], [0.9201475381851196], [0.920136034488678], [0.9201309084892273], [0.9201175570487976], [0.9201132655143738], [0.9200662970542908], [0.9200607538223267], [0.9200528860092163], [0.920050859451294], [0.9200477600097656], [0.9200406074523926], [0.9200322031974792], [0.920021116733551], [0.9200100898742676], [0.9200067520141602], [0.9200000166893005], [0.919995903968811], [0.9199886322021484], [0.919988214969635], [0.9199825525283813], [0.9199736714363098], [0.9199705719947815], [0.9199578166007996], [0.9199545383453369], [0.9199459552764893], [0.9199444055557251], [0.9199343323707581], [0.919933021068573], [0.9199280738830566], [0.9199249744415283], [0.9199181199073792], [0.919910728931427], [0.9199091196060181], [0.9198910593986511], [0.9198805689811707], [0.919874906539917], [0.9198650121688843], [0.9198616147041321], [0.9198284149169922], [0.9198107719421387], [0.9198099374771118], [0.9198020100593567], [0.9197865724563599], [0.919772744178772], [0.9197515845298767], [0.9197447299957275], [0.9197393655776978], [0.9197363257408142], [0.9197256565093994], [0.9197186827659607], [0.9197167754173279], [0.9197129607200623], [0.9197080135345459], [0.9197075963020325], [0.919696033000946], [0.9196922779083252], [0.9196794629096985], [0.9196562767028809], [0.9196537733078003], [0.9196527600288391], [0.9196463823318481], [0.9196259379386902], [0.91961270570755], [0.9196094274520874], [0.9196068644523621], [0.919604480266571], [0.9195807576179504], [0.9195740222930908], [0.9195694923400879], [0.9195659756660461], [0.9195235371589661], [0.9195210933685303], [0.9195010662078857], [0.9194936752319336], [0.9194596409797668], [0.9194592237472534], [0.9194591045379639], [0.9194465279579163], [0.9194300770759583], [0.9194283485412598], [0.9194208383560181], [0.919400691986084], [0.9193849563598633], [0.9193819165229797], [0.9193782806396484], [0.9193775057792664], [0.9193745851516724], [0.9193682074546814], [0.9193676114082336], [0.9193581342697144], [0.91934734582901], [0.9193443655967712], [0.9193346500396729], [0.919322669506073], [0.9193025231361389], [0.9192756414413452], [0.9192662835121155], [0.9192636609077454], [0.9192619323730469], [0.9192489385604858], [0.9192329049110413], [0.9192245602607727], [0.9192235469818115], [0.919192910194397], [0.9191677570343018], [0.9191451072692871], [0.9191442728042603], [0.9191438555717468], [0.9191409349441528], [0.9191372394561768], [0.919136106967926], [0.9190858602523804], [0.9190794229507446], [0.9190763235092163], [0.9190762042999268], [0.9190748929977417], [0.9190629124641418], [0.919039249420166], [0.9190265536308289], [0.919008731842041], [0.9190066456794739], [0.9189953804016113], [0.9189819693565369], [0.9189776182174683], [0.9189537763595581], [0.9189417958259583], [0.918937087059021], [0.9189354777336121], [0.9189245700836182], [0.9189071655273438], [0.9189013242721558], [0.9188750386238098], [0.9188541173934937], [0.9188527464866638], [0.9188504815101624], [0.9188466668128967], [0.9188328981399536], [0.9188245534896851], [0.9188162088394165], [0.9188039302825928], [0.918799102306366], [0.9187843799591064], [0.9187837839126587], [0.918778657913208], [0.9187765121459961], [0.9187557101249695], [0.9187530875205994], [0.9187432527542114], [0.9187417030334473], [0.9187384843826294], [0.9187277555465698], [0.9187238216400146], [0.9186843633651733], [0.9186533689498901], [0.918642520904541], [0.9186289310455322], [0.9186273217201233], [0.9186176657676697], [0.9186153411865234], [0.9186106324195862], [0.918602705001831], [0.9186007380485535], [0.9185943007469177], [0.9185863733291626], [0.9185795187950134], [0.9185757040977478], [0.9185723066329956], [0.9185588359832764], [0.9185454249382019], [0.918533980846405], [0.9184927344322205], [0.9184843897819519], [0.9184796810150146], [0.918475329875946], [0.9184734225273132], [0.9184732437133789], [0.9184725284576416], [0.918428897857666], [0.9184110760688782], [0.918398916721344], [0.9183974266052246], [0.9183958768844604], [0.9183884859085083], [0.9183713793754578], [0.9183695912361145], [0.9183682799339294], [0.9183630347251892], [0.9183474183082581], [0.9183472394943237], [0.9183425903320312], [0.9183362126350403], [0.9183289408683777], [0.9183228015899658], [0.9182844161987305], [0.9182760715484619], [0.918221116065979], [0.9182158708572388], [0.9182073473930359], [0.9181994795799255], [0.9181939363479614], [0.918179988861084], [0.9181444048881531], [0.9181432723999023], [0.918126106262207], [0.9181186556816101], [0.9181177020072937], [0.9181059002876282], [0.9181010127067566], [0.9180970788002014], [0.9180648326873779], [0.9180601835250854], [0.9180411100387573], [0.9180400967597961], [0.918035089969635], [0.9180349707603455], [0.9180336594581604], [0.9180278778076172], [0.9180278778076172], [0.9180111885070801], [0.9180081486701965], [0.918005645275116], [0.9180049300193787], [0.9180024266242981], [0.9180008172988892], [0.9179914593696594], [0.9179898500442505], [0.9179688692092896], [0.9179664850234985], [0.917963445186615], [0.9179409742355347], [0.9179380536079407], [0.9179344177246094], [0.91793292760849], [0.9179320931434631], [0.9179257154464722], [0.9179209470748901], [0.9178975820541382], [0.9178906083106995], [0.9178857207298279], [0.917874276638031], [0.9178741574287415], [0.9178707599639893], [0.9178697466850281], [0.9178480505943298], [0.9178264737129211], [0.917818546295166], [0.9178153276443481], [0.9178071618080139], [0.9177870154380798], [0.9177807569503784], [0.9177797436714172], [0.9177691340446472], [0.9177685379981995], [0.9177657961845398], [0.9177384972572327], [0.9176899790763855], [0.917676568031311], [0.9176743626594543], [0.9176651835441589], [0.9176616668701172], [0.9176613092422485], [0.9176580905914307], [0.9176486730575562], [0.9176445007324219], [0.9176396131515503], [0.9176324605941772], [0.9175904393196106], [0.9175879955291748], [0.9175669550895691], [0.9175448417663574], [0.9175358414649963], [0.91752028465271], [0.917507529258728], [0.917500913143158], [0.9174894690513611], [0.9174834489822388], [0.9174789190292358], [0.9174737930297852], [0.9174715280532837], [0.917449951171875], [0.9174425005912781], [0.9174325466156006], [0.9174244403839111], [0.917416512966156], [0.9174147844314575], [0.9174107909202576], [0.917386531829834], [0.9173672795295715], [0.9173632264137268], [0.9173625111579895], [0.9173548221588135], [0.9173542261123657], [0.9173474907875061], [0.9173373579978943], [0.917324423789978], [0.9173237085342407], [0.9173166155815125], [0.9173030257225037], [0.9172949194908142], [0.9172840118408203], [0.9172785878181458], [0.9172776937484741], [0.9172741770744324], [0.9172600507736206], [0.9172400832176208], [0.9172199964523315], [0.9172194004058838], [0.9172033667564392], [0.9171993732452393], [0.9171973466873169], [0.9171959161758423], [0.9171916246414185], [0.9171832799911499], [0.9171767830848694], [0.9171594381332397], [0.9171541333198547], [0.9171375036239624], [0.9171289801597595], [0.9171116948127747], [0.9171075820922852], [0.9171072840690613], [0.917102575302124], [0.9170954823493958], [0.9170887470245361], [0.9170862436294556], [0.9170783162117004], [0.9170722961425781], [0.9170571565628052], [0.9170569777488708], [0.9170418977737427], [0.9170233607292175], [0.9170147776603699], [0.9169927835464478], [0.9169820547103882], [0.9169771671295166], [0.9169721603393555], [0.916958749294281], [0.9169461727142334], [0.9169420003890991], [0.9169304370880127], [0.9169291853904724], [0.9169230461120605], [0.916915237903595], [0.9169146418571472], [0.9169028997421265], [0.916884183883667], [0.9168751239776611], [0.9168747663497925], [0.9168693423271179], [0.9168282151222229], [0.9168254137039185], [0.9168154001235962], [0.9167628288269043], [0.9167528748512268], [0.9167340397834778], [0.9167152047157288], [0.9166960716247559], [0.9166890978813171], [0.9166817665100098], [0.9166689515113831], [0.9165962338447571], [0.9165828227996826], [0.9165453314781189], [0.9165430665016174], [0.9165404438972473], [0.9165293574333191], [0.9165151119232178], [0.9164974689483643], [0.9164891839027405], [0.9164856672286987], [0.9164602160453796], [0.9164445996284485], [0.9164373874664307], [0.9164292216300964], [0.9164139628410339], [0.9164122939109802], [0.9164069890975952], [0.9164062738418579], [0.9164004921913147], [0.916398286819458], [0.9163865447044373], [0.9163845777511597], [0.9163771271705627], [0.9163718223571777], [0.9163147807121277], [0.9162823557853699], [0.9162793755531311], [0.9162705540657043], [0.9162590503692627], [0.9162564277648926], [0.9162466526031494], [0.9162428379058838], [0.9162378311157227], [0.9162102937698364], [0.9162014126777649], [0.916183352470398], [0.9161771535873413], [0.9161567687988281], [0.9161474704742432], [0.9161408543586731], [0.9161140322685242], [0.9161097407341003], [0.9160866141319275], [0.9160864353179932], [0.9160834550857544], [0.9160735011100769], [0.916059136390686], [0.9160532355308533], [0.9160512089729309], [0.9160459041595459], [0.9160181879997253], [0.9160144329071045], [0.9160028100013733], [0.9159948229789734], [0.9159759879112244], [0.9159713983535767], [0.9159623980522156], [0.9159569144248962], [0.9159516096115112], [0.9159516096115112], [0.9159502983093262], [0.9159401655197144], [0.9159361124038696], [0.9159175157546997], [0.9158785939216614], [0.915876567363739], [0.9158710837364197], [0.9158610105514526], [0.9158536791801453], [0.9158437848091125], [0.915821373462677], [0.9158014059066772], [0.9158008694648743], [0.9157972931861877], [0.9157928824424744], [0.9157925248146057], [0.9157918691635132], [0.9157817959785461], [0.9157677292823792], [0.9157497882843018], [0.9157209992408752], [0.9157170057296753], [0.9157158136367798], [0.915715217590332], [0.9157137274742126], [0.9157039523124695], [0.9157004356384277], [0.9156785607337952], [0.9156725406646729], [0.9156717658042908], [0.9156668186187744], [0.9156530499458313], [0.9156311750411987], [0.9156282544136047], [0.9155951738357544], [0.9155855774879456], [0.9155769944190979], [0.9155665040016174], [0.9155473113059998], [0.9155411124229431], [0.9155164361000061], [0.9155133366584778], [0.915511965751648], [0.9155088663101196], [0.9154972434043884], [0.9154654741287231], [0.9154477119445801], [0.9154326319694519], [0.9154141545295715], [0.9154011607170105], [0.9153968691825867], [0.9153852462768555], [0.9153753519058228], [0.9153627157211304], [0.9153470396995544], [0.9153388142585754], [0.9153343439102173], [0.9153287410736084], [0.9153164625167847], [0.9153087735176086], [0.9153066873550415], [0.9153017401695251], [0.915299654006958], [0.9152889847755432], [0.9152752161026001], [0.915260910987854], [0.9152601361274719], [0.9152543544769287], [0.9152507185935974], [0.9152383804321289], [0.9152114987373352], [0.9152073860168457], [0.9151937365531921], [0.9151771664619446], [0.9151430130004883], [0.9151365160942078], [0.9151298403739929], [0.9151120781898499], [0.9150989651679993], [0.9150980710983276], [0.9150668382644653], [0.9150552749633789], [0.9150537848472595], [0.9150518774986267], [0.9150478839874268], [0.915037989616394], [0.9150316715240479], [0.9150304198265076], [0.9150300025939941], [0.9150243401527405], [0.915017306804657], [0.9150169491767883], [0.9150104522705078], [0.9149987697601318], [0.9149906635284424], [0.9149897694587708], [0.9149618148803711], [0.9149351119995117], [0.914932906627655], [0.9149277806282043], [0.914921224117279], [0.9149063229560852], [0.914881706237793], [0.9148806929588318], [0.9148726463317871], [0.9148613810539246], [0.9148534536361694], [0.9148531556129456], [0.9148504734039307], [0.9148408770561218], [0.9148353934288025], [0.9148229360580444], [0.9148213267326355], [0.9148212671279907], [0.9148128628730774], [0.9148097634315491], [0.9148085713386536], [0.914798378944397], [0.9147952795028687], [0.9147824645042419], [0.9147732853889465], [0.9147704839706421], [0.9147672653198242], [0.9147579669952393], [0.9147561192512512], [0.9147279858589172], [0.9147182106971741], [0.9147000312805176], [0.9146900773048401], [0.9146898984909058], [0.9146880507469177], [0.9146773815155029], [0.91466224193573], [0.9146615266799927], [0.9146522879600525], [0.914645791053772], [0.9146441221237183], [0.9146175384521484], [0.9146081209182739], [0.9146006107330322], [0.9145810604095459], [0.9145788550376892], [0.9145724773406982], [0.9145662188529968], [0.9145622253417969], [0.914552628993988], [0.9145509600639343], [0.9145334959030151], [0.9145199656486511], [0.9145191311836243], [0.9145129919052124], [0.9144939184188843], [0.9144694209098816], [0.9144492745399475], [0.9144473671913147], [0.9144174456596375], [0.9144159555435181], [0.9143968224525452], [0.914381206035614], [0.9143809080123901], [0.9143627285957336], [0.9143575429916382], [0.9143475294113159], [0.9143400192260742], [0.9143324494361877], [0.9143284559249878], [0.914324164390564], [0.9143195748329163], [0.9143124222755432], [0.9142931699752808], [0.9142709374427795], [0.9142706394195557], [0.9142670035362244], [0.9142548441886902], [0.9142486453056335], [0.9142477512359619], [0.9142447710037231], [0.9142320156097412], [0.9142293334007263], [0.9142287373542786], [0.9142235517501831], [0.9142159819602966], [0.9142017960548401], [0.914175808429718], [0.9141669273376465], [0.9141649603843689], [0.9141619801521301], [0.9141358733177185], [0.9141345620155334], [0.9141224026679993], [0.9141047596931458], [0.9140980839729309], [0.9140800833702087], [0.914077877998352], [0.9140713214874268], [0.9140703082084656], [0.914064347743988], [0.914063572883606], [0.9140534996986389], [0.914035439491272], [0.9140214920043945], [0.9140101671218872], [0.9140034914016724], [0.9139983057975769], [0.9139926433563232], [0.9139788150787354], [0.9139724373817444], [0.9139713048934937], [0.9139639735221863], [0.9139606952667236], [0.9139564037322998], [0.9139564037322998], [0.9139556884765625], [0.9139447212219238], [0.9139362573623657], [0.9139176607131958], [0.9139088988304138], [0.9139032363891602], [0.9138931632041931], [0.9138861894607544], [0.9138693809509277], [0.9138674736022949], [0.9138662815093994], [0.9138606190681458], [0.9138544201850891], [0.913851261138916], [0.9138451814651489], [0.9138371348381042], [0.9137837290763855], [0.9137833714485168], [0.9137732982635498], [0.9137706160545349], [0.9137681126594543], [0.9137606620788574], [0.9137579798698425], [0.9137502312660217], [0.9137479066848755], [0.9137469530105591], [0.9137355089187622], [0.9137346744537354], [0.9137293100357056], [0.9137238264083862], [0.9137206673622131], [0.9137150049209595], [0.9137029647827148], [0.9136988520622253], [0.9136924743652344], [0.913686990737915], [0.913661539554596], [0.9136601686477661], [0.9136561751365662], [0.9136428236961365], [0.913620114326477], [0.9136172533035278], [0.9136137962341309], [0.913612961769104], [0.9136031270027161], [0.913593053817749], [0.9135841131210327], [0.9135837554931641], [0.9135742783546448], [0.9135721921920776], [0.9135646224021912], [0.9135644435882568], [0.9135441184043884], [0.9135353565216064], [0.9135316014289856], [0.913520336151123], [0.9135156869888306], [0.9135144948959351], [0.9135144948959351], [0.9135088920593262], [0.9135035276412964], [0.9134950637817383], [0.9134768843650818], [0.9134706854820251], [0.9134618639945984], [0.9134556651115417], [0.913450300693512], [0.913443386554718], [0.9134427905082703], [0.9134352207183838], [0.9134343862533569], [0.9134278297424316], [0.9134132266044617], [0.9134052395820618], [0.9133939146995544], [0.9133592247962952], [0.9133269190788269], [0.913303554058075], [0.9133014678955078], [0.9132999777793884], [0.913294792175293], [0.9132869243621826], [0.913277268409729], [0.9132726192474365], [0.913256824016571], [0.9132552146911621], [0.913246750831604], [0.9132260680198669], [0.9132131338119507], [0.9132117629051208], [0.9132071137428284], [0.9132052063941956], [0.9131927490234375], [0.9131922721862793], [0.9131914973258972], [0.9131703972816467], [0.9131549000740051], [0.9131543040275574], [0.9131466746330261], [0.9131423830986023], [0.9131255745887756], [0.9131224155426025], [0.9131188988685608], [0.9131171107292175], [0.9131161570549011], [0.9131161570549011], [0.9131123423576355], [0.9131011366844177], [0.9130955338478088], [0.9130951762199402], [0.9130843281745911], [0.9130836129188538], [0.9130809307098389], [0.9130765795707703], [0.9130612015724182], [0.9130597114562988], [0.9130581617355347], [0.9130375981330872], [0.9130324721336365], [0.913030743598938], [0.9130278825759888], [0.9130182266235352], [0.9130148887634277], [0.9130122661590576], [0.9130094051361084], [0.9130050539970398], [0.9129969477653503], [0.9129874110221863], [0.9129745960235596], [0.9129587411880493], [0.9129536747932434], [0.9129492044448853], [0.9129356741905212], [0.9129179120063782], [0.9129140973091125], [0.9129040837287903], [0.9129030108451843], [0.9128860235214233], [0.9128701090812683], [0.9128696918487549], [0.9128549098968506], [0.9128473401069641], [0.9128438830375671], [0.9128262996673584], [0.9128192663192749], [0.9128191471099854], [0.9128151535987854], [0.9127750396728516], [0.9127655029296875], [0.9127504229545593], [0.9127436280250549], [0.9127187132835388], [0.9127064347267151], [0.9126918911933899], [0.9126676917076111], [0.9126586318016052], [0.9126490950584412], [0.9126390814781189], [0.9126346111297607], [0.9126059412956238], [0.9125987887382507], [0.9125980138778687], [0.9125932455062866], [0.9125743508338928], [0.9125728607177734], [0.912569522857666], [0.9125361442565918], [0.9125230312347412], [0.912520170211792], [0.9125198721885681], [0.9125197529792786], [0.9125015735626221], [0.9124929308891296], [0.9124894738197327], [0.9124869108200073], [0.9124793410301208], [0.9124711155891418], [0.9124705195426941], [0.9124439358711243], [0.9124273657798767], [0.9124251008033752], [0.9124227166175842], [0.9124220013618469], [0.9124194383621216], [0.9124033451080322], [0.9123833775520325], [0.9123806953430176], [0.9123796224594116], [0.9123734831809998], [0.9123629331588745], [0.9123433828353882], [0.9123397469520569], [0.9123372435569763], [0.912328839302063], [0.9123231768608093])\n"
          ]
        }
      ],
      "source": [
        "probs.sort(reverse=True)\n",
        "\n",
        "highest_probs = probs[:10000]  # top 10,000\n",
        "\n",
        "with open(constants.SOLUTION_FILE, \"w\") as f:\n",
        "    for pair in highest_probs:\n",
        "        f.write(pair[1])\n",
        "        # f.write(\"a\")\n",
        "        f.write(\"\\n\")\n",
        "\n",
        "print(list(zip(*probs[:10000]))[0])  # probs only"
      ]
    },
    {
      "cell_type": "code",
      "source": [
        "# zip_file_name = \"predictions.zip\"\n",
        "# !zip $zip_file_name $constants.SOLUTION_FILE\n"
      ],
      "metadata": {
        "colab": {
          "base_uri": "https://localhost:8080/"
        },
        "id": "svW_tShqO9tN",
        "outputId": "27759e86-acbe-4a37-ea62-4cf3af5124e6"
      },
      "execution_count": 24,
      "outputs": [
        {
          "output_type": "stream",
          "name": "stdout",
          "text": [
            "  adding: predictions.csv (deflated 65%)\n"
          ]
        }
      ]
    },
    {
      "cell_type": "code",
      "execution_count": 25,
      "metadata": {
        "colab": {
          "base_uri": "https://localhost:8080/",
          "height": 17
        },
        "id": "wbEhngYS9Rm9",
        "outputId": "7647687c-d223-4e89-ce80-d2debbc2776a"
      },
      "outputs": [
        {
          "output_type": "display_data",
          "data": {
            "text/plain": [
              "<IPython.core.display.Javascript object>"
            ],
            "application/javascript": [
              "\n",
              "    async function download(id, filename, size) {\n",
              "      if (!google.colab.kernel.accessAllowed) {\n",
              "        return;\n",
              "      }\n",
              "      const div = document.createElement('div');\n",
              "      const label = document.createElement('label');\n",
              "      label.textContent = `Downloading \"${filename}\": `;\n",
              "      div.appendChild(label);\n",
              "      const progress = document.createElement('progress');\n",
              "      progress.max = size;\n",
              "      div.appendChild(progress);\n",
              "      document.body.appendChild(div);\n",
              "\n",
              "      const buffers = [];\n",
              "      let downloaded = 0;\n",
              "\n",
              "      const channel = await google.colab.kernel.comms.open(id);\n",
              "      // Send a message to notify the kernel that we're ready.\n",
              "      channel.send({})\n",
              "\n",
              "      for await (const message of channel.messages) {\n",
              "        // Send a message to notify the kernel that we're ready.\n",
              "        channel.send({})\n",
              "        if (message.buffers) {\n",
              "          for (const buffer of message.buffers) {\n",
              "            buffers.push(buffer);\n",
              "            downloaded += buffer.byteLength;\n",
              "            progress.value = downloaded;\n",
              "          }\n",
              "        }\n",
              "      }\n",
              "      const blob = new Blob(buffers, {type: 'application/binary'});\n",
              "      const a = document.createElement('a');\n",
              "      a.href = window.URL.createObjectURL(blob);\n",
              "      a.download = filename;\n",
              "      div.appendChild(a);\n",
              "      a.click();\n",
              "      div.remove();\n",
              "    }\n",
              "  "
            ]
          },
          "metadata": {}
        },
        {
          "output_type": "display_data",
          "data": {
            "text/plain": [
              "<IPython.core.display.Javascript object>"
            ],
            "application/javascript": [
              "download(\"download_b74d9a75-1ec7-403e-bb2a-13db13f4c99b\", \"12-10-05-30-17-CNNModel-model-10-epochs.pt\", 1714488)"
            ]
          },
          "metadata": {}
        },
        {
          "output_type": "display_data",
          "data": {
            "text/plain": [
              "<IPython.core.display.Javascript object>"
            ],
            "application/javascript": [
              "\n",
              "    async function download(id, filename, size) {\n",
              "      if (!google.colab.kernel.accessAllowed) {\n",
              "        return;\n",
              "      }\n",
              "      const div = document.createElement('div');\n",
              "      const label = document.createElement('label');\n",
              "      label.textContent = `Downloading \"${filename}\": `;\n",
              "      div.appendChild(label);\n",
              "      const progress = document.createElement('progress');\n",
              "      progress.max = size;\n",
              "      div.appendChild(progress);\n",
              "      document.body.appendChild(div);\n",
              "\n",
              "      const buffers = [];\n",
              "      let downloaded = 0;\n",
              "\n",
              "      const channel = await google.colab.kernel.comms.open(id);\n",
              "      // Send a message to notify the kernel that we're ready.\n",
              "      channel.send({})\n",
              "\n",
              "      for await (const message of channel.messages) {\n",
              "        // Send a message to notify the kernel that we're ready.\n",
              "        channel.send({})\n",
              "        if (message.buffers) {\n",
              "          for (const buffer of message.buffers) {\n",
              "            buffers.push(buffer);\n",
              "            downloaded += buffer.byteLength;\n",
              "            progress.value = downloaded;\n",
              "          }\n",
              "        }\n",
              "      }\n",
              "      const blob = new Blob(buffers, {type: 'application/binary'});\n",
              "      const a = document.createElement('a');\n",
              "      a.href = window.URL.createObjectURL(blob);\n",
              "      a.download = filename;\n",
              "      div.appendChild(a);\n",
              "      a.click();\n",
              "      div.remove();\n",
              "    }\n",
              "  "
            ]
          },
          "metadata": {}
        },
        {
          "output_type": "display_data",
          "data": {
            "text/plain": [
              "<IPython.core.display.Javascript object>"
            ],
            "application/javascript": [
              "download(\"download_278d660e-e94b-4bde-aa68-faa3f8533fd0\", \"predictions.csv\", 95824)"
            ]
          },
          "metadata": {}
        }
      ],
      "source": [
        "# ONLY for use on google colab. download files\n",
        "from google.colab import files\n",
        "import os\n",
        "dir = 'pretrained'\n",
        "model_file = os.path.join(dir, os.listdir(dir)[0])\n",
        "files.download(model_file)"
      ]
    },
    {
      "cell_type": "code",
      "source": [
        "files.download(constants.SOLUTION_FILE)"
      ],
      "metadata": {
        "id": "-n5ZovGlABTe"
      },
      "execution_count": null,
      "outputs": []
    }
  ],
  "metadata": {
    "kernelspec": {
      "display_name": "Python 3",
      "name": "python3"
    },
    "language_info": {
      "codemirror_mode": {
        "name": "ipython",
        "version": 3
      },
      "file_extension": ".py",
      "mimetype": "text/x-python",
      "name": "python",
      "nbconvert_exporter": "python",
      "pygments_lexer": "ipython3",
      "version": "3.11.5"
    },
    "colab": {
      "provenance": [],
      "gpuType": "T4"
    },
    "accelerator": "GPU",
    "widgets": {
      "application/vnd.jupyter.widget-state+json": {
        "b0cbfcd17871455ea0d64845aca0bd29": {
          "model_module": "@jupyter-widgets/controls",
          "model_name": "HBoxModel",
          "model_module_version": "1.5.0",
          "state": {
            "_dom_classes": [],
            "_model_module": "@jupyter-widgets/controls",
            "_model_module_version": "1.5.0",
            "_model_name": "HBoxModel",
            "_view_count": null,
            "_view_module": "@jupyter-widgets/controls",
            "_view_module_version": "1.5.0",
            "_view_name": "HBoxView",
            "box_style": "",
            "children": [
              "IPY_MODEL_2a55d753a342483f97f1b682530a6759",
              "IPY_MODEL_bf7c86bffde34054ac2a8e08184c926c",
              "IPY_MODEL_b39519453d4841a69ae24cff22e02022"
            ],
            "layout": "IPY_MODEL_5809956bb39a4b3c802337bd23c07989"
          }
        },
        "2a55d753a342483f97f1b682530a6759": {
          "model_module": "@jupyter-widgets/controls",
          "model_name": "HTMLModel",
          "model_module_version": "1.5.0",
          "state": {
            "_dom_classes": [],
            "_model_module": "@jupyter-widgets/controls",
            "_model_module_version": "1.5.0",
            "_model_name": "HTMLModel",
            "_view_count": null,
            "_view_module": "@jupyter-widgets/controls",
            "_view_module_version": "1.5.0",
            "_view_name": "HTMLView",
            "description": "",
            "description_tooltip": null,
            "layout": "IPY_MODEL_ffd82ebea7ff47549edc58ee0fd63c35",
            "placeholder": "​",
            "style": "IPY_MODEL_acf8661739bb468bab5caaeb44d4b59f",
            "value": "100%"
          }
        },
        "bf7c86bffde34054ac2a8e08184c926c": {
          "model_module": "@jupyter-widgets/controls",
          "model_name": "FloatProgressModel",
          "model_module_version": "1.5.0",
          "state": {
            "_dom_classes": [],
            "_model_module": "@jupyter-widgets/controls",
            "_model_module_version": "1.5.0",
            "_model_name": "FloatProgressModel",
            "_view_count": null,
            "_view_module": "@jupyter-widgets/controls",
            "_view_module_version": "1.5.0",
            "_view_name": "ProgressView",
            "bar_style": "success",
            "description": "",
            "description_tooltip": null,
            "layout": "IPY_MODEL_0ff71d7aca6343b4b3b4b8c6ff3d16ad",
            "max": 142,
            "min": 0,
            "orientation": "horizontal",
            "style": "IPY_MODEL_97a986c98c3b4cc588693ee0b9034889",
            "value": 142
          }
        },
        "b39519453d4841a69ae24cff22e02022": {
          "model_module": "@jupyter-widgets/controls",
          "model_name": "HTMLModel",
          "model_module_version": "1.5.0",
          "state": {
            "_dom_classes": [],
            "_model_module": "@jupyter-widgets/controls",
            "_model_module_version": "1.5.0",
            "_model_name": "HTMLModel",
            "_view_count": null,
            "_view_module": "@jupyter-widgets/controls",
            "_view_module_version": "1.5.0",
            "_view_name": "HTMLView",
            "description": "",
            "description_tooltip": null,
            "layout": "IPY_MODEL_ff4373cdd9ea468ea07b2aa86664e4dc",
            "placeholder": "​",
            "style": "IPY_MODEL_7e8b71788631427eb5a5dc62fb007e99",
            "value": " 142/142 [00:00&lt;00:00, 479.75it/s]"
          }
        },
        "5809956bb39a4b3c802337bd23c07989": {
          "model_module": "@jupyter-widgets/base",
          "model_name": "LayoutModel",
          "model_module_version": "1.2.0",
          "state": {
            "_model_module": "@jupyter-widgets/base",
            "_model_module_version": "1.2.0",
            "_model_name": "LayoutModel",
            "_view_count": null,
            "_view_module": "@jupyter-widgets/base",
            "_view_module_version": "1.2.0",
            "_view_name": "LayoutView",
            "align_content": null,
            "align_items": null,
            "align_self": null,
            "border": null,
            "bottom": null,
            "display": null,
            "flex": null,
            "flex_flow": null,
            "grid_area": null,
            "grid_auto_columns": null,
            "grid_auto_flow": null,
            "grid_auto_rows": null,
            "grid_column": null,
            "grid_gap": null,
            "grid_row": null,
            "grid_template_areas": null,
            "grid_template_columns": null,
            "grid_template_rows": null,
            "height": null,
            "justify_content": null,
            "justify_items": null,
            "left": null,
            "margin": null,
            "max_height": null,
            "max_width": null,
            "min_height": null,
            "min_width": null,
            "object_fit": null,
            "object_position": null,
            "order": null,
            "overflow": null,
            "overflow_x": null,
            "overflow_y": null,
            "padding": null,
            "right": null,
            "top": null,
            "visibility": null,
            "width": null
          }
        },
        "ffd82ebea7ff47549edc58ee0fd63c35": {
          "model_module": "@jupyter-widgets/base",
          "model_name": "LayoutModel",
          "model_module_version": "1.2.0",
          "state": {
            "_model_module": "@jupyter-widgets/base",
            "_model_module_version": "1.2.0",
            "_model_name": "LayoutModel",
            "_view_count": null,
            "_view_module": "@jupyter-widgets/base",
            "_view_module_version": "1.2.0",
            "_view_name": "LayoutView",
            "align_content": null,
            "align_items": null,
            "align_self": null,
            "border": null,
            "bottom": null,
            "display": null,
            "flex": null,
            "flex_flow": null,
            "grid_area": null,
            "grid_auto_columns": null,
            "grid_auto_flow": null,
            "grid_auto_rows": null,
            "grid_column": null,
            "grid_gap": null,
            "grid_row": null,
            "grid_template_areas": null,
            "grid_template_columns": null,
            "grid_template_rows": null,
            "height": null,
            "justify_content": null,
            "justify_items": null,
            "left": null,
            "margin": null,
            "max_height": null,
            "max_width": null,
            "min_height": null,
            "min_width": null,
            "object_fit": null,
            "object_position": null,
            "order": null,
            "overflow": null,
            "overflow_x": null,
            "overflow_y": null,
            "padding": null,
            "right": null,
            "top": null,
            "visibility": null,
            "width": null
          }
        },
        "acf8661739bb468bab5caaeb44d4b59f": {
          "model_module": "@jupyter-widgets/controls",
          "model_name": "DescriptionStyleModel",
          "model_module_version": "1.5.0",
          "state": {
            "_model_module": "@jupyter-widgets/controls",
            "_model_module_version": "1.5.0",
            "_model_name": "DescriptionStyleModel",
            "_view_count": null,
            "_view_module": "@jupyter-widgets/base",
            "_view_module_version": "1.2.0",
            "_view_name": "StyleView",
            "description_width": ""
          }
        },
        "0ff71d7aca6343b4b3b4b8c6ff3d16ad": {
          "model_module": "@jupyter-widgets/base",
          "model_name": "LayoutModel",
          "model_module_version": "1.2.0",
          "state": {
            "_model_module": "@jupyter-widgets/base",
            "_model_module_version": "1.2.0",
            "_model_name": "LayoutModel",
            "_view_count": null,
            "_view_module": "@jupyter-widgets/base",
            "_view_module_version": "1.2.0",
            "_view_name": "LayoutView",
            "align_content": null,
            "align_items": null,
            "align_self": null,
            "border": null,
            "bottom": null,
            "display": null,
            "flex": null,
            "flex_flow": null,
            "grid_area": null,
            "grid_auto_columns": null,
            "grid_auto_flow": null,
            "grid_auto_rows": null,
            "grid_column": null,
            "grid_gap": null,
            "grid_row": null,
            "grid_template_areas": null,
            "grid_template_columns": null,
            "grid_template_rows": null,
            "height": null,
            "justify_content": null,
            "justify_items": null,
            "left": null,
            "margin": null,
            "max_height": null,
            "max_width": null,
            "min_height": null,
            "min_width": null,
            "object_fit": null,
            "object_position": null,
            "order": null,
            "overflow": null,
            "overflow_x": null,
            "overflow_y": null,
            "padding": null,
            "right": null,
            "top": null,
            "visibility": null,
            "width": null
          }
        },
        "97a986c98c3b4cc588693ee0b9034889": {
          "model_module": "@jupyter-widgets/controls",
          "model_name": "ProgressStyleModel",
          "model_module_version": "1.5.0",
          "state": {
            "_model_module": "@jupyter-widgets/controls",
            "_model_module_version": "1.5.0",
            "_model_name": "ProgressStyleModel",
            "_view_count": null,
            "_view_module": "@jupyter-widgets/base",
            "_view_module_version": "1.2.0",
            "_view_name": "StyleView",
            "bar_color": null,
            "description_width": ""
          }
        },
        "ff4373cdd9ea468ea07b2aa86664e4dc": {
          "model_module": "@jupyter-widgets/base",
          "model_name": "LayoutModel",
          "model_module_version": "1.2.0",
          "state": {
            "_model_module": "@jupyter-widgets/base",
            "_model_module_version": "1.2.0",
            "_model_name": "LayoutModel",
            "_view_count": null,
            "_view_module": "@jupyter-widgets/base",
            "_view_module_version": "1.2.0",
            "_view_name": "LayoutView",
            "align_content": null,
            "align_items": null,
            "align_self": null,
            "border": null,
            "bottom": null,
            "display": null,
            "flex": null,
            "flex_flow": null,
            "grid_area": null,
            "grid_auto_columns": null,
            "grid_auto_flow": null,
            "grid_auto_rows": null,
            "grid_column": null,
            "grid_gap": null,
            "grid_row": null,
            "grid_template_areas": null,
            "grid_template_columns": null,
            "grid_template_rows": null,
            "height": null,
            "justify_content": null,
            "justify_items": null,
            "left": null,
            "margin": null,
            "max_height": null,
            "max_width": null,
            "min_height": null,
            "min_width": null,
            "object_fit": null,
            "object_position": null,
            "order": null,
            "overflow": null,
            "overflow_x": null,
            "overflow_y": null,
            "padding": null,
            "right": null,
            "top": null,
            "visibility": null,
            "width": null
          }
        },
        "7e8b71788631427eb5a5dc62fb007e99": {
          "model_module": "@jupyter-widgets/controls",
          "model_name": "DescriptionStyleModel",
          "model_module_version": "1.5.0",
          "state": {
            "_model_module": "@jupyter-widgets/controls",
            "_model_module_version": "1.5.0",
            "_model_name": "DescriptionStyleModel",
            "_view_count": null,
            "_view_module": "@jupyter-widgets/base",
            "_view_module_version": "1.2.0",
            "_view_name": "StyleView",
            "description_width": ""
          }
        },
        "32419bb44f7d40d6bc4ded42f3b96103": {
          "model_module": "@jupyter-widgets/controls",
          "model_name": "HBoxModel",
          "model_module_version": "1.5.0",
          "state": {
            "_dom_classes": [],
            "_model_module": "@jupyter-widgets/controls",
            "_model_module_version": "1.5.0",
            "_model_name": "HBoxModel",
            "_view_count": null,
            "_view_module": "@jupyter-widgets/controls",
            "_view_module_version": "1.5.0",
            "_view_name": "HBoxView",
            "box_style": "",
            "children": [
              "IPY_MODEL_a0247d2aac774dd6962376cf8bf44541",
              "IPY_MODEL_f8e9169b154a4615bd86e7712b8594bb",
              "IPY_MODEL_fdf7284542514cf8b84b4bf4f3840204"
            ],
            "layout": "IPY_MODEL_38571f2c8bf743e18dbbf4352f70fb89"
          }
        },
        "a0247d2aac774dd6962376cf8bf44541": {
          "model_module": "@jupyter-widgets/controls",
          "model_name": "HTMLModel",
          "model_module_version": "1.5.0",
          "state": {
            "_dom_classes": [],
            "_model_module": "@jupyter-widgets/controls",
            "_model_module_version": "1.5.0",
            "_model_name": "HTMLModel",
            "_view_count": null,
            "_view_module": "@jupyter-widgets/controls",
            "_view_module_version": "1.5.0",
            "_view_name": "HTMLView",
            "description": "",
            "description_tooltip": null,
            "layout": "IPY_MODEL_0612d3e2a12c4cad81bb2fcd20a6ae4d",
            "placeholder": "​",
            "style": "IPY_MODEL_843b0c91fd2146b19bb5b85ae88a6e81",
            "value": "100%"
          }
        },
        "f8e9169b154a4615bd86e7712b8594bb": {
          "model_module": "@jupyter-widgets/controls",
          "model_name": "FloatProgressModel",
          "model_module_version": "1.5.0",
          "state": {
            "_dom_classes": [],
            "_model_module": "@jupyter-widgets/controls",
            "_model_module_version": "1.5.0",
            "_model_name": "FloatProgressModel",
            "_view_count": null,
            "_view_module": "@jupyter-widgets/controls",
            "_view_module_version": "1.5.0",
            "_view_name": "ProgressView",
            "bar_style": "success",
            "description": "",
            "description_tooltip": null,
            "layout": "IPY_MODEL_addcf0dd9e514f2abf4fe305da24238f",
            "max": 2694,
            "min": 0,
            "orientation": "horizontal",
            "style": "IPY_MODEL_9ce84b81e2c64182b507e3aa2ec468d0",
            "value": 2694
          }
        },
        "fdf7284542514cf8b84b4bf4f3840204": {
          "model_module": "@jupyter-widgets/controls",
          "model_name": "HTMLModel",
          "model_module_version": "1.5.0",
          "state": {
            "_dom_classes": [],
            "_model_module": "@jupyter-widgets/controls",
            "_model_module_version": "1.5.0",
            "_model_name": "HTMLModel",
            "_view_count": null,
            "_view_module": "@jupyter-widgets/controls",
            "_view_module_version": "1.5.0",
            "_view_name": "HTMLView",
            "description": "",
            "description_tooltip": null,
            "layout": "IPY_MODEL_3fb31a07978449d1ba061172fab045dc",
            "placeholder": "​",
            "style": "IPY_MODEL_4a1d911025c34bdabf8bbad484f8f436",
            "value": " 2694/2694 [00:07&lt;00:00, 428.15it/s]"
          }
        },
        "38571f2c8bf743e18dbbf4352f70fb89": {
          "model_module": "@jupyter-widgets/base",
          "model_name": "LayoutModel",
          "model_module_version": "1.2.0",
          "state": {
            "_model_module": "@jupyter-widgets/base",
            "_model_module_version": "1.2.0",
            "_model_name": "LayoutModel",
            "_view_count": null,
            "_view_module": "@jupyter-widgets/base",
            "_view_module_version": "1.2.0",
            "_view_name": "LayoutView",
            "align_content": null,
            "align_items": null,
            "align_self": null,
            "border": null,
            "bottom": null,
            "display": null,
            "flex": null,
            "flex_flow": null,
            "grid_area": null,
            "grid_auto_columns": null,
            "grid_auto_flow": null,
            "grid_auto_rows": null,
            "grid_column": null,
            "grid_gap": null,
            "grid_row": null,
            "grid_template_areas": null,
            "grid_template_columns": null,
            "grid_template_rows": null,
            "height": null,
            "justify_content": null,
            "justify_items": null,
            "left": null,
            "margin": null,
            "max_height": null,
            "max_width": null,
            "min_height": null,
            "min_width": null,
            "object_fit": null,
            "object_position": null,
            "order": null,
            "overflow": null,
            "overflow_x": null,
            "overflow_y": null,
            "padding": null,
            "right": null,
            "top": null,
            "visibility": null,
            "width": null
          }
        },
        "0612d3e2a12c4cad81bb2fcd20a6ae4d": {
          "model_module": "@jupyter-widgets/base",
          "model_name": "LayoutModel",
          "model_module_version": "1.2.0",
          "state": {
            "_model_module": "@jupyter-widgets/base",
            "_model_module_version": "1.2.0",
            "_model_name": "LayoutModel",
            "_view_count": null,
            "_view_module": "@jupyter-widgets/base",
            "_view_module_version": "1.2.0",
            "_view_name": "LayoutView",
            "align_content": null,
            "align_items": null,
            "align_self": null,
            "border": null,
            "bottom": null,
            "display": null,
            "flex": null,
            "flex_flow": null,
            "grid_area": null,
            "grid_auto_columns": null,
            "grid_auto_flow": null,
            "grid_auto_rows": null,
            "grid_column": null,
            "grid_gap": null,
            "grid_row": null,
            "grid_template_areas": null,
            "grid_template_columns": null,
            "grid_template_rows": null,
            "height": null,
            "justify_content": null,
            "justify_items": null,
            "left": null,
            "margin": null,
            "max_height": null,
            "max_width": null,
            "min_height": null,
            "min_width": null,
            "object_fit": null,
            "object_position": null,
            "order": null,
            "overflow": null,
            "overflow_x": null,
            "overflow_y": null,
            "padding": null,
            "right": null,
            "top": null,
            "visibility": null,
            "width": null
          }
        },
        "843b0c91fd2146b19bb5b85ae88a6e81": {
          "model_module": "@jupyter-widgets/controls",
          "model_name": "DescriptionStyleModel",
          "model_module_version": "1.5.0",
          "state": {
            "_model_module": "@jupyter-widgets/controls",
            "_model_module_version": "1.5.0",
            "_model_name": "DescriptionStyleModel",
            "_view_count": null,
            "_view_module": "@jupyter-widgets/base",
            "_view_module_version": "1.2.0",
            "_view_name": "StyleView",
            "description_width": ""
          }
        },
        "addcf0dd9e514f2abf4fe305da24238f": {
          "model_module": "@jupyter-widgets/base",
          "model_name": "LayoutModel",
          "model_module_version": "1.2.0",
          "state": {
            "_model_module": "@jupyter-widgets/base",
            "_model_module_version": "1.2.0",
            "_model_name": "LayoutModel",
            "_view_count": null,
            "_view_module": "@jupyter-widgets/base",
            "_view_module_version": "1.2.0",
            "_view_name": "LayoutView",
            "align_content": null,
            "align_items": null,
            "align_self": null,
            "border": null,
            "bottom": null,
            "display": null,
            "flex": null,
            "flex_flow": null,
            "grid_area": null,
            "grid_auto_columns": null,
            "grid_auto_flow": null,
            "grid_auto_rows": null,
            "grid_column": null,
            "grid_gap": null,
            "grid_row": null,
            "grid_template_areas": null,
            "grid_template_columns": null,
            "grid_template_rows": null,
            "height": null,
            "justify_content": null,
            "justify_items": null,
            "left": null,
            "margin": null,
            "max_height": null,
            "max_width": null,
            "min_height": null,
            "min_width": null,
            "object_fit": null,
            "object_position": null,
            "order": null,
            "overflow": null,
            "overflow_x": null,
            "overflow_y": null,
            "padding": null,
            "right": null,
            "top": null,
            "visibility": null,
            "width": null
          }
        },
        "9ce84b81e2c64182b507e3aa2ec468d0": {
          "model_module": "@jupyter-widgets/controls",
          "model_name": "ProgressStyleModel",
          "model_module_version": "1.5.0",
          "state": {
            "_model_module": "@jupyter-widgets/controls",
            "_model_module_version": "1.5.0",
            "_model_name": "ProgressStyleModel",
            "_view_count": null,
            "_view_module": "@jupyter-widgets/base",
            "_view_module_version": "1.2.0",
            "_view_name": "StyleView",
            "bar_color": null,
            "description_width": ""
          }
        },
        "3fb31a07978449d1ba061172fab045dc": {
          "model_module": "@jupyter-widgets/base",
          "model_name": "LayoutModel",
          "model_module_version": "1.2.0",
          "state": {
            "_model_module": "@jupyter-widgets/base",
            "_model_module_version": "1.2.0",
            "_model_name": "LayoutModel",
            "_view_count": null,
            "_view_module": "@jupyter-widgets/base",
            "_view_module_version": "1.2.0",
            "_view_name": "LayoutView",
            "align_content": null,
            "align_items": null,
            "align_self": null,
            "border": null,
            "bottom": null,
            "display": null,
            "flex": null,
            "flex_flow": null,
            "grid_area": null,
            "grid_auto_columns": null,
            "grid_auto_flow": null,
            "grid_auto_rows": null,
            "grid_column": null,
            "grid_gap": null,
            "grid_row": null,
            "grid_template_areas": null,
            "grid_template_columns": null,
            "grid_template_rows": null,
            "height": null,
            "justify_content": null,
            "justify_items": null,
            "left": null,
            "margin": null,
            "max_height": null,
            "max_width": null,
            "min_height": null,
            "min_width": null,
            "object_fit": null,
            "object_position": null,
            "order": null,
            "overflow": null,
            "overflow_x": null,
            "overflow_y": null,
            "padding": null,
            "right": null,
            "top": null,
            "visibility": null,
            "width": null
          }
        },
        "4a1d911025c34bdabf8bbad484f8f436": {
          "model_module": "@jupyter-widgets/controls",
          "model_name": "DescriptionStyleModel",
          "model_module_version": "1.5.0",
          "state": {
            "_model_module": "@jupyter-widgets/controls",
            "_model_module_version": "1.5.0",
            "_model_name": "DescriptionStyleModel",
            "_view_count": null,
            "_view_module": "@jupyter-widgets/base",
            "_view_module_version": "1.2.0",
            "_view_name": "StyleView",
            "description_width": ""
          }
        }
      }
    }
  },
  "nbformat": 4,
  "nbformat_minor": 0
}