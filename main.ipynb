{
  "cells": [
    {
      "cell_type": "code",
      "execution_count": null,
      "metadata": {
        "id": "76HJQ9yr9Rm1"
      },
      "outputs": [],
      "source": [
        "# !pip install pandas\n",
        "# !pip install torch\n",
        "# !pip install tqdm  # pip install ipywidgets or something\n",
        "!pip install wandb\n",
        "!pip install gensim\n",
        "# !pip install torcheval\n",
        "!pip install torchmetrics"
      ]
    },
    {
      "cell_type": "code",
      "execution_count": 2,
      "metadata": {
        "id": "XeFFJzVy9Rm3",
        "colab": {
          "base_uri": "https://localhost:8080/",
          "height": 104
        },
        "outputId": "0d2c71b0-9bbf-4394-bde9-294136af9bcf"
      },
      "outputs": [
        {
          "output_type": "display_data",
          "data": {
            "text/plain": [
              "<IPython.core.display.Javascript object>"
            ],
            "application/javascript": [
              "\n",
              "        window._wandbApiKey = new Promise((resolve, reject) => {\n",
              "            function loadScript(url) {\n",
              "            return new Promise(function(resolve, reject) {\n",
              "                let newScript = document.createElement(\"script\");\n",
              "                newScript.onerror = reject;\n",
              "                newScript.onload = resolve;\n",
              "                document.body.appendChild(newScript);\n",
              "                newScript.src = url;\n",
              "            });\n",
              "            }\n",
              "            loadScript(\"https://cdn.jsdelivr.net/npm/postmate/build/postmate.min.js\").then(() => {\n",
              "            const iframe = document.createElement('iframe')\n",
              "            iframe.style.cssText = \"width:0;height:0;border:none\"\n",
              "            document.body.appendChild(iframe)\n",
              "            const handshake = new Postmate({\n",
              "                container: iframe,\n",
              "                url: 'https://wandb.ai/authorize'\n",
              "            });\n",
              "            const timeout = setTimeout(() => reject(\"Couldn't auto authenticate\"), 5000)\n",
              "            handshake.then(function(child) {\n",
              "                child.on('authorize', data => {\n",
              "                    clearTimeout(timeout)\n",
              "                    resolve(data)\n",
              "                });\n",
              "            });\n",
              "            })\n",
              "        });\n",
              "    "
            ]
          },
          "metadata": {}
        },
        {
          "output_type": "stream",
          "name": "stderr",
          "text": [
            "\u001b[34m\u001b[1mwandb\u001b[0m: Logging into wandb.ai. (Learn how to deploy a W&B server locally: https://wandb.me/wandb-server)\n",
            "\u001b[34m\u001b[1mwandb\u001b[0m: You can find your API key in your browser here: https://wandb.ai/authorize\n",
            "wandb: Paste an API key from your profile and hit enter, or press ctrl+c to quit:"
          ]
        },
        {
          "name": "stdout",
          "output_type": "stream",
          "text": [
            " ··········\n"
          ]
        },
        {
          "output_type": "stream",
          "name": "stderr",
          "text": [
            "\u001b[34m\u001b[1mwandb\u001b[0m: Appending key for api.wandb.ai to your netrc file: /root/.netrc\n"
          ]
        }
      ],
      "source": [
        "USING_WANDB = True  # Set to false if not Peter\n",
        "\n",
        "if USING_WANDB:\n",
        "    import wandb\n",
        "    wandb.login()\n",
        "    # !wandb login"
      ]
    },
    {
      "cell_type": "code",
      "source": [
        "from google.colab import drive\n",
        "drive.mount('/content/drive')"
      ],
      "metadata": {
        "colab": {
          "base_uri": "https://localhost:8080/"
        },
        "id": "lTxLO6GibEAN",
        "outputId": "418478e9-4211-43d7-fb84-eaea53373f43"
      },
      "execution_count": 3,
      "outputs": [
        {
          "output_type": "stream",
          "name": "stdout",
          "text": [
            "Mounted at /content/drive\n"
          ]
        }
      ]
    },
    {
      "cell_type": "code",
      "source": [
        "data_folder = \"/content/drive/MyDrive/dna_ml_model_data\"\n",
        "accessible_file = f\"{data_folder}/accessible.fasta\"  # constants.ACCESSIBLE_FILE\n",
        "reduced_nonaccessible_file = f\"{data_folder}/reduced_nonaccessible.fasta\"  # constants.NONACCESSIBLE_FILE\n",
        "test_file = f\"{data_folder}/test.fasta\"  # constants.TEST_FILE\n",
        "rest_nonaccessible_file = f\"{data_folder}/reduced_nonaccessible.fasta\""
      ],
      "metadata": {
        "id": "zpsAv0N3bHF0"
      },
      "execution_count": 4,
      "outputs": []
    },
    {
      "cell_type": "code",
      "execution_count": 7,
      "metadata": {
        "id": "foXB0nMJ9Rm4",
        "colab": {
          "base_uri": "https://localhost:8080/"
        },
        "outputId": "2fe37da7-8df1-4d00-905a-2ab59f34de32"
      },
      "outputs": [
        {
          "output_type": "execute_result",
          "data": {
            "text/plain": [
              "<module 'CNNModel' from '/content/CNNModel.py'>"
            ]
          },
          "metadata": {},
          "execution_count": 7
        }
      ],
      "source": [
        "import dna_dataset, constants, utils, CNNModel # , LSTMCNNModel\n",
        "import torch.nn as nn, torch.optim as optim, torch\n",
        "from tqdm.notebook import tqdm\n",
        "import importlib, os, numpy as np\n",
        "from datetime import datetime\n",
        "# from torcheval.metrics.functional import multiclass_f1_score\n",
        "from torchmetrics.functional import f1_score\n",
        "\n",
        "importlib.reload(dna_dataset)\n",
        "importlib.reload(constants)\n",
        "importlib.reload(utils)\n",
        "importlib.reload(CNNModel)\n",
        "# importlib.reload(LSTMCNNModel)"
      ]
    },
    {
      "cell_type": "code",
      "execution_count": null,
      "metadata": {
        "id": "oJn5c8qK-APD"
      },
      "outputs": [],
      "source": [
        "# !mkdir Files\n",
        "# !mv reduced_nonaccessible.fasta Files\n",
        "# !mv accessible.fasta Files\n",
        "# !mv test.fasta Files"
      ]
    },
    {
      "cell_type": "markdown",
      "metadata": {
        "id": "LFk_Lek79Rm5"
      },
      "source": [
        "Unzip the datafile"
      ]
    },
    {
      "cell_type": "code",
      "execution_count": null,
      "metadata": {
        "id": "gxjgFVQv9Rm6"
      },
      "outputs": [],
      "source": [
        "!unzip $constants.DATA_ZIP_FILE"
      ]
    },
    {
      "cell_type": "code",
      "execution_count": 8,
      "metadata": {
        "id": "VRsIPhjS9Rm6"
      },
      "outputs": [],
      "source": [
        "device = \"cuda\" if torch.cuda.is_available() else \"cpu\""
      ]
    },
    {
      "cell_type": "code",
      "execution_count": 9,
      "metadata": {
        "id": "wApXJhry9Rm6"
      },
      "outputs": [],
      "source": [
        "full_dataset = dna_dataset.DNADataset(accessible_file, reduced_nonaccessible_file)"
      ]
    },
    {
      "cell_type": "code",
      "execution_count": 10,
      "metadata": {
        "id": "qrCkS5X19Rm6",
        "colab": {
          "base_uri": "https://localhost:8080/"
        },
        "outputId": "464cff10-c768-4386-ad72-6aac033f1313"
      },
      "outputs": [
        {
          "output_type": "stream",
          "name": "stdout",
          "text": [
            "total sequences 94478\n",
            "num accessible 47239\n",
            "num not accessible 47239\n",
            "example entry 0\n",
            "label 0\n",
            "shuffled\n"
          ]
        }
      ],
      "source": [
        "# ensure the DNADataset is loaded properly\n",
        "print('total sequences', len(full_dataset.sequences))\n",
        "print('num accessible', full_dataset.accessible_count)\n",
        "print('num not accessible', full_dataset.not_accessible_count)\n",
        "i = 0\n",
        "print(f\"example entry {i}\")\n",
        "item = full_dataset[i]\n",
        "print(\"label\", item['labels'])\n",
        "# print(item['sequences'])\n",
        "\n",
        "# ensure dataset was shuffled properly\n",
        "# check that not all the accessible labels are at the front\n",
        "for i in range(full_dataset.accessible_count):\n",
        "    if full_dataset[i]['labels'] != constants.ACCESSIBLE_LABEL:\n",
        "        print('shuffled')\n",
        "        break"
      ]
    },
    {
      "cell_type": "code",
      "execution_count": 11,
      "metadata": {
        "id": "qX76lE8Y9Rm7",
        "colab": {
          "base_uri": "https://localhost:8080/"
        },
        "outputId": "502717c1-0322-491b-97a8-be5d1d333540"
      },
      "outputs": [
        {
          "output_type": "stream",
          "name": "stdout",
          "text": [
            "66135 14171 14172\n"
          ]
        }
      ],
      "source": [
        "# Split dataset\n",
        "full_size = len(full_dataset)\n",
        "temp_size = round(constants.VALIDATION_SPLIT * 2 * full_size)  # * 2 for both validation and test split\n",
        "train_size = full_size - temp_size\n",
        "\n",
        "train_dataset, temp_dataset = torch.utils.data.random_split(full_dataset, [train_size, temp_size])\n",
        "\n",
        "val_size = temp_size // 2\n",
        "test_size = temp_size - val_size\n",
        "assert(val_size + test_size == temp_size)\n",
        "\n",
        "val_dataset, test_dataset = torch.utils.data.random_split(temp_dataset, [val_size, test_size])\n",
        "\n",
        "print(len(train_dataset), len(val_dataset), len(test_dataset))\n",
        "assert(len(train_dataset) + len(val_dataset) + len(test_dataset) == full_size)"
      ]
    },
    {
      "cell_type": "code",
      "execution_count": 48,
      "metadata": {
        "id": "l7SLRPi59Rm7",
        "colab": {
          "base_uri": "https://localhost:8080/"
        },
        "outputId": "dd2afa23-0395-44ef-c791-44c80be7528a"
      },
      "outputs": [
        {
          "output_type": "execute_result",
          "data": {
            "text/plain": [
              "CNNModel(\n",
              "  (Conv1): Conv1d(4, 64, kernel_size=(3,), stride=(1,), padding=(1,))\n",
              "  (pool): MaxPool1d(kernel_size=2, stride=2, padding=0, dilation=1, ceil_mode=False)\n",
              "  (Conv2): Conv1d(64, 128, kernel_size=(3,), stride=(1,), padding=(1,))\n",
              "  (flatten): Flatten(start_dim=1, end_dim=-1)\n",
              "  (linear1): Linear(in_features=6400, out_features=64, bias=True)\n",
              "  (linear2): Linear(in_features=64, out_features=32, bias=True)\n",
              "  (linear3): Linear(in_features=32, out_features=1, bias=True)\n",
              "  (batch_norm): BatchNorm1d(128, eps=1e-05, momentum=0.1, affine=True, track_running_stats=True)\n",
              "  (dropout_Dense): Dropout(p=0.5, inplace=False)\n",
              "  (sigmoid): Sigmoid()\n",
              ")"
            ]
          },
          "metadata": {},
          "execution_count": 48
        }
      ],
      "source": [
        "importlib.reload(CNNModel)\n",
        "torch.manual_seed(0)\n",
        "\n",
        "kernel_size = 3     # 2  # should use odd size\n",
        "embed_dim = 4  # 4\n",
        "num_filters1 = 64  # 128\n",
        "num_filters2 = 128  # 64\n",
        "pool_kernel_size = 2  # 2\n",
        "hidden_dense1 = 64  # 128\n",
        "hidden_dense2 = 32  # 64\n",
        "dropout_rate_Dense = 0.5  # .5\n",
        "\n",
        "# insert torch model here, that takes sequence as input and output a label 0 or 1\n",
        "model = CNNModel.CNNModel(kernel_size,\n",
        "                           embed_dim,\n",
        "                           num_filters1,\n",
        "                           num_filters2,\n",
        "                           pool_kernel_size,\n",
        "                           hidden_dense1,\n",
        "                           hidden_dense2,\n",
        "                           dropout_rate_Dense\n",
        "                           )\n",
        "\n",
        "# importlib.reload(LSTMCNNModel)\n",
        "# model = LSTMCNNModel.LSTMCNNModel(\n",
        "#                             kernel_size=2,\n",
        "#                             embed_dim=4,\n",
        "#                             num_filters1=128,\n",
        "#                             num_filters2=64,\n",
        "#                             pool_kernel_size=2,\n",
        "#                             hidden_dense1=128,\n",
        "#                             hidden_dense2=64,\n",
        "#                             dropout_rate_Dense=0.5,\n",
        "#                             lstm_units=1\n",
        "# )\n",
        "\n",
        "model.to(device)"
      ]
    },
    {
      "cell_type": "code",
      "execution_count": 49,
      "metadata": {
        "id": "uuRPn9rw9Rm8"
      },
      "outputs": [],
      "source": [
        "# parameters\n",
        "epochs = 20\n",
        "batch_size = 64\n",
        "learning_rate = .0001\n",
        "# n_eval = constants.N_EVAL\n",
        "loss_fn = nn.BCELoss()\n",
        "optimizer = optim.AdamW(model.parameters(), lr=learning_rate)  # weight_decay=1\n",
        "# optimizer = optim.Adam(model.parameters(), lr=learning_rate, weight_decay=.01)  # weight_decay=1\n",
        "# optimizer = optim.SGD(model.parameters(), lr=learning_rate)  # pretty bad"
      ]
    },
    {
      "cell_type": "code",
      "execution_count": 50,
      "metadata": {
        "id": "XsGb6Nm49Rm8"
      },
      "outputs": [],
      "source": [
        "train_loader = torch.utils.data.DataLoader(\n",
        "    train_dataset, batch_size=batch_size, # shuffle=True\n",
        ")\n",
        "val_loader = torch.utils.data.DataLoader(\n",
        "    val_dataset, batch_size=batch_size, # shuffle=True\n",
        ")\n",
        "test_loader = torch.utils.data.DataLoader(\n",
        "    test_dataset, batch_size=batch_size, # shuffle=True\n",
        ")"
      ]
    },
    {
      "cell_type": "code",
      "execution_count": null,
      "metadata": {
        "id": "8z_gnhTp9Rm8"
      },
      "outputs": [],
      "source": [
        "# TRAINING LOOP\n",
        "# USING_WANDB = False\n",
        "if USING_WANDB:\n",
        "\n",
        "    note = f\"{optimizer.__class__.__name__}-{kernel_size}-kernel-{num_filters1}-{num_filters2}-conv-{hidden_dense1}-{hidden_dense2}-dense\" # \"lstm_no_dropout\" # \"0.5_dropout\"\n",
        "    wandb.init(\n",
        "        project=\"dna_ml_model\",\n",
        "        # name=f\"experiment_{run}\"\n",
        "        name=f\"{note}\",\n",
        "        settings=wandb.Settings(start_method=\"fork\"),\n",
        "        config = {\n",
        "            \"architecture\": model.__class__.__name__,\n",
        "            \"epochs\": epochs,\n",
        "            \"learning_rate\": learning_rate,\n",
        "            \"batch_size\": batch_size,\n",
        "            \"optimizer\": optimizer.__class__.__name__,\n",
        "            \"notes\": note\n",
        "    })\n",
        "\n",
        "\n",
        "# step = 0\n",
        "best_acc = 0.0\n",
        "\n",
        "for epoch in range(epochs):\n",
        "    print(f\"Epoch {epoch + 1} of {epochs}\")\n",
        "\n",
        "    running_loss = 0.0\n",
        "    running_corrects = 0.0\n",
        "    total_outputs = torch.empty(0).to(device)\n",
        "    total_labels = torch.empty(0).to(device)\n",
        "\n",
        "    model.train()\n",
        "    for batch in tqdm(train_loader):  # show the times for each batch\n",
        "        # Forward propagate\n",
        "        samples, labels = batch[\"sequences\"].to(device), batch['labels'].to(device)\n",
        "\n",
        "        outputs = model(samples)\n",
        "        labels = labels.reshape(-1,1).float()\n",
        "\n",
        "        # Backpropagation and gradient descent\n",
        "        loss = loss_fn(outputs, labels)\n",
        "        loss.backward()\n",
        "        optimizer.step()\n",
        "        optimizer.zero_grad()  # reset gradients before next iteration\n",
        "\n",
        "        running_loss += loss.item() * samples.size(0)  # loss per sample times batch size\n",
        "\n",
        "        preds = torch.round(outputs)\n",
        "        running_corrects += torch.sum(preds == labels.data).item()\n",
        "\n",
        "        total_outputs = torch.cat((total_outputs, outputs))\n",
        "        total_labels = torch.cat((total_labels, labels))\n",
        "\n",
        "    train_f1 = f1_score(total_outputs.flatten(), total_labels.flatten(), task=\"binary\", num_classes=2).item()\n",
        "\n",
        "\n",
        "    # if step % n_eval == 0:\n",
        "    # Compute training loss and accuracy.\n",
        "    with torch.no_grad():\n",
        "        model.eval()\n",
        "        # Compute validation loss and accuracy.\n",
        "        # accuracy = utils.compute_accuracy(outputs, labels)  # only does current batch\n",
        "        val_loss, val_acc, val_f1 = utils.evaluate(val_loader, model, loss_fn, device)\n",
        "\n",
        "        epoch_loss = running_loss / len(train_dataset)\n",
        "        epoch_acc = running_corrects / len(train_dataset)\n",
        "        print(f\"Training Loss: {epoch_loss:.4f} Acc: {epoch_acc:.4f} F1: {train_f1:.4f}\")\n",
        "        print(f\"Validation Loss: {val_loss:.4f} Acc: {val_acc:.4f} F1: {val_f1:.4f}\")\n",
        "\n",
        "        # # deep copy the model\n",
        "        # if val_accuracy > best_acc:\n",
        "        #     best_acc = epoch_acc\n",
        "        #     torch.save(model.state_dict(), best_model_params_path)\n",
        "\n",
        "        if USING_WANDB:\n",
        "            wandb.log({\"Train Loss\": epoch_loss,\n",
        "                        \"Train Acc\": epoch_acc,\n",
        "                        \"Val Loss\": val_loss,\n",
        "                        \"Val Acc\": val_acc,\n",
        "                       \"Train F1\": train_f1,\n",
        "                       \"Val F1\": val_f1,\n",
        "                      #  \"Epoch\": epoch\n",
        "            })\n",
        "        # step += 1\n",
        "\n",
        "    print()"
      ]
    },
    {
      "cell_type": "code",
      "execution_count": null,
      "metadata": {
        "id": "BMFy_P4E9Rm9"
      },
      "outputs": [],
      "source": [
        "# INFERENCE\n",
        "\n",
        "total_predictions = 0\n",
        "total_correct = 0\n",
        "\n",
        "model.eval()\n",
        "\n",
        "for batch in tqdm(test_loader):\n",
        "    test_samples, test_labels = batch['sequences'].to(device), batch['labels'].to(device)\n",
        "    test_outputs = model(test_samples)\n",
        "    # print(torch.round(val_outputs))\n",
        "    test_labels = test_labels.reshape(-1, 1).float()\n",
        "\n",
        "    test_loss = loss_fn(test_outputs, test_labels).item()  # change tensor to single val\n",
        "\n",
        "    total_correct += (torch.round(test_outputs) == test_labels).sum().item()\n",
        "\n",
        "    total_predictions += len(test_outputs)\n",
        "\n",
        "model.train()\n",
        "test_accuracy = total_correct / total_predictions\n",
        "print(f\"Final Test Accuracy: {test_accuracy * 100} %\")\n",
        "\n",
        "wandb.summary['test_accuracy'] = test_accuracy\n"
      ]
    },
    {
      "cell_type": "code",
      "source": [
        "# test on rest of nonaccessible\n",
        "rest_nonacc_dataset = dna_dataset.TestDataset(rest_nonaccessible_file)\n",
        "rest_nonacc_loader = torch.utils.data.DataLoader(\n",
        "    rest_nonacc_dataset, batch_size=batch_size, # shuffle=True\n",
        ")"
      ],
      "metadata": {
        "id": "XgfpFLNzU6mX"
      },
      "execution_count": 17,
      "outputs": []
    },
    {
      "cell_type": "code",
      "source": [
        "probs_out = []  # tuples of probability, id\n",
        "\n",
        "for batch in tqdm(rest_nonacc_loader):\n",
        "    samples, _ = batch[\"sequences\"].to(device), batch['ids'] # not a tensor\n",
        "    outputs = model(samples)\n",
        "    out_list = outputs.tolist()\n",
        "\n",
        "    for i in range(len(out_list)):\n",
        "        probs_out.append(out_list[i])\n",
        "\n",
        "probs_out = np.array(probs_out)\n",
        "falses = len(probs_out[probs_out<0.5])\n",
        "print(\"correctly predicted \", falses, \" non_accessible values out of \", len(probs_out), \" total\")\n",
        "rest_correct = falses / len(probs_out)\n",
        "\n",
        "print(rest_correct, \" correct\")\n",
        "\n",
        "wandb.summary['rest_nonacc_accuracy'] = rest_correct\n",
        "\n",
        "wandb.finish()"
      ],
      "metadata": {
        "id": "p7fN6PocVSBx"
      },
      "execution_count": null,
      "outputs": []
    },
    {
      "cell_type": "markdown",
      "metadata": {
        "id": "0s7XLQeg9Rm8"
      },
      "source": [
        "Save Model"
      ]
    },
    {
      "cell_type": "code",
      "execution_count": 54,
      "metadata": {
        "id": "aMXK8qqk9Rm8",
        "colab": {
          "base_uri": "https://localhost:8080/"
        },
        "outputId": "c23ccf2c-204a-4f63-db5d-77062307751f"
      },
      "outputs": [
        {
          "output_type": "stream",
          "name": "stdout",
          "text": [
            "model_save_path pretrained/AdamW-3-kernel-64-128-conv-64-32-dense01-02-21-24-36-CNNModel-model-0.0001lr-20epochs.pt\n",
            "model saved at 01-02-21-24-36\n"
          ]
        }
      ],
      "source": [
        "# Create pretrained directory if not yet created\n",
        "if not os.path.isdir(constants.PRETRAINED_DIR):\n",
        "    os.mkdir(constants.PRETRAINED_DIR)\n",
        "\n",
        "now = datetime.now()\n",
        "datetime_str = now.strftime(\"%m-%d-%H-%M-%S\")\n",
        "model_save_path = os.path.join(\n",
        "    constants.PRETRAINED_DIR,\n",
        "    f'{note}{datetime_str}-{model.__class__.__name__}-model-{learning_rate}lr-{epochs}epochs.pt'\n",
        ")\n",
        "print('model_save_path', model_save_path)\n",
        "CNNModel.save_CNNModel(model_save_path, model)\n",
        "print(f\"model saved at {datetime_str}\")"
      ]
    },
    {
      "cell_type": "markdown",
      "metadata": {
        "id": "r8GFj5Dc9Rm8"
      },
      "source": [
        "Load Model"
      ]
    },
    {
      "cell_type": "code",
      "execution_count": null,
      "metadata": {
        "id": "QwvJ7kqk9Rm8"
      },
      "outputs": [],
      "source": [
        "model_save_path = \"/content/pretrained/12-10-05-30-17-CNNModel-model-10-epochs.pt\"\n",
        "model = CNNModel.load_CNNModel(model_save_path)\n",
        "model.to(device)"
      ]
    },
    {
      "cell_type": "markdown",
      "metadata": {
        "id": "8gWP9UWn9Rm9"
      },
      "source": [
        "Inference on Test File"
      ]
    },
    {
      "cell_type": "code",
      "execution_count": 55,
      "metadata": {
        "id": "apmvzG7E9Rm9",
        "colab": {
          "base_uri": "https://localhost:8080/"
        },
        "outputId": "adce6fcb-1d4d-453d-afec-85a6c08b402c"
      },
      "outputs": [
        {
          "output_type": "stream",
          "name": "stdout",
          "text": [
            "Competition dataset loaded.\n"
          ]
        }
      ],
      "source": [
        "competition_dataset = dna_dataset.TestDataset(test_file)\n",
        "competition_loader = torch.utils.data.DataLoader(\n",
        "    competition_dataset, batch_size=batch_size, # shuffle=True\n",
        ")\n",
        "print(\"Competition dataset loaded.\")"
      ]
    },
    {
      "cell_type": "code",
      "execution_count": null,
      "metadata": {
        "id": "9qT3UBun9Rm9"
      },
      "outputs": [],
      "source": [
        "probs = []  # tuples of probability, id\n",
        "\n",
        "for batch in tqdm(competition_loader):\n",
        "\n",
        "    samples, ids = batch[\"sequences\"].to(device), batch['ids'] # not a tensor\n",
        "\n",
        "    outputs = model(samples)\n",
        "\n",
        "    out_list = outputs.tolist()\n",
        "\n",
        "    for i in range(len(out_list)):\n",
        "        probs.append((out_list[i], ids[i]))\n",
        "\n",
        "print(\"Finished inference\")"
      ]
    },
    {
      "cell_type": "code",
      "execution_count": 57,
      "metadata": {
        "colab": {
          "base_uri": "https://localhost:8080/"
        },
        "id": "Rd2EaK1Z9Rm9",
        "outputId": "6640678a-dea1-4d64-bdf7-15d0c8391a78"
      },
      "outputs": [
        {
          "output_type": "stream",
          "name": "stdout",
          "text": [
            "56806 true values out of  269315  total\n",
            "[1.65736438e-10 7.24961313e-10 3.21334293e-09 ... 5.00000000e-01\n",
            " 5.00000000e-01 5.00000000e-01]\n",
            "[0.99999392 0.99999309 0.99997628 ... 0.50003499 0.50003403 0.50001884]\n"
          ]
        }
      ],
      "source": [
        "import numpy as np\n",
        "np_probs = np.array(list(zip(*probs))[0])\n",
        "print(len(np_probs[np_probs>0.5]), \"true values out of \", len(np_probs), \" total\")\n",
        "not_zero = np_probs[np_probs<=0.5]\n",
        "not_zero.sort()\n",
        "not_one = np_probs[np_probs>0.5]\n",
        "not_one[::-1].sort()\n",
        "print(not_zero)\n",
        "print(not_one)\n",
        "\n",
        "# print(np_probs[np_probs>0.0 and np_probs<1.0])"
      ]
    },
    {
      "cell_type": "code",
      "execution_count": null,
      "metadata": {
        "id": "FG7R8WVS9Rm9"
      },
      "outputs": [],
      "source": [
        "probs.sort(reverse=True)\n",
        "\n",
        "highest_probs = probs[:10000]  # top 10,000\n",
        "\n",
        "with open(constants.SOLUTION_FILE, \"w\") as f:\n",
        "    for pair in highest_probs:\n",
        "        f.write(pair[1])\n",
        "        # f.write(\"a\")\n",
        "        f.write(\"\\n\")\n",
        "print(\"first 10\\n\", list(zip(*probs[:10]))[0])\n",
        "print(\"last 10\\n\", list(zip(*probs[9990:10000]))[0])  # probs only"
      ]
    },
    {
      "cell_type": "code",
      "execution_count": null,
      "metadata": {
        "colab": {
          "base_uri": "https://localhost:8080/"
        },
        "id": "svW_tShqO9tN",
        "outputId": "a9f4ac2e-5070-4a8f-8d1a-c441f995c085"
      },
      "outputs": [
        {
          "output_type": "stream",
          "name": "stdout",
          "text": [
            "  adding: predictions.csv (deflated 65%)\n"
          ]
        }
      ],
      "source": [
        "zip_file_name = \"predictions.zip\"\n",
        "!zip $zip_file_name $constants.SOLUTION_FILE\n"
      ]
    },
    {
      "cell_type": "code",
      "execution_count": null,
      "metadata": {
        "colab": {
          "base_uri": "https://localhost:8080/",
          "height": 17
        },
        "id": "wbEhngYS9Rm9",
        "outputId": "c0aed455-b2f4-45ee-bdb3-951c28840f1a"
      },
      "outputs": [
        {
          "output_type": "display_data",
          "data": {
            "text/plain": [
              "<IPython.core.display.Javascript object>"
            ],
            "application/javascript": [
              "\n",
              "    async function download(id, filename, size) {\n",
              "      if (!google.colab.kernel.accessAllowed) {\n",
              "        return;\n",
              "      }\n",
              "      const div = document.createElement('div');\n",
              "      const label = document.createElement('label');\n",
              "      label.textContent = `Downloading \"${filename}\": `;\n",
              "      div.appendChild(label);\n",
              "      const progress = document.createElement('progress');\n",
              "      progress.max = size;\n",
              "      div.appendChild(progress);\n",
              "      document.body.appendChild(div);\n",
              "\n",
              "      const buffers = [];\n",
              "      let downloaded = 0;\n",
              "\n",
              "      const channel = await google.colab.kernel.comms.open(id);\n",
              "      // Send a message to notify the kernel that we're ready.\n",
              "      channel.send({})\n",
              "\n",
              "      for await (const message of channel.messages) {\n",
              "        // Send a message to notify the kernel that we're ready.\n",
              "        channel.send({})\n",
              "        if (message.buffers) {\n",
              "          for (const buffer of message.buffers) {\n",
              "            buffers.push(buffer);\n",
              "            downloaded += buffer.byteLength;\n",
              "            progress.value = downloaded;\n",
              "          }\n",
              "        }\n",
              "      }\n",
              "      const blob = new Blob(buffers, {type: 'application/binary'});\n",
              "      const a = document.createElement('a');\n",
              "      a.href = window.URL.createObjectURL(blob);\n",
              "      a.download = filename;\n",
              "      div.appendChild(a);\n",
              "      a.click();\n",
              "      div.remove();\n",
              "    }\n",
              "  "
            ]
          },
          "metadata": {}
        },
        {
          "output_type": "display_data",
          "data": {
            "text/plain": [
              "<IPython.core.display.Javascript object>"
            ],
            "application/javascript": [
              "download(\"download_e3b2724d-3383-46bc-8682-8adac702d515\", \"0.0001lr-64batch_size12-12-02-19-27-CNNModel-model-0.0001lr-20epochs.pt\", 1751728)"
            ]
          },
          "metadata": {}
        }
      ],
      "source": [
        "# ONLY for use on google colab. download files\n",
        "from google.colab import files\n",
        "import os\n",
        "dir = 'pretrained'\n",
        "model_file = os.path.join(dir, os.listdir(dir)[0])\n",
        "files.download(model_file)"
      ]
    },
    {
      "cell_type": "code",
      "execution_count": null,
      "metadata": {
        "colab": {
          "base_uri": "https://localhost:8080/",
          "height": 17
        },
        "id": "-n5ZovGlABTe",
        "outputId": "af19813d-03d4-4503-ee82-c5570da44c85"
      },
      "outputs": [
        {
          "output_type": "display_data",
          "data": {
            "text/plain": [
              "<IPython.core.display.Javascript object>"
            ],
            "application/javascript": [
              "\n",
              "    async function download(id, filename, size) {\n",
              "      if (!google.colab.kernel.accessAllowed) {\n",
              "        return;\n",
              "      }\n",
              "      const div = document.createElement('div');\n",
              "      const label = document.createElement('label');\n",
              "      label.textContent = `Downloading \"${filename}\": `;\n",
              "      div.appendChild(label);\n",
              "      const progress = document.createElement('progress');\n",
              "      progress.max = size;\n",
              "      div.appendChild(progress);\n",
              "      document.body.appendChild(div);\n",
              "\n",
              "      const buffers = [];\n",
              "      let downloaded = 0;\n",
              "\n",
              "      const channel = await google.colab.kernel.comms.open(id);\n",
              "      // Send a message to notify the kernel that we're ready.\n",
              "      channel.send({})\n",
              "\n",
              "      for await (const message of channel.messages) {\n",
              "        // Send a message to notify the kernel that we're ready.\n",
              "        channel.send({})\n",
              "        if (message.buffers) {\n",
              "          for (const buffer of message.buffers) {\n",
              "            buffers.push(buffer);\n",
              "            downloaded += buffer.byteLength;\n",
              "            progress.value = downloaded;\n",
              "          }\n",
              "        }\n",
              "      }\n",
              "      const blob = new Blob(buffers, {type: 'application/binary'});\n",
              "      const a = document.createElement('a');\n",
              "      a.href = window.URL.createObjectURL(blob);\n",
              "      a.download = filename;\n",
              "      div.appendChild(a);\n",
              "      a.click();\n",
              "      div.remove();\n",
              "    }\n",
              "  "
            ]
          },
          "metadata": {}
        },
        {
          "output_type": "display_data",
          "data": {
            "text/plain": [
              "<IPython.core.display.Javascript object>"
            ],
            "application/javascript": [
              "download(\"download_b50dd548-ba98-47e0-9ca2-4028f9483728\", \"predictions.zip\", 33497)"
            ]
          },
          "metadata": {}
        }
      ],
      "source": [
        "files.download(zip_file_name)"
      ]
    },
    {
      "cell_type": "code",
      "execution_count": null,
      "metadata": {
        "id": "5cZo5-r0JUaY"
      },
      "outputs": [],
      "source": []
    }
  ],
  "metadata": {
    "accelerator": "GPU",
    "colab": {
      "gpuType": "T4",
      "provenance": []
    },
    "kernelspec": {
      "display_name": "Python 3",
      "name": "python3"
    },
    "language_info": {
      "codemirror_mode": {
        "name": "ipython",
        "version": 3
      },
      "file_extension": ".py",
      "mimetype": "text/x-python",
      "name": "python",
      "nbconvert_exporter": "python",
      "pygments_lexer": "ipython3",
      "version": "3.11.5"
    }
  },
  "nbformat": 4,
  "nbformat_minor": 0
}